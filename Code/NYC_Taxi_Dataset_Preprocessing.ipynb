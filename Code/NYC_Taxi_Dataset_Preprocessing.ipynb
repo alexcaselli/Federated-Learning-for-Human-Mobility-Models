{
  "nbformat": 4,
  "nbformat_minor": 0,
  "metadata": {
    "colab": {
      "name": "NYC_Taxi_Dataset_Preprocessing.ipynb",
      "provenance": []
    },
    "kernelspec": {
      "name": "python3",
      "display_name": "Python 3"
    }
  },
  "cells": [
    {
      "cell_type": "markdown",
      "metadata": {
        "id": "114ayRZRLiIV"
      },
      "source": [
        "### Imports"
      ]
    },
    {
      "cell_type": "code",
      "metadata": {
        "id": "VxN3oGVaCaiS"
      },
      "source": [
        "!pip install pyshp\n",
        "!pip install haversine\n",
        "!pip install geopandas\n",
        "!pip install pygeos"
      ],
      "execution_count": null,
      "outputs": []
    },
    {
      "cell_type": "code",
      "metadata": {
        "id": "Vcmo_cKrInMd"
      },
      "source": [
        "!sudo apt install libspatialindex-dev"
      ],
      "execution_count": null,
      "outputs": []
    },
    {
      "cell_type": "code",
      "metadata": {
        "id": "XLZ8aicbIstr"
      },
      "source": [
        "!pip install Rtree"
      ],
      "execution_count": null,
      "outputs": []
    },
    {
      "cell_type": "code",
      "metadata": {
        "id": "gGkwKfqGfFof"
      },
      "source": [
        "# Imports\n",
        "import pandas as pd\n",
        "import numpy as np\n",
        "import urllib.request\n",
        "import zipfile\n",
        "import random\n",
        "import itertools\n",
        "import math\n",
        "from tqdm import tqdm\n",
        "import time\n",
        "from datetime import datetime\n",
        "import timeit\n",
        "import gc\n",
        "\n",
        "# libraries to visualize data\n",
        "import shapefile\n",
        "from shapely.geometry import Polygon\n",
        "from descartes.patch import PolygonPatch\n",
        "import matplotlib as mpl\n",
        "import matplotlib.pyplot as plt\n",
        "plt.style.use('ggplot')\n",
        "%matplotlib inline\n",
        "\n",
        "# Access to a database to operate on big data\n",
        "import sqlalchemy\n",
        "from sqlalchemy import create_engine\n",
        "nyc_database = create_engine('sqlite:///nyc_database.db')\n",
        "\n",
        "# compute additional features\n",
        "from haversine import haversine\n",
        "from pandas import DataFrame\n",
        "from numba import njit\n",
        "from math import radians, cos, sin, asin, sqrt\n"
      ],
      "execution_count": null,
      "outputs": []
    },
    {
      "cell_type": "markdown",
      "metadata": {
        "id": "GmVGw_Qr1r4c"
      },
      "source": [
        "# Pre-Processing Pipeline"
      ]
    },
    {
      "cell_type": "markdown",
      "metadata": {
        "id": "eupnxOb45Cn8"
      },
      "source": [
        "## Import the dataset into the database"
      ]
    },
    {
      "cell_type": "code",
      "metadata": {
        "id": "RD6v7eu65HOH"
      },
      "source": [
        "# Insert datasets to the db\n",
        "# Insert datasets from january to ....\n",
        "months = 2\n",
        "j, chunksize = 1, 100000\n",
        "for month in range(1,months):\n",
        "    fp = \"/Users/AAAA/Desktop/Datasets/NYC_2013/trip_data_{0}.csv\".format(month)\n",
        "    for df in pd.read_csv(fp, chunksize=chunksize, iterator=True):\n",
        "        df = df.rename(columns={c: c.replace(' ', '_') for c in df.columns})\n",
        "        df['pickup_hour'] = [x[11:16] for x in df['pickup_datetime']]\n",
        "        df['dropoff_hour'] = [x[11:16] for x in df['dropoff_datetime']]\n",
        "        df['pickup_date'] = [x[0:11] for x in df['pickup_datetime']]\n",
        "        df['dropoff_date'] = [x[0:11] for x in df['dropoff_datetime']]\n",
        "        df.drop(['vendor_id', 'rate_code', 'store_and_fwd_flag', 'trip_time_in_secs'], axis=1, inplace=True)\n",
        "        df.index += j\n",
        "        df.to_sql('trip_record', nyc_database, if_exists='append')\n",
        "        j = df.index[-1] + 1\n",
        "del df"
      ],
      "execution_count": null,
      "outputs": []
    },
    {
      "cell_type": "code",
      "metadata": {
        "id": "HVW1xqgS5Z60"
      },
      "source": [
        "# If we have some problem, just drop the table\n",
        "\n",
        "#DROP TABLE\n",
        "#pd.read_sql_query('DROP TABLE IF EXISTS trip_record', nyc_database)"
      ],
      "execution_count": null,
      "outputs": []
    },
    {
      "cell_type": "code",
      "metadata": {
        "id": "6bhgPRWC5ofk"
      },
      "source": [
        "# Total number of records\n",
        "number = pd.read_sql_query('SELECT count(*) as number FROM trip_record', nyc_database)\n",
        "print(\"Total number of records: \", number['number'][0])"
      ],
      "execution_count": null,
      "outputs": []
    },
    {
      "cell_type": "markdown",
      "metadata": {
        "id": "TzZdrnZI6Kfr"
      },
      "source": [
        "## Find invalid records"
      ]
    },
    {
      "cell_type": "code",
      "metadata": {
        "id": "oW2b-rNa6443"
      },
      "source": [
        "# Helper values to define validity\n",
        "\n",
        "# Find the outliers\n",
        "min_lat= 40.5774\n",
        "max_lat= 40.9176\n",
        "min_long= -74.15\n",
        "max_long= -73.7004\n",
        "\n",
        "# valid area (bounding box around the states)\n",
        "min_lat= 38.8472\n",
        "max_lat= 45.0153\n",
        "min_long= -80.5243\n",
        "max_long= -71.7517\n",
        "\n",
        "\n",
        "# Dates in years in the past or in the future\n",
        "upper = '2013-12-31 23:59:59'\n",
        "lower = '2013-01-01 00:00:00'\n",
        "\n",
        "# Logic operators\n",
        "OR = ' OR '\n",
        "AND = ' AND '\n",
        "NOT = 'NOT '"
      ],
      "execution_count": null,
      "outputs": []
    },
    {
      "cell_type": "code",
      "metadata": {
        "id": "eCuXLKlQ6PFY",
        "colab": {
          "base_uri": "https://localhost:8080/",
          "height": 34
        },
        "outputId": "7b17c4db-6cc1-4596-bb10-666d1dd5b4aa"
      },
      "source": [
        "# Records with null coordinates\n",
        "c1 = ( '((pickup_latitude IS NULL OR dropoff_latitude IS NULL) OR ' + \n",
        "         '(pickup_longitude IS NULL OR dropoff_longitude IS NULL))')\n",
        "\n",
        "# Records with Coordinates out of range\n",
        "c3 = ('((dropoff_longitude NOT BETWEEN :min_long AND :max_long ) OR '+\n",
        "         '(dropoff_latitude NOT BETWEEN :min_lat AND :max_lat)) OR '+\n",
        "      '((pickup_longitude NOT BETWEEN  :min_long AND :max_long ) OR '+\n",
        "         '(pickup_latitude NOT BETWEEN  :min_lat AND :max_lat))')\n",
        "\n",
        "# Records with pickup coordinates equal to dropoff\n",
        "c2 = ('((pickup_latitude = dropoff_latitude) AND ' +\n",
        "         '(pickup_longitude = dropoff_longitude ))')\n",
        "\n",
        "# Records with distance 0\n",
        "c4 = '(trip_distance <= 0.1)'\n",
        "\n",
        "# Records with pickup time equal or greater than dropoff time\n",
        "c5_7_9_10 = '(pickup_datetime >= dropoff_datetime)'\n",
        "\n",
        "# Records with dates in years in the past or in the future\n",
        "c6 = ('((pickup_datetime > :upper OR pickup_datetime < :lower ) OR (dropoff_datetime > :upper OR dropoff_datetime < :lower ))')\n",
        "\n",
        "# Records with zero or null passengers\n",
        "c8 = '(passenger_count < 1 OR passenger_count IS null OR passenger_count > 6)'\n",
        "\n",
        "# null datetimes\n",
        "c9 = '(pickup_datetime IS NULL OR dropoff_datetime IS NULL)'\n",
        "\n",
        "not_where_clause = '(' + c1 + OR + c3 + OR + c2 + OR + c5_7_9_10 + OR + c6+ OR + c8 + OR + c9 +')'\n",
        "# count invalid rows\n",
        "query = ('SELECT count(*) as number FROM trip_record WHERE '+ not_where_clause) # c1 + OR + c3 + OR + c2 + OR + c5_7_9_10 + OR + c6  \n",
        "res = pd.read_sql_query( query, nyc_database, params={\"min_long\":min_long, \"max_long\":max_long, \"min_lat\":min_lat, \"max_lat\":max_lat, \"upper\":upper, \"lower\":lower})\n",
        "invalid = res['number'][0]\n",
        "print('Number of invalid rows: ', invalid)"
      ],
      "execution_count": null,
      "outputs": [
        {
          "output_type": "stream",
          "text": [
            "Number of invalid rows:  460953\n"
          ],
          "name": "stdout"
        }
      ]
    },
    {
      "cell_type": "markdown",
      "metadata": {
        "id": "7RthBzGo7i5R"
      },
      "source": [
        "## Find valid records"
      ]
    },
    {
      "cell_type": "code",
      "metadata": {
        "id": "GOR3c9qLDY4B"
      },
      "source": [
        "# Records with not null coordinates\n",
        "c1 = ( '((pickup_latitude IS NOT NULL AND dropoff_latitude IS NOT NULL) AND ' + \n",
        "         '(pickup_longitude IS NOT NULL AND dropoff_longitude IS NOT NULL))')\n",
        "\n",
        "# Records with coordinates in the range\n",
        "c3 = ('((dropoff_longitude BETWEEN :min_long AND :max_long ) AND '+\n",
        "         '(dropoff_latitude BETWEEN :min_lat AND :max_lat) AND '+\n",
        "      '(pickup_longitude BETWEEN :min_long AND :max_long ) AND '+\n",
        "         '(pickup_latitude BETWEEN :min_lat AND :max_lat))')\n",
        "\n",
        "# Records with pickup coordinates not equal to dropoff\n",
        "c2 = ('((pickup_latitude != dropoff_latitude) OR ' +\n",
        "         '(pickup_longitude != dropoff_longitude ))')\n",
        "\n",
        "# Records with different coordinates but distance greater 0\n",
        "c4 = '(trip_distance > 0.1)'\n",
        "\n",
        "# Records with pickup time smaller than dropoff time\n",
        "c5_7_9_10 = '(pickup_datetime < dropoff_datetime)'\n",
        "\n",
        "# Records with dates in the right range\n",
        "c6 = ('((pickup_datetime <= :upper AND pickup_datetime >= :lower ) AND (dropoff_datetime <= :upper AND dropoff_datetime >= :lower ))')\n",
        "\n",
        "# Not Zero passengers and passenger count in range\n",
        "c8 = '((passenger_count BETWEEN 1 AND 6) AND passenger_count IS NOT null )'\n",
        "\n",
        "# not null datetimes\n",
        "c9 = '(pickup_datetime IS NOT NULL AND dropoff_datetime IS NOT NULL)'\n",
        "\n",
        "where_clause = '(' + c1 + AND + c3 + AND + c2 + AND + c5_7_9_10 + AND + c6 + AND + c8 + AND + c9 + ')'\n"
      ],
      "execution_count": null,
      "outputs": []
    },
    {
      "cell_type": "code",
      "metadata": {
        "id": "KtsTCIbX7yLf",
        "colab": {
          "base_uri": "https://localhost:8080/",
          "height": 35
        },
        "outputId": "605c59da-059a-4929-bdcd-06c4596afbbf"
      },
      "source": [
        "\n",
        "query = ('SELECT count(*) as number FROM trip_record WHERE '+where_clause ) # c1 + AND + c3 + AND + c2 + AND + c5_7_9_10 + AND + c6\n",
        "res = pd.read_sql_query( query, nyc_database, params={\"min_long\":min_long, \"max_long\":max_long, \"min_lat\":min_lat, \"max_lat\":max_lat, \"upper\":upper, \"lower\":lower})\n",
        "valid = res['number'][0]\n",
        "print('Number of valid rows: ', valid)\n",
        "\n",
        "# to check if number is correct\n",
        "#print( 'Tot: ', valid + invalid)\n",
        "#print( 'Error: ', 14776615 - (valid + invalid))"
      ],
      "execution_count": null,
      "outputs": [
        {
          "output_type": "stream",
          "text": [
            "Number of valid rows:  14315662\n"
          ],
          "name": "stdout"
        }
      ]
    },
    {
      "cell_type": "markdown",
      "metadata": {
        "id": "BM_JfZIb8RJ4"
      },
      "source": [
        "### Retrieve valid records"
      ]
    },
    {
      "cell_type": "code",
      "metadata": {
        "id": "cm3LXEMZ8Vut"
      },
      "source": [
        "#TODO: Remov the limit\n",
        "query = ('SELECT *  FROM trip_record WHERE '+ where_clause + ' LIMIT 1000') #+ ' LIMIT 1000000'\n",
        "valid_records = pd.read_sql_query( query, nyc_database, params={\"min_long\":min_long, \"max_long\":max_long, \"min_lat\":min_lat, \"max_lat\":max_lat, \"upper\":upper, \"lower\":lower})"
      ],
      "execution_count": null,
      "outputs": []
    },
    {
      "cell_type": "code",
      "metadata": {
        "id": "WUwdT1tb8rCA",
        "colab": {
          "base_uri": "https://localhost:8080/",
          "height": 609
        },
        "outputId": "cc44d751-2ca0-404e-abca-ac24f45336ec"
      },
      "source": [
        "valid_records.shape "
      ],
      "execution_count": null,
      "outputs": [
        {
          "output_type": "execute_result",
          "data": {
            "text/plain": [
              "     index                         medallion  \\\n",
              "0        1  89D227B655E5C82AECF13C3F540D4CF4   \n",
              "1        2  0BD7C8F5BA12B88E0B67BED28BEA73D8   \n",
              "2        3  0BD7C8F5BA12B88E0B67BED28BEA73D8   \n",
              "3        4  DFD2202EE08F7A8DC9A57B02ACB81FE2   \n",
              "4        5  DFD2202EE08F7A8DC9A57B02ACB81FE2   \n",
              "..     ...                               ...   \n",
              "995   1029  0E0569377FEAE2A65216459409656B05   \n",
              "996   1030  9AE4E5913011D9842C31F8D120697F5B   \n",
              "997   1031  8E38C50BAA33C67E44678D7D18B87B54   \n",
              "998   1032  149298F6D390FA640E80B41ED31199C5   \n",
              "999   1033  A42487000E5D56414E028EE0252D45CE   \n",
              "\n",
              "                         hack_license      pickup_datetime  \\\n",
              "0    BA96DE419E711691B9445D6A6307C170  2013-01-01 15:11:48   \n",
              "1    9FD8F69F0804BDB5549F40E9DA1BE472  2013-01-06 00:18:35   \n",
              "2    9FD8F69F0804BDB5549F40E9DA1BE472  2013-01-05 18:49:41   \n",
              "3    51EE87E3205C985EF8431D850C786310  2013-01-07 23:54:15   \n",
              "4    51EE87E3205C985EF8431D850C786310  2013-01-07 23:25:03   \n",
              "..                                ...                  ...   \n",
              "995  754D328E223D507A668F0B94C0479904  2013-01-13 10:26:00   \n",
              "996  191F9FA1FCB4C083E571CE62418037B7  2013-01-13 10:05:00   \n",
              "997  4E3AA1185615CEED03BB1DC7A94030D0  2013-01-13 10:22:00   \n",
              "998  2B02144C5BAC85D9AF16620B55189491  2013-01-13 10:13:00   \n",
              "999  4BAC4571DDD59035F2C8DF193ED1660D  2013-01-13 10:27:00   \n",
              "\n",
              "        dropoff_datetime  passenger_count  trip_distance  pickup_longitude  \\\n",
              "0    2013-01-01 15:18:10                4           1.00        -73.978165   \n",
              "1    2013-01-06 00:22:54                1           1.50        -74.006683   \n",
              "2    2013-01-05 18:54:23                1           1.10        -74.004707   \n",
              "3    2013-01-07 23:58:20                2           0.70        -73.974602   \n",
              "4    2013-01-07 23:34:24                1           2.10        -73.976250   \n",
              "..                   ...              ...            ...               ...   \n",
              "995  2013-01-13 10:34:00                5           1.73        -73.982452   \n",
              "996  2013-01-13 10:34:00                1          18.87        -73.804657   \n",
              "997  2013-01-13 10:32:00                5           3.06        -73.982697   \n",
              "998  2013-01-13 10:30:00                2           3.13        -73.978477   \n",
              "999  2013-01-13 10:32:00                1           1.30        -73.979691   \n",
              "\n",
              "     pickup_latitude  dropoff_longitude  dropoff_latitude pickup_hour  \\\n",
              "0          40.757977         -73.989838         40.751171       15:11   \n",
              "1          40.731781         -73.994499         40.750660       00:18   \n",
              "2          40.737770         -74.009834         40.726002       18:49   \n",
              "3          40.759945         -73.984734         40.759388       23:54   \n",
              "4          40.748528         -74.002586         40.747868       23:25   \n",
              "..               ...                ...               ...         ...   \n",
              "995        40.723309         -73.986374         40.740303       10:26   \n",
              "996        40.650089         -73.966782         40.799061       10:05   \n",
              "997        40.723381         -74.008392         40.707542       10:22   \n",
              "998        40.746571         -74.010750         40.718456       10:13   \n",
              "999        40.781231         -73.985909         40.767506       10:27   \n",
              "\n",
              "    dropoff_hour  pickup_date dropoff_date  \n",
              "0          15:18  2013-01-01   2013-01-01   \n",
              "1          00:22  2013-01-06   2013-01-06   \n",
              "2          18:54  2013-01-05   2013-01-05   \n",
              "3          23:58  2013-01-07   2013-01-07   \n",
              "4          23:34  2013-01-07   2013-01-07   \n",
              "..           ...          ...          ...  \n",
              "995        10:34  2013-01-13   2013-01-13   \n",
              "996        10:34  2013-01-13   2013-01-13   \n",
              "997        10:32  2013-01-13   2013-01-13   \n",
              "998        10:30  2013-01-13   2013-01-13   \n",
              "999        10:32  2013-01-13   2013-01-13   \n",
              "\n",
              "[1000 rows x 15 columns]"
            ],
            "text/html": [
              "<div>\n",
              "<style scoped>\n",
              "    .dataframe tbody tr th:only-of-type {\n",
              "        vertical-align: middle;\n",
              "    }\n",
              "\n",
              "    .dataframe tbody tr th {\n",
              "        vertical-align: top;\n",
              "    }\n",
              "\n",
              "    .dataframe thead th {\n",
              "        text-align: right;\n",
              "    }\n",
              "</style>\n",
              "<table border=\"1\" class=\"dataframe\">\n",
              "  <thead>\n",
              "    <tr style=\"text-align: right;\">\n",
              "      <th></th>\n",
              "      <th>index</th>\n",
              "      <th>medallion</th>\n",
              "      <th>hack_license</th>\n",
              "      <th>pickup_datetime</th>\n",
              "      <th>dropoff_datetime</th>\n",
              "      <th>passenger_count</th>\n",
              "      <th>trip_distance</th>\n",
              "      <th>pickup_longitude</th>\n",
              "      <th>pickup_latitude</th>\n",
              "      <th>dropoff_longitude</th>\n",
              "      <th>dropoff_latitude</th>\n",
              "      <th>pickup_hour</th>\n",
              "      <th>dropoff_hour</th>\n",
              "      <th>pickup_date</th>\n",
              "      <th>dropoff_date</th>\n",
              "    </tr>\n",
              "  </thead>\n",
              "  <tbody>\n",
              "    <tr>\n",
              "      <th>0</th>\n",
              "      <td>1</td>\n",
              "      <td>89D227B655E5C82AECF13C3F540D4CF4</td>\n",
              "      <td>BA96DE419E711691B9445D6A6307C170</td>\n",
              "      <td>2013-01-01 15:11:48</td>\n",
              "      <td>2013-01-01 15:18:10</td>\n",
              "      <td>4</td>\n",
              "      <td>1.00</td>\n",
              "      <td>-73.978165</td>\n",
              "      <td>40.757977</td>\n",
              "      <td>-73.989838</td>\n",
              "      <td>40.751171</td>\n",
              "      <td>15:11</td>\n",
              "      <td>15:18</td>\n",
              "      <td>2013-01-01</td>\n",
              "      <td>2013-01-01</td>\n",
              "    </tr>\n",
              "    <tr>\n",
              "      <th>1</th>\n",
              "      <td>2</td>\n",
              "      <td>0BD7C8F5BA12B88E0B67BED28BEA73D8</td>\n",
              "      <td>9FD8F69F0804BDB5549F40E9DA1BE472</td>\n",
              "      <td>2013-01-06 00:18:35</td>\n",
              "      <td>2013-01-06 00:22:54</td>\n",
              "      <td>1</td>\n",
              "      <td>1.50</td>\n",
              "      <td>-74.006683</td>\n",
              "      <td>40.731781</td>\n",
              "      <td>-73.994499</td>\n",
              "      <td>40.750660</td>\n",
              "      <td>00:18</td>\n",
              "      <td>00:22</td>\n",
              "      <td>2013-01-06</td>\n",
              "      <td>2013-01-06</td>\n",
              "    </tr>\n",
              "    <tr>\n",
              "      <th>2</th>\n",
              "      <td>3</td>\n",
              "      <td>0BD7C8F5BA12B88E0B67BED28BEA73D8</td>\n",
              "      <td>9FD8F69F0804BDB5549F40E9DA1BE472</td>\n",
              "      <td>2013-01-05 18:49:41</td>\n",
              "      <td>2013-01-05 18:54:23</td>\n",
              "      <td>1</td>\n",
              "      <td>1.10</td>\n",
              "      <td>-74.004707</td>\n",
              "      <td>40.737770</td>\n",
              "      <td>-74.009834</td>\n",
              "      <td>40.726002</td>\n",
              "      <td>18:49</td>\n",
              "      <td>18:54</td>\n",
              "      <td>2013-01-05</td>\n",
              "      <td>2013-01-05</td>\n",
              "    </tr>\n",
              "    <tr>\n",
              "      <th>3</th>\n",
              "      <td>4</td>\n",
              "      <td>DFD2202EE08F7A8DC9A57B02ACB81FE2</td>\n",
              "      <td>51EE87E3205C985EF8431D850C786310</td>\n",
              "      <td>2013-01-07 23:54:15</td>\n",
              "      <td>2013-01-07 23:58:20</td>\n",
              "      <td>2</td>\n",
              "      <td>0.70</td>\n",
              "      <td>-73.974602</td>\n",
              "      <td>40.759945</td>\n",
              "      <td>-73.984734</td>\n",
              "      <td>40.759388</td>\n",
              "      <td>23:54</td>\n",
              "      <td>23:58</td>\n",
              "      <td>2013-01-07</td>\n",
              "      <td>2013-01-07</td>\n",
              "    </tr>\n",
              "    <tr>\n",
              "      <th>4</th>\n",
              "      <td>5</td>\n",
              "      <td>DFD2202EE08F7A8DC9A57B02ACB81FE2</td>\n",
              "      <td>51EE87E3205C985EF8431D850C786310</td>\n",
              "      <td>2013-01-07 23:25:03</td>\n",
              "      <td>2013-01-07 23:34:24</td>\n",
              "      <td>1</td>\n",
              "      <td>2.10</td>\n",
              "      <td>-73.976250</td>\n",
              "      <td>40.748528</td>\n",
              "      <td>-74.002586</td>\n",
              "      <td>40.747868</td>\n",
              "      <td>23:25</td>\n",
              "      <td>23:34</td>\n",
              "      <td>2013-01-07</td>\n",
              "      <td>2013-01-07</td>\n",
              "    </tr>\n",
              "    <tr>\n",
              "      <th>...</th>\n",
              "      <td>...</td>\n",
              "      <td>...</td>\n",
              "      <td>...</td>\n",
              "      <td>...</td>\n",
              "      <td>...</td>\n",
              "      <td>...</td>\n",
              "      <td>...</td>\n",
              "      <td>...</td>\n",
              "      <td>...</td>\n",
              "      <td>...</td>\n",
              "      <td>...</td>\n",
              "      <td>...</td>\n",
              "      <td>...</td>\n",
              "      <td>...</td>\n",
              "      <td>...</td>\n",
              "    </tr>\n",
              "    <tr>\n",
              "      <th>995</th>\n",
              "      <td>1029</td>\n",
              "      <td>0E0569377FEAE2A65216459409656B05</td>\n",
              "      <td>754D328E223D507A668F0B94C0479904</td>\n",
              "      <td>2013-01-13 10:26:00</td>\n",
              "      <td>2013-01-13 10:34:00</td>\n",
              "      <td>5</td>\n",
              "      <td>1.73</td>\n",
              "      <td>-73.982452</td>\n",
              "      <td>40.723309</td>\n",
              "      <td>-73.986374</td>\n",
              "      <td>40.740303</td>\n",
              "      <td>10:26</td>\n",
              "      <td>10:34</td>\n",
              "      <td>2013-01-13</td>\n",
              "      <td>2013-01-13</td>\n",
              "    </tr>\n",
              "    <tr>\n",
              "      <th>996</th>\n",
              "      <td>1030</td>\n",
              "      <td>9AE4E5913011D9842C31F8D120697F5B</td>\n",
              "      <td>191F9FA1FCB4C083E571CE62418037B7</td>\n",
              "      <td>2013-01-13 10:05:00</td>\n",
              "      <td>2013-01-13 10:34:00</td>\n",
              "      <td>1</td>\n",
              "      <td>18.87</td>\n",
              "      <td>-73.804657</td>\n",
              "      <td>40.650089</td>\n",
              "      <td>-73.966782</td>\n",
              "      <td>40.799061</td>\n",
              "      <td>10:05</td>\n",
              "      <td>10:34</td>\n",
              "      <td>2013-01-13</td>\n",
              "      <td>2013-01-13</td>\n",
              "    </tr>\n",
              "    <tr>\n",
              "      <th>997</th>\n",
              "      <td>1031</td>\n",
              "      <td>8E38C50BAA33C67E44678D7D18B87B54</td>\n",
              "      <td>4E3AA1185615CEED03BB1DC7A94030D0</td>\n",
              "      <td>2013-01-13 10:22:00</td>\n",
              "      <td>2013-01-13 10:32:00</td>\n",
              "      <td>5</td>\n",
              "      <td>3.06</td>\n",
              "      <td>-73.982697</td>\n",
              "      <td>40.723381</td>\n",
              "      <td>-74.008392</td>\n",
              "      <td>40.707542</td>\n",
              "      <td>10:22</td>\n",
              "      <td>10:32</td>\n",
              "      <td>2013-01-13</td>\n",
              "      <td>2013-01-13</td>\n",
              "    </tr>\n",
              "    <tr>\n",
              "      <th>998</th>\n",
              "      <td>1032</td>\n",
              "      <td>149298F6D390FA640E80B41ED31199C5</td>\n",
              "      <td>2B02144C5BAC85D9AF16620B55189491</td>\n",
              "      <td>2013-01-13 10:13:00</td>\n",
              "      <td>2013-01-13 10:30:00</td>\n",
              "      <td>2</td>\n",
              "      <td>3.13</td>\n",
              "      <td>-73.978477</td>\n",
              "      <td>40.746571</td>\n",
              "      <td>-74.010750</td>\n",
              "      <td>40.718456</td>\n",
              "      <td>10:13</td>\n",
              "      <td>10:30</td>\n",
              "      <td>2013-01-13</td>\n",
              "      <td>2013-01-13</td>\n",
              "    </tr>\n",
              "    <tr>\n",
              "      <th>999</th>\n",
              "      <td>1033</td>\n",
              "      <td>A42487000E5D56414E028EE0252D45CE</td>\n",
              "      <td>4BAC4571DDD59035F2C8DF193ED1660D</td>\n",
              "      <td>2013-01-13 10:27:00</td>\n",
              "      <td>2013-01-13 10:32:00</td>\n",
              "      <td>1</td>\n",
              "      <td>1.30</td>\n",
              "      <td>-73.979691</td>\n",
              "      <td>40.781231</td>\n",
              "      <td>-73.985909</td>\n",
              "      <td>40.767506</td>\n",
              "      <td>10:27</td>\n",
              "      <td>10:32</td>\n",
              "      <td>2013-01-13</td>\n",
              "      <td>2013-01-13</td>\n",
              "    </tr>\n",
              "  </tbody>\n",
              "</table>\n",
              "<p>1000 rows × 15 columns</p>\n",
              "</div>"
            ]
          },
          "metadata": {
            "tags": []
          },
          "execution_count": 7
        }
      ]
    },
    {
      "cell_type": "markdown",
      "metadata": {
        "id": "Kt4KO2xOIcET"
      },
      "source": [
        "Read the records in the valid area chunk by chunk to avoid memory overflow"
      ]
    },
    {
      "cell_type": "code",
      "metadata": {
        "id": "NkTDaOM239aw",
        "colab": {
          "base_uri": "https://localhost:8080/",
          "height": 119
        },
        "outputId": "48f8498d-4879-43a1-efd4-b32486b469bc"
      },
      "source": [
        "import pandas.io.sql as psql\n",
        "\n",
        "chunk_size = 5000000\n",
        "offset = 0\n",
        "dfs = []\n",
        "header = True\n",
        "while True:\n",
        "  print(offset)\n",
        "  sql = \"SELECT * FROM trip_record WHERE \" + where_clause + \" ORDER BY pickup_longitude LIMIT %d offset %d \" % (chunk_size,offset) \n",
        "  df = pd.read_sql_query( sql, nyc_database, params={\"min_long\":min_long, \"max_long\":max_long, \"min_lat\":min_lat, \"max_lat\":max_lat, \"upper\":upper, \"lower\":lower})\n",
        "  print('Query done')\n",
        "  df.to_csv('/home/alex/Downloads/january.csv', header=header, mode='a')\n",
        "\n",
        "  \n",
        "\n",
        "  header = False\n",
        "  offset += chunk_size\n",
        "  if len(df) < chunk_size:\n",
        "    break\n",
        "  del df\n",
        "  gc.collect()\n"
      ],
      "execution_count": null,
      "outputs": [
        {
          "output_type": "stream",
          "text": [
            "0\n",
            "Query done\n",
            "5000000\n",
            "Query done\n",
            "10000000\n",
            "Query done\n"
          ],
          "name": "stdout"
        }
      ]
    },
    {
      "cell_type": "code",
      "metadata": {
        "id": "b-EczCK62gOS",
        "colab": {
          "base_uri": "https://localhost:8080/",
          "height": 34
        },
        "outputId": "103aead7-651c-46e9-ab3f-916c9d7c0444"
      },
      "source": [
        "  # Empty space in the memory\n",
        "  del df\n",
        "  gc.collect()"
      ],
      "execution_count": null,
      "outputs": [
        {
          "output_type": "execute_result",
          "data": {
            "text/plain": [
              "1643"
            ]
          },
          "metadata": {
            "tags": []
          },
          "execution_count": 12
        }
      ]
    },
    {
      "cell_type": "code",
      "metadata": {
        "id": "IKROjuMG1-uj"
      },
      "source": [
        "# Save the partial result\n",
        "df = pd.read_csv('/home/AAAA/Downloads/january.csv')"
      ],
      "execution_count": null,
      "outputs": []
    },
    {
      "cell_type": "markdown",
      "metadata": {
        "id": "ldkjKrsJ4pp2"
      },
      "source": [
        "### Google Drive version"
      ]
    },
    {
      "cell_type": "code",
      "metadata": {
        "id": "oDwMRZL44sXg"
      },
      "source": [
        "!pip install pyshp\n",
        "!pip install haversine\n",
        "!pip install geopandas\n",
        "!pip install pygeos\n",
        "\n",
        "!sudo apt install libspatialindex-dev\n",
        "\n",
        "!pip install Rtree\n",
        "\n",
        "# Imports\n",
        "import pandas as pd\n",
        "import numpy as np\n",
        "import urllib.request\n",
        "import zipfile\n",
        "import random\n",
        "import itertools\n",
        "import math\n",
        "from tqdm import tqdm\n",
        "import time\n",
        "from datetime import datetime\n",
        "import timeit\n",
        "\n",
        "# libraries to visualize data\n",
        "import shapefile\n",
        "from shapely.geometry import Polygon\n",
        "from descartes.patch import PolygonPatch\n",
        "import matplotlib as mpl\n",
        "import matplotlib.pyplot as plt\n",
        "plt.style.use('ggplot')\n",
        "%matplotlib inline\n",
        "\n",
        "\n",
        "# compute additional features\n",
        "from haversine import haversine\n",
        "from pandas import DataFrame\n",
        "from numba import njit\n",
        "from math import radians, cos, sin, asin, sqrt\n",
        "\n",
        "from google.colab import drive\n",
        "drive.mount('/content/gdrive')\n",
        "baseURL = '/content/gdrive/My Drive/NYC Dataset/';\n",
        "directory = baseURL\n"
      ],
      "execution_count": null,
      "outputs": []
    },
    {
      "cell_type": "code",
      "metadata": {
        "id": "ptuT_FbP5wd9"
      },
      "source": [
        "dtypes = {'Unnamed: 0':'str',\t'index':'str',\t'medallion':'str',\t'hack_license':'str',\t'pickup_datetime':'str',\t'dropoff_datetime':'str',\t'passenger_count':'str',\t'trip_distance':'str',\n",
        "          'pickup_longitude':'str',\t'pickup_latitude':'str',\t'dropoff_longitude':'str',\t'dropoff_latitude':'str',\t'pickup_hour':'str',\t'dropoff_hour':'str',\t'pickup_date':'str',\t'dropoff_date':'str'}\n",
        "usecols=['medallion',\t'hack_license',\t'pickup_datetime',\t'dropoff_datetime',\t'passenger_count',\t'trip_distance',\n",
        "          'pickup_longitude',\t'pickup_latitude',\t'dropoff_longitude',\t'dropoff_latitude',\t'pickup_hour',\t'dropoff_hour',\t'pickup_date',\t'dropoff_date']\n",
        "\n",
        "valid_records = pd.read_csv(baseURL + 'january.csv', usecols=['medallion',\t'hack_license',\t'pickup_datetime',\t'dropoff_datetime',\n",
        "          'pickup_longitude',\t'pickup_latitude',\t'dropoff_longitude',\t'dropoff_latitude'], skiprows=5000001)"
      ],
      "execution_count": null,
      "outputs": []
    },
    {
      "cell_type": "code",
      "metadata": {
        "id": "sQNWLUPyCjr4",
        "colab": {
          "base_uri": "https://localhost:8080/",
          "height": 204
        },
        "outputId": "cea77bcb-f70a-48e8-9929-ff302cef9d6a"
      },
      "source": [
        "valid_records.head()"
      ],
      "execution_count": null,
      "outputs": [
        {
          "output_type": "execute_result",
          "data": {
            "text/html": [
              "<div>\n",
              "<style scoped>\n",
              "    .dataframe tbody tr th:only-of-type {\n",
              "        vertical-align: middle;\n",
              "    }\n",
              "\n",
              "    .dataframe tbody tr th {\n",
              "        vertical-align: top;\n",
              "    }\n",
              "\n",
              "    .dataframe thead th {\n",
              "        text-align: right;\n",
              "    }\n",
              "</style>\n",
              "<table border=\"1\" class=\"dataframe\">\n",
              "  <thead>\n",
              "    <tr style=\"text-align: right;\">\n",
              "      <th></th>\n",
              "      <th>medallion</th>\n",
              "      <th>hack_license</th>\n",
              "      <th>pickup_datetime</th>\n",
              "      <th>dropoff_datetime</th>\n",
              "      <th>pickup_longitude</th>\n",
              "      <th>pickup_latitude</th>\n",
              "      <th>dropoff_longitude</th>\n",
              "      <th>dropoff_latitude</th>\n",
              "    </tr>\n",
              "  </thead>\n",
              "  <tbody>\n",
              "    <tr>\n",
              "      <th>0</th>\n",
              "      <td>E7895290D325C76879B42DD851F55E94</td>\n",
              "      <td>F1DE3C76634E6A28F773E373FD93A4CC</td>\n",
              "      <td>2013-01-25 23:22:00</td>\n",
              "      <td>2013-01-25 23:35:00</td>\n",
              "      <td>-80.466667</td>\n",
              "      <td>40.764290</td>\n",
              "      <td>-73.976265</td>\n",
              "      <td>40.744209</td>\n",
              "    </tr>\n",
              "    <tr>\n",
              "      <th>1</th>\n",
              "      <td>057CFB402254395B4EE4CC11F10474CF</td>\n",
              "      <td>F8183DA465EB5C606FBB4642E9D0E90B</td>\n",
              "      <td>2013-01-23 21:04:00</td>\n",
              "      <td>2013-01-23 21:14:00</td>\n",
              "      <td>-80.400002</td>\n",
              "      <td>40.751690</td>\n",
              "      <td>-73.977974</td>\n",
              "      <td>40.778862</td>\n",
              "    </tr>\n",
              "    <tr>\n",
              "      <th>2</th>\n",
              "      <td>7B08E3F1470250DC951EC734C23B28A8</td>\n",
              "      <td>F9CCB542EEF0627ED1F326DB70918A97</td>\n",
              "      <td>2013-01-26 08:29:00</td>\n",
              "      <td>2013-01-26 08:40:00</td>\n",
              "      <td>-80.383331</td>\n",
              "      <td>40.728111</td>\n",
              "      <td>-73.993317</td>\n",
              "      <td>40.696854</td>\n",
              "    </tr>\n",
              "    <tr>\n",
              "      <th>3</th>\n",
              "      <td>B7AF7D33EC1A1F20A1BD34EBC94AFAEA</td>\n",
              "      <td>46CA16E8B77FE2899F50347542068244</td>\n",
              "      <td>2013-01-12 18:11:00</td>\n",
              "      <td>2013-01-12 18:16:00</td>\n",
              "      <td>-80.383331</td>\n",
              "      <td>40.763401</td>\n",
              "      <td>-73.951187</td>\n",
              "      <td>40.783516</td>\n",
              "    </tr>\n",
              "    <tr>\n",
              "      <th>4</th>\n",
              "      <td>78A0CCB71F0CD7541B2FF8BC206DC358</td>\n",
              "      <td>5ECA0DEC91DF424D1AF995C49E1DA631</td>\n",
              "      <td>2013-01-20 11:24:00</td>\n",
              "      <td>2013-01-20 11:28:00</td>\n",
              "      <td>-80.349998</td>\n",
              "      <td>40.784885</td>\n",
              "      <td>-73.942993</td>\n",
              "      <td>40.777473</td>\n",
              "    </tr>\n",
              "  </tbody>\n",
              "</table>\n",
              "</div>"
            ],
            "text/plain": [
              "                          medallion  ... dropoff_latitude\n",
              "0  E7895290D325C76879B42DD851F55E94  ...        40.744209\n",
              "1  057CFB402254395B4EE4CC11F10474CF  ...        40.778862\n",
              "2  7B08E3F1470250DC951EC734C23B28A8  ...        40.696854\n",
              "3  B7AF7D33EC1A1F20A1BD34EBC94AFAEA  ...        40.783516\n",
              "4  78A0CCB71F0CD7541B2FF8BC206DC358  ...        40.777473\n",
              "\n",
              "[5 rows x 8 columns]"
            ]
          },
          "metadata": {
            "tags": []
          },
          "execution_count": 3
        }
      ]
    },
    {
      "cell_type": "markdown",
      "metadata": {
        "id": "6xXnGhPG847U"
      },
      "source": [
        "## Elaborate the data\n",
        "Computing extra features to clean the dataset"
      ]
    },
    {
      "cell_type": "markdown",
      "metadata": {
        "id": "HZnUmDbh9BnP"
      },
      "source": [
        "Helper functions"
      ]
    },
    {
      "cell_type": "code",
      "metadata": {
        "id": "d50Smfde9ErS"
      },
      "source": [
        "from haversine import haversine\n",
        "from datetime import datetime\n",
        "from pandas import DataFrame\n",
        "import math\n",
        "import numpy as np"
      ],
      "execution_count": null,
      "outputs": []
    },
    {
      "cell_type": "code",
      "metadata": {
        "id": "uiO6Hc5j88Km"
      },
      "source": [
        "# https://www.kaggle.com/kartikkannapur/nyc-taxi-trips-exploratory-data-analysis\n",
        "# compute haversine distance of a trip\n",
        "# *The haversine formula determines the great-circle distance between two points on a sphere given their longitudes and latitudes.*"
      ],
      "execution_count": null,
      "outputs": []
    },
    {
      "cell_type": "markdown",
      "metadata": {
        "id": "BPn96fCZ7rab"
      },
      "source": [
        "**Moving to numba to improve performances**\n",
        "\n",
        "https://stackoverflow.com/questions/52673285/performance-of-pandas-apply-vs-np-vectorize-to-create-new-column-from-existing-c"
      ]
    },
    {
      "cell_type": "code",
      "metadata": {
        "id": "iIrsrW_c7rEx"
      },
      "source": [
        "from numba import njit\n",
        "\n",
        "# fix problematic times and conver time into hours\n",
        "@njit\n",
        "def refine_time(time_difference):\n",
        "  res = np.empty(time_difference.shape)\n",
        "  for i in range(len(time_difference)):\n",
        "    duration_hours = time_difference[i]/3600.0\n",
        "    if duration_hours < 0.005:\n",
        "      trip_time = 0.005\n",
        "    else:\n",
        "      trip_time = round(duration_hours, 3)\n",
        "    res[i] = trip_time\n",
        "  return res"
      ],
      "execution_count": null,
      "outputs": []
    },
    {
      "cell_type": "markdown",
      "metadata": {
        "id": "V1DlJL71y6Pp"
      },
      "source": [
        "\n",
        "\n",
        "---\n",
        "Duration of the trips\n"
      ]
    },
    {
      "cell_type": "code",
      "metadata": {
        "id": "1cwGvIJC_t3Z",
        "colab": {
          "base_uri": "https://localhost:8080/",
          "height": 221
        },
        "outputId": "9dea2615-42f1-4291-f70f-e20026b0bcca"
      },
      "source": [
        "valid_records[\"pickup_datetime\"] = pd.to_datetime(valid_records[\"pickup_datetime\"])\n",
        "valid_records[\"dropoff_datetime\"] = pd.to_datetime(valid_records[\"dropoff_datetime\"])\n",
        "valid_records['trip_time'] = (valid_records['dropoff_datetime'] - valid_records['pickup_datetime']).dt.total_seconds()\n",
        "#%timeit valid_records['seconds'] = refine_time(valid_records['seconds'].values)\n",
        "#print(refine_time(valid_records['seconds'].values))\n",
        "valid_records['trip_time'] = refine_time(valid_records['trip_time'].values)\n",
        "valid_records['trip_time']"
      ],
      "execution_count": null,
      "outputs": [
        {
          "output_type": "execute_result",
          "data": {
            "text/plain": [
              "8896484     0.136\n",
              "13356912    0.324\n",
              "8110791     0.106\n",
              "11554091    0.205\n",
              "12509246    0.579\n",
              "            ...  \n",
              "859749      0.217\n",
              "4962148     0.100\n",
              "2241584     0.050\n",
              "1608444     0.433\n",
              "4490083     0.183\n",
              "Name: trip_time, Length: 14315662, dtype: float64"
            ]
          },
          "metadata": {
            "tags": []
          },
          "execution_count": 6
        }
      ]
    },
    {
      "cell_type": "markdown",
      "metadata": {
        "id": "kVUQ97rYawAB"
      },
      "source": [
        "**%timeit in front a that function cause problem, the values returned become all 0.005**"
      ]
    },
    {
      "cell_type": "markdown",
      "metadata": {
        "id": "W9dKr34tcC8a"
      },
      "source": [
        "\n",
        "\n",
        "---\n",
        "Haversine Distance of the trips\n",
        "\n",
        "https://stackoverflow.com/questions/29545704/fast-haversine-approximation-python-pandas\n"
      ]
    },
    {
      "cell_type": "code",
      "metadata": {
        "id": "3RMbMgJOcCUm"
      },
      "source": [
        "from math import radians, cos, sin, asin, sqrt\n",
        "def haversine_np( lat1, lon1, lat2, lon2):\n",
        "    # earth radius\n",
        "    R = 6371.0\n",
        "    \"\"\"\n",
        "    Calculate the great circle distance between two points\n",
        "    on the earth (specified in decimal degrees)\n",
        "\n",
        "    All args must be of equal length.    \n",
        "\n",
        "    \"\"\"\n",
        "    lon1, lat1, lon2, lat2 = map(np.radians, [lon1, lat1, lon2, lat2])\n",
        "\n",
        "    dlon = lon2 - lon1\n",
        "    dlat = lat2 - lat1\n",
        "\n",
        "    a = np.sin(dlat/2.0)**2 + np.cos(lat1) * np.cos(lat2) * np.sin(dlon/2.0)**2\n",
        "\n",
        "    c = 2 * np.arcsin(np.sqrt(a))\n",
        "    km = R * c\n",
        "    return np.round(km, 3)"
      ],
      "execution_count": null,
      "outputs": []
    },
    {
      "cell_type": "code",
      "metadata": {
        "id": "xHq2tOGIahkC"
      },
      "source": [
        "valid_records['haversine_distance'] = haversine_np(valid_records[\"pickup_latitude\"], valid_records[\"pickup_longitude\"], \n",
        "                     valid_records[\"dropoff_latitude\"], valid_records[\"dropoff_longitude\"])"
      ],
      "execution_count": null,
      "outputs": []
    },
    {
      "cell_type": "code",
      "metadata": {
        "id": "OVG13XNKfEJW",
        "colab": {
          "base_uri": "https://localhost:8080/",
          "height": 221
        },
        "outputId": "971bb4ab-cae2-4b6c-8b5b-b3cc9bae593f"
      },
      "source": [
        "valid_records['haversine_distance']"
      ],
      "execution_count": null,
      "outputs": [
        {
          "output_type": "execute_result",
          "data": {
            "text/plain": [
              "0           546.579\n",
              "1           540.738\n",
              "2           538.474\n",
              "3           541.519\n",
              "4           539.337\n",
              "             ...   \n",
              "14315657    169.311\n",
              "14315658    174.901\n",
              "14315659    187.634\n",
              "14315660    393.620\n",
              "14315661    181.982\n",
              "Name: haversine_distance, Length: 14315662, dtype: float64"
            ]
          },
          "metadata": {
            "tags": []
          },
          "execution_count": 9
        }
      ]
    },
    {
      "cell_type": "markdown",
      "metadata": {
        "id": "JfP1Yi9yfUvd"
      },
      "source": [
        "\n",
        "\n",
        "---\n",
        "Speed of the trips\n"
      ]
    },
    {
      "cell_type": "code",
      "metadata": {
        "id": "rp4Ypx0GfWbM",
        "colab": {
          "base_uri": "https://localhost:8080/",
          "height": 221
        },
        "outputId": "b8be5d04-dda9-462b-812e-43abf17c0564"
      },
      "source": [
        "valid_records['speed'] = round(valid_records['haversine_distance']/valid_records['trip_time'], 1)\n",
        "valid_records['speed']"
      ],
      "execution_count": null,
      "outputs": [
        {
          "output_type": "execute_result",
          "data": {
            "text/plain": [
              "8896484     26.6\n",
              "13356912     7.9\n",
              "8110791     14.8\n",
              "11554091    16.0\n",
              "12509246    17.1\n",
              "            ... \n",
              "859749      12.7\n",
              "4962148     16.6\n",
              "2241584     16.4\n",
              "1608444     19.5\n",
              "4490083     19.5\n",
              "Name: speed, Length: 14315662, dtype: float64"
            ]
          },
          "metadata": {
            "tags": []
          },
          "execution_count": 9
        }
      ]
    },
    {
      "cell_type": "markdown",
      "metadata": {
        "id": "VaUoDXQH8nma"
      },
      "source": [
        "## Statistics on valid records"
      ]
    },
    {
      "cell_type": "markdown",
      "metadata": {
        "id": "TiOAYiPoRHX8"
      },
      "source": [
        "### Number of passengers"
      ]
    },
    {
      "cell_type": "code",
      "metadata": {
        "id": "BShHEIiNRKAN",
        "colab": {
          "base_uri": "https://localhost:8080/",
          "height": 70
        },
        "outputId": "57eb8a98-7bab-4779-d200-3f9d7ce5841b"
      },
      "source": [
        "mean_p = valid_records[\"passenger_count\"].mean()\n",
        "max_p = valid_records[\"passenger_count\"].max()\n",
        "min_p = valid_records[\"passenger_count\"].min()\n",
        "\n",
        "print(\"The mean number of passengers is: \", mean_p)\n",
        "print(\"The max number of passengers is: \", max_p)\n",
        "print(\"The min number of passengers is: \", min_p)\n"
      ],
      "execution_count": null,
      "outputs": [
        {
          "output_type": "stream",
          "text": [
            "The mean number of passengers is:  1.697404423211445\n",
            "The max number of passengers is:  6\n",
            "The min number of passengers is:  1\n"
          ],
          "name": "stdout"
        }
      ]
    },
    {
      "cell_type": "markdown",
      "metadata": {
        "id": "9mO9GhIX-eOs"
      },
      "source": [
        "### Compute mean, min and max ***trip distance***\n"
      ]
    },
    {
      "cell_type": "code",
      "metadata": {
        "id": "JeIA6d8_-iSr",
        "colab": {
          "base_uri": "https://localhost:8080/",
          "height": 87
        },
        "outputId": "be9ca9b9-9b7d-4dfe-d646-325eeede1f38"
      },
      "source": [
        "mean_d = valid_records[\"haversine_distance\"].mean()\n",
        "max_d = valid_records[\"haversine_distance\"].max()\n",
        "min_d = valid_records[\"haversine_distance\"].min()\n",
        "\n",
        "print(\"The mean distance is: \", mean_d)\n",
        "print(\"The max distance is: \", max_d)\n",
        "print(\"The min distance is: \", min_d)\n",
        "print(\"The distances are represented in Km unit\")"
      ],
      "execution_count": null,
      "outputs": [
        {
          "output_type": "stream",
          "text": [
            "The mean distance is:  3.2905488564901844\n",
            "The max distance is:  580.425\n",
            "The min distance is:  0.0\n",
            "The distances are represented in Km unit\n"
          ],
          "name": "stdout"
        }
      ]
    },
    {
      "cell_type": "markdown",
      "metadata": {
        "id": "KeFa_8ib-lsh"
      },
      "source": [
        "### Compute mean, min and max ***trip time***\n"
      ]
    },
    {
      "cell_type": "code",
      "metadata": {
        "id": "1VXsLUPK-lsi",
        "colab": {
          "base_uri": "https://localhost:8080/",
          "height": 87
        },
        "outputId": "3ea61c60-ca7f-4f81-9aa0-3483081af533"
      },
      "source": [
        "mean_t = valid_records[\"trip_time\"].mean()\n",
        "max_t = valid_records[\"trip_time\"].max()\n",
        "min_t = valid_records[\"trip_time\"].min()\n",
        "\n",
        "print(\"The mean trip_time is: \", mean_t)\n",
        "print(\"The max trip_time is: \", max_t)\n",
        "print(\"The min trip_time is: \", min_t)\n",
        "print(\"The trip_times are represented in hours\")"
      ],
      "execution_count": null,
      "outputs": [
        {
          "output_type": "stream",
          "text": [
            "The mean trip_time is:  0.19142729920558352\n",
            "The max trip_time is:  51.015\n",
            "The min trip_time is:  0.005\n",
            "The trip_times are represented in hours\n"
          ],
          "name": "stdout"
        }
      ]
    },
    {
      "cell_type": "markdown",
      "metadata": {
        "id": "1Fwxl63f-r1o"
      },
      "source": [
        "### Compute mean, min and max ***speed***"
      ]
    },
    {
      "cell_type": "code",
      "metadata": {
        "id": "ckCs1sSo-r1p",
        "colab": {
          "base_uri": "https://localhost:8080/",
          "height": 70
        },
        "outputId": "e661ec9a-bf42-4195-9781-b2e339431870"
      },
      "source": [
        "mean_speed = valid_records[\"speed\"].mean()\n",
        "max_speed = valid_records[\"speed\"].max()\n",
        "min_speed = valid_records[\"speed\"].min()\n",
        "\n",
        "print(\"The mean speed is: \", mean_speed)\n",
        "print(\"The max speed is: \", max_speed)\n",
        "print(\"The min speed is: \", min_speed)"
      ],
      "execution_count": null,
      "outputs": [
        {
          "output_type": "stream",
          "text": [
            "The mean speed is:  16.79092\n",
            "The max speed is:  216.7\n",
            "The min speed is:  0.0\n"
          ],
          "name": "stdout"
        }
      ]
    },
    {
      "cell_type": "code",
      "metadata": {
        "id": "VL2WX5MsFwG0",
        "colab": {
          "base_uri": "https://localhost:8080/",
          "height": 1000
        },
        "outputId": "aefc3fcb-7ccd-461d-e8aa-1c091485c9c6"
      },
      "source": [
        "# because haversine distance is the semicircle on  the sphere which connect 2 points, in reality the distance between A and B is greater, \n",
        "# so the real speed is higher than the one computed with haversine\n",
        "\n",
        "print(\"records: \", len(valid_records.medallion))\n",
        "valid_records.haversine_distance.hist(bins=30, figsize=(10,5), color = 'blue')\n",
        "plt.xlabel('Haversine ditance')\n",
        "plt.title('Histogram');\n",
        "plt.show() \n",
        "\n",
        "valid_records.trip_time[valid_records.trip_time<8].hist(bins=30, figsize=(10,5), color = 'red')\n",
        "plt.xlabel('Trip time')\n",
        "plt.title('Histogram');\n",
        "plt.show() \n",
        "\n",
        "valid_records.speed[valid_records.speed<100].hist(bins=20, figsize=(8,5), color = 'green')\n",
        "plt.xlabel('Speed')\n",
        "plt.title('Histogram');"
      ],
      "execution_count": null,
      "outputs": [
        {
          "output_type": "stream",
          "text": [
            "records:  100000\n"
          ],
          "name": "stdout"
        },
        {
          "output_type": "display_data",
          "data": {
            "text/plain": [
              "<Figure size 720x360 with 1 Axes>"
            ],
            "image/png": "[encoded data removed]"
          },
          "metadata": {
            "tags": [],
            "needs_background": "light"
          }
        },
        {
          "output_type": "display_data",
          "data": {
            "text/plain": [
              "<Figure size 720x360 with 1 Axes>"
            ],
            "image/png": "[encoded data removed]"
          },
          "metadata": {
            "tags": [],
            "needs_background": "light"
          }
        },
        {
          "output_type": "display_data",
          "data": {
            "text/plain": [
              "<Figure size 576x360 with 1 Axes>"
            ],
            "image/png": "[encoded data removed]"
          },
          "metadata": {
            "tags": [],
            "needs_background": "light"
          }
        }
      ]
    },
    {
      "cell_type": "markdown",
      "metadata": {
        "id": "0y3PXv_HIKtG"
      },
      "source": [
        "## Statistics to find correct speed, time and distance ranges"
      ]
    },
    {
      "cell_type": "markdown",
      "metadata": {
        "id": "Q0z5yCbhJoaY"
      },
      "source": [
        "Time\n",
        "distance\n",
        "speed\n",
        "\n",
        "https://medium.com/datadriveninvestor/finding-outliers-in-dataset-using-python-efc3fce6ce32\n",
        "\n",
        "\n",
        "step 1:\n",
        "* Arrange the data in increasing order\n",
        "* Calculate first(q1) and third quartile(q3)\n",
        "* Find interquartile range (q3-q1)\n",
        "* Find lower bound q1*1.5\n",
        "* Find upper bound q3*1.5\n",
        "* Anything that lies outside of lower and upper bound is an outlier\n"
      ]
    },
    {
      "cell_type": "code",
      "metadata": {
        "id": "jZbq6DGXIRb_",
        "colab": {
          "base_uri": "https://localhost:8080/",
          "height": 52
        },
        "outputId": "42f12cd8-aa36-455c-a6c8-b8087e96a76f"
      },
      "source": [
        "from scipy import stats\n",
        "# Haversine distance\n",
        "distances = np.array(valid_records.sort_values(by=['haversine_distance']).haversine_distance)\n",
        "q1, q3= np.percentile(distances,[25,75])\n",
        "iqr = q3 - q1\n",
        "lower_bound = q1 - (1.5 * iqr) \n",
        "upper_bound = q3 + (1.5 * iqr) \n",
        "print(\"IQR\")\n",
        "print(\"Lower bound: {}, Upper bound: {}\".format(lower_bound,upper_bound))"
      ],
      "execution_count": null,
      "outputs": [
        {
          "output_type": "stream",
          "text": [
            "IQR\n",
            "Lower bound: -2.63, Upper bound: 7.698\n"
          ],
          "name": "stdout"
        }
      ]
    },
    {
      "cell_type": "markdown",
      "metadata": {
        "id": "KWC_5RD9VrR5"
      },
      "source": [
        "Try with the Z score"
      ]
    },
    {
      "cell_type": "code",
      "metadata": {
        "id": "B5jDUQDqWx3m",
        "colab": {
          "base_uri": "https://localhost:8080/",
          "height": 52
        },
        "outputId": "487c8de7-83bb-4289-bf61-70a4a5bb7a86"
      },
      "source": [
        "#distances = np.array(valid_records.sort_values(by=['haversine_distance']).haversine_distance)\n",
        "z = np.abs(stats.zscore(distances))\n",
        "threshold = 3\n",
        "idx = np.where(z > threshold)\n",
        "lower_bound = distances[idx].min()\n",
        "upper_bound = distances[idx].max()\n",
        "print(\"Z-score\")\n",
        "print(\"Upper bound from: {}, to: {}\".format(lower_bound,upper_bound))\n",
        "\n",
        "idx = np.where(z < -threshold)\n",
        "if(len(idx[0]) >0):\n",
        "  distances[idx].max()"
      ],
      "execution_count": null,
      "outputs": [
        {
          "output_type": "stream",
          "text": [
            "Z-score\n",
            "Upper bound from: 15.544, to: 580.425\n"
          ],
          "name": "stdout"
        }
      ]
    },
    {
      "cell_type": "markdown",
      "metadata": {
        "id": "Anf7p437dPQ_"
      },
      "source": [
        "Trip time"
      ]
    },
    {
      "cell_type": "code",
      "metadata": {
        "id": "kkgeS6zhdSTK",
        "colab": {
          "base_uri": "https://localhost:8080/",
          "height": 105
        },
        "outputId": "877ade52-9a8d-4ea2-e0bb-29f8cb8a9d6e"
      },
      "source": [
        "times = np.array(valid_records.sort_values(by=['trip_time']).trip_time)\n",
        "q1, q3= np.percentile(times,[25,75])\n",
        "iqr = q3 - q1\n",
        "lower_bound = q1 -(1.5 * iqr) \n",
        "upper_bound = q3 +(1.5 * iqr) \n",
        "print(\"IQR\")\n",
        "print(\"Lower bound: {}, Upper bound: {}\".format(lower_bound,upper_bound))\n",
        "print(\"\")\n",
        "# Z score\n",
        "z = np.abs(stats.zscore(times))\n",
        "threshold = 3\n",
        "idx = np.where(z > threshold)\n",
        "lower_bound = times[idx].min()\n",
        "upper_bound = times[idx].max()\n",
        "print(\"Z-score\")\n",
        "print(\"Upper bound from: {}, to: {}\".format(lower_bound,upper_bound))\n",
        "\n",
        "idx = np.where(z < -threshold)\n",
        "if(len(idx[0]) >0):\n",
        "  times[idx].max()"
      ],
      "execution_count": null,
      "outputs": [
        {
          "output_type": "stream",
          "text": [
            "IQR\n",
            "Lower bound: -0.12199999999999997, Upper bound: 0.47\n",
            "\n",
            "Z-score\n",
            "Upper bound from: 0.625, to: 51.015\n"
          ],
          "name": "stdout"
        }
      ]
    },
    {
      "cell_type": "markdown",
      "metadata": {
        "id": "vLFBWIIL_79o"
      },
      "source": [
        "Looking at the trips with triptime greater than 22 hours they seems weird. The number of these records is very low so we can remove them"
      ]
    },
    {
      "cell_type": "code",
      "metadata": {
        "id": "1QR2NSD6_GfU",
        "colab": {
          "base_uri": "https://localhost:8080/",
          "height": 394
        },
        "outputId": "4cd880bf-e0b5-4be4-946e-1f568b8283c0"
      },
      "source": [
        "valid_records.loc[valid_records['trip_time']>22.0]"
      ],
      "execution_count": null,
      "outputs": [
        {
          "output_type": "execute_result",
          "data": {
            "text/plain": [
              "               index                         medallion  \\\n",
              "4440189    108078988  D6CE961B1FD2F1A9E7F2F4A2262A9DDB   \n",
              "5960817    195249269  BB73239609D520BBAB248020103AEEC6   \n",
              "6899824    262717006  5E7022BA90EE0AFE3A29ED664C609F7D   \n",
              "7008535    270028968  4BE667AF6BA4B0A6F4F63C865CD84EA6   \n",
              "7503387    308038703  001D3B86C2ACDEE4D1B98AFE52969F3D   \n",
              "13114238   931540550  662302712A0D1A0CC0CFEE09C77E810A   \n",
              "14277041  1102536756  BDE7EA34F2D207FBF8F725D4C2815F4F   \n",
              "\n",
              "                              hack_license     pickup_datetime  \\\n",
              "4440189   5101210B73A0E033D1509B3E487C929C 2013-01-01 05:35:12   \n",
              "5960817   CD969521B4652E0473472E2A997910B5 2013-01-01 06:19:15   \n",
              "6899824   B0E1CAF7CED1FDB6C565A28B9228944F 2013-01-01 01:01:15   \n",
              "7008535   CDBEB1B3C2058DEE1DFEBAF0FEB26303 2013-01-15 02:24:26   \n",
              "7503387   F617CC84C553584DAE13E96665FCBDA4 2013-01-23 17:19:13   \n",
              "13114238  C005B53076A215B1A73F409B17EC0A9C 2013-01-08 13:46:54   \n",
              "14277041  50C83250729BE215D10C59A722CFE3E5 2013-01-06 02:42:23   \n",
              "\n",
              "            dropoff_datetime  passenger_count  trip_distance  \\\n",
              "4440189  2013-01-02 06:21:33                1           63.2   \n",
              "5960817  2013-01-02 07:15:20                1            6.0   \n",
              "6899824  2013-01-02 07:16:35                1            3.1   \n",
              "7008535  2013-01-17 05:25:20                1            3.2   \n",
              "7503387  2013-01-24 18:36:18                1            4.1   \n",
              "13114238 2013-01-09 16:11:41                1            3.9   \n",
              "14277041 2013-01-07 07:01:05                1            0.7   \n",
              "\n",
              "          pickup_longitude  pickup_latitude  dropoff_longitude  \\\n",
              "4440189         -73.981781        40.757675         -73.923630   \n",
              "5960817         -73.906479        40.727551         -73.923340   \n",
              "6899824         -73.966850        40.772388         -73.918274   \n",
              "7008535         -73.978653        40.745186         -73.952026   \n",
              "7503387         -73.992012        40.745274         -73.910835   \n",
              "13114238        -73.789993        40.643177         -73.967712   \n",
              "14277041        -73.991112        40.727783         -73.951462   \n",
              "\n",
              "          dropoff_latitude pickup_hour dropoff_hour  pickup_date dropoff_date  \\\n",
              "4440189          40.743526       05:35        06:21  2013-01-01   2013-01-02    \n",
              "5960817          40.734325       06:19        07:15  2013-01-01   2013-01-02    \n",
              "6899824          40.840519       01:01        07:16  2013-01-01   2013-01-02    \n",
              "7008535          40.750340       02:24        05:25  2013-01-15   2013-01-17    \n",
              "7503387          40.695004       17:19        18:36  2013-01-23   2013-01-24    \n",
              "13114238         40.765388       13:46        16:11  2013-01-08   2013-01-09    \n",
              "14277041         40.750443       02:42        07:01  2013-01-06   2013-01-07    \n",
              "\n",
              "          trip_time  haversine_distance  speed  \n",
              "4440189      24.772               5.145    0.2  \n",
              "5960817      24.935               1.608    0.1  \n",
              "6899824      30.256               8.609    0.3  \n",
              "7008535      51.015               2.315    0.0  \n",
              "7503387      25.285               8.834    0.3  \n",
              "13114238     26.413              20.226    0.8  \n",
              "14277041     28.312               4.184    0.1  "
            ],
            "text/html": [
              "<div>\n",
              "<style scoped>\n",
              "    .dataframe tbody tr th:only-of-type {\n",
              "        vertical-align: middle;\n",
              "    }\n",
              "\n",
              "    .dataframe tbody tr th {\n",
              "        vertical-align: top;\n",
              "    }\n",
              "\n",
              "    .dataframe thead th {\n",
              "        text-align: right;\n",
              "    }\n",
              "</style>\n",
              "<table border=\"1\" class=\"dataframe\">\n",
              "  <thead>\n",
              "    <tr style=\"text-align: right;\">\n",
              "      <th></th>\n",
              "      <th>index</th>\n",
              "      <th>medallion</th>\n",
              "      <th>hack_license</th>\n",
              "      <th>pickup_datetime</th>\n",
              "      <th>dropoff_datetime</th>\n",
              "      <th>passenger_count</th>\n",
              "      <th>trip_distance</th>\n",
              "      <th>pickup_longitude</th>\n",
              "      <th>pickup_latitude</th>\n",
              "      <th>dropoff_longitude</th>\n",
              "      <th>dropoff_latitude</th>\n",
              "      <th>pickup_hour</th>\n",
              "      <th>dropoff_hour</th>\n",
              "      <th>pickup_date</th>\n",
              "      <th>dropoff_date</th>\n",
              "      <th>trip_time</th>\n",
              "      <th>haversine_distance</th>\n",
              "      <th>speed</th>\n",
              "    </tr>\n",
              "  </thead>\n",
              "  <tbody>\n",
              "    <tr>\n",
              "      <th>4440189</th>\n",
              "      <td>108078988</td>\n",
              "      <td>D6CE961B1FD2F1A9E7F2F4A2262A9DDB</td>\n",
              "      <td>5101210B73A0E033D1509B3E487C929C</td>\n",
              "      <td>2013-01-01 05:35:12</td>\n",
              "      <td>2013-01-02 06:21:33</td>\n",
              "      <td>1</td>\n",
              "      <td>63.2</td>\n",
              "      <td>-73.981781</td>\n",
              "      <td>40.757675</td>\n",
              "      <td>-73.923630</td>\n",
              "      <td>40.743526</td>\n",
              "      <td>05:35</td>\n",
              "      <td>06:21</td>\n",
              "      <td>2013-01-01</td>\n",
              "      <td>2013-01-02</td>\n",
              "      <td>24.772</td>\n",
              "      <td>5.145</td>\n",
              "      <td>0.2</td>\n",
              "    </tr>\n",
              "    <tr>\n",
              "      <th>5960817</th>\n",
              "      <td>195249269</td>\n",
              "      <td>BB73239609D520BBAB248020103AEEC6</td>\n",
              "      <td>CD969521B4652E0473472E2A997910B5</td>\n",
              "      <td>2013-01-01 06:19:15</td>\n",
              "      <td>2013-01-02 07:15:20</td>\n",
              "      <td>1</td>\n",
              "      <td>6.0</td>\n",
              "      <td>-73.906479</td>\n",
              "      <td>40.727551</td>\n",
              "      <td>-73.923340</td>\n",
              "      <td>40.734325</td>\n",
              "      <td>06:19</td>\n",
              "      <td>07:15</td>\n",
              "      <td>2013-01-01</td>\n",
              "      <td>2013-01-02</td>\n",
              "      <td>24.935</td>\n",
              "      <td>1.608</td>\n",
              "      <td>0.1</td>\n",
              "    </tr>\n",
              "    <tr>\n",
              "      <th>6899824</th>\n",
              "      <td>262717006</td>\n",
              "      <td>5E7022BA90EE0AFE3A29ED664C609F7D</td>\n",
              "      <td>B0E1CAF7CED1FDB6C565A28B9228944F</td>\n",
              "      <td>2013-01-01 01:01:15</td>\n",
              "      <td>2013-01-02 07:16:35</td>\n",
              "      <td>1</td>\n",
              "      <td>3.1</td>\n",
              "      <td>-73.966850</td>\n",
              "      <td>40.772388</td>\n",
              "      <td>-73.918274</td>\n",
              "      <td>40.840519</td>\n",
              "      <td>01:01</td>\n",
              "      <td>07:16</td>\n",
              "      <td>2013-01-01</td>\n",
              "      <td>2013-01-02</td>\n",
              "      <td>30.256</td>\n",
              "      <td>8.609</td>\n",
              "      <td>0.3</td>\n",
              "    </tr>\n",
              "    <tr>\n",
              "      <th>7008535</th>\n",
              "      <td>270028968</td>\n",
              "      <td>4BE667AF6BA4B0A6F4F63C865CD84EA6</td>\n",
              "      <td>CDBEB1B3C2058DEE1DFEBAF0FEB26303</td>\n",
              "      <td>2013-01-15 02:24:26</td>\n",
              "      <td>2013-01-17 05:25:20</td>\n",
              "      <td>1</td>\n",
              "      <td>3.2</td>\n",
              "      <td>-73.978653</td>\n",
              "      <td>40.745186</td>\n",
              "      <td>-73.952026</td>\n",
              "      <td>40.750340</td>\n",
              "      <td>02:24</td>\n",
              "      <td>05:25</td>\n",
              "      <td>2013-01-15</td>\n",
              "      <td>2013-01-17</td>\n",
              "      <td>51.015</td>\n",
              "      <td>2.315</td>\n",
              "      <td>0.0</td>\n",
              "    </tr>\n",
              "    <tr>\n",
              "      <th>7503387</th>\n",
              "      <td>308038703</td>\n",
              "      <td>001D3B86C2ACDEE4D1B98AFE52969F3D</td>\n",
              "      <td>F617CC84C553584DAE13E96665FCBDA4</td>\n",
              "      <td>2013-01-23 17:19:13</td>\n",
              "      <td>2013-01-24 18:36:18</td>\n",
              "      <td>1</td>\n",
              "      <td>4.1</td>\n",
              "      <td>-73.992012</td>\n",
              "      <td>40.745274</td>\n",
              "      <td>-73.910835</td>\n",
              "      <td>40.695004</td>\n",
              "      <td>17:19</td>\n",
              "      <td>18:36</td>\n",
              "      <td>2013-01-23</td>\n",
              "      <td>2013-01-24</td>\n",
              "      <td>25.285</td>\n",
              "      <td>8.834</td>\n",
              "      <td>0.3</td>\n",
              "    </tr>\n",
              "    <tr>\n",
              "      <th>13114238</th>\n",
              "      <td>931540550</td>\n",
              "      <td>662302712A0D1A0CC0CFEE09C77E810A</td>\n",
              "      <td>C005B53076A215B1A73F409B17EC0A9C</td>\n",
              "      <td>2013-01-08 13:46:54</td>\n",
              "      <td>2013-01-09 16:11:41</td>\n",
              "      <td>1</td>\n",
              "      <td>3.9</td>\n",
              "      <td>-73.789993</td>\n",
              "      <td>40.643177</td>\n",
              "      <td>-73.967712</td>\n",
              "      <td>40.765388</td>\n",
              "      <td>13:46</td>\n",
              "      <td>16:11</td>\n",
              "      <td>2013-01-08</td>\n",
              "      <td>2013-01-09</td>\n",
              "      <td>26.413</td>\n",
              "      <td>20.226</td>\n",
              "      <td>0.8</td>\n",
              "    </tr>\n",
              "    <tr>\n",
              "      <th>14277041</th>\n",
              "      <td>1102536756</td>\n",
              "      <td>BDE7EA34F2D207FBF8F725D4C2815F4F</td>\n",
              "      <td>50C83250729BE215D10C59A722CFE3E5</td>\n",
              "      <td>2013-01-06 02:42:23</td>\n",
              "      <td>2013-01-07 07:01:05</td>\n",
              "      <td>1</td>\n",
              "      <td>0.7</td>\n",
              "      <td>-73.991112</td>\n",
              "      <td>40.727783</td>\n",
              "      <td>-73.951462</td>\n",
              "      <td>40.750443</td>\n",
              "      <td>02:42</td>\n",
              "      <td>07:01</td>\n",
              "      <td>2013-01-06</td>\n",
              "      <td>2013-01-07</td>\n",
              "      <td>28.312</td>\n",
              "      <td>4.184</td>\n",
              "      <td>0.1</td>\n",
              "    </tr>\n",
              "  </tbody>\n",
              "</table>\n",
              "</div>"
            ]
          },
          "metadata": {
            "tags": []
          },
          "execution_count": 16
        }
      ]
    },
    {
      "cell_type": "markdown",
      "metadata": {
        "id": "lih6jcItDtIM"
      },
      "source": [
        "Trips longer than 4 hourse"
      ]
    },
    {
      "cell_type": "code",
      "metadata": {
        "id": "Qgi0JqVpAZI5",
        "colab": {
          "base_uri": "https://localhost:8080/",
          "height": 34
        },
        "outputId": "cb8a8fb0-59f8-407c-a234-8497586fcb58"
      },
      "source": [
        "valid_records.loc[valid_records['trip_time']>4.0].sort_values(by=['trip_time'], ascending=False).shape"
      ],
      "execution_count": null,
      "outputs": [
        {
          "output_type": "execute_result",
          "data": {
            "text/plain": [
              "(286, 18)"
            ]
          },
          "metadata": {
            "tags": []
          },
          "execution_count": 24
        }
      ]
    },
    {
      "cell_type": "markdown",
      "metadata": {
        "id": "2_p0kQGRyMJ8"
      },
      "source": [
        "Speed"
      ]
    },
    {
      "cell_type": "code",
      "metadata": {
        "id": "IYkSNuhmyL4k",
        "colab": {
          "base_uri": "https://localhost:8080/",
          "height": 105
        },
        "outputId": "5d2e0377-fb3c-43f9-ebd4-8b4483b1de2b"
      },
      "source": [
        "speeds = np.array(valid_records.sort_values(by=['speed']).speed)\n",
        "q1, q3= np.percentile(speeds,[25,75])\n",
        "iqr = q3 - q1\n",
        "lower_bound = q1 -(1.5 * iqr) \n",
        "upper_bound = q3 +(1.5 * iqr) \n",
        "print(\"IQR\")\n",
        "print(\"Lower bound: {}, Upper bound: {}\".format(lower_bound,upper_bound))\n",
        "print(\"\")\n",
        "# Z score\n",
        "z = np.abs(stats.zscore(speeds))\n",
        "threshold = 3\n",
        "idx = np.where(z > threshold)\n",
        "lower_bound = speeds[idx].min()\n",
        "upper_bound = speeds[idx].max()\n",
        "print(\"Z-score\")\n",
        "print(\"Upper bound from: {}, to: {}\".format(lower_bound,upper_bound))\n",
        "\n",
        "idx = np.where(z < -threshold)\n",
        "if(len(idx[0]) >0):\n",
        "  speeds[idx].max()"
      ],
      "execution_count": null,
      "outputs": [
        {
          "output_type": "stream",
          "text": [
            "IQR\n",
            "Lower bound: -3.700000000000003, Upper bound: 34.7\n",
            "\n",
            "Z-score\n",
            "Upper bound from: 83.7, to: 26655.6\n"
          ],
          "name": "stdout"
        }
      ]
    },
    {
      "cell_type": "markdown",
      "metadata": {
        "id": "_P3Bz5ybCP8n"
      },
      "source": [
        "### Conclusions\n"
      ]
    },
    {
      "cell_type": "markdown",
      "metadata": {
        "id": "ZX9PhPsICTit"
      },
      "source": [
        "Is it not possible to relay just on this statistical measures, considering the context i will use these treesholds:\n",
        "\n",
        "**Haversine Distance:**\n",
        "*   Lower bound: 0.1 km\n",
        "*   Upper bound: 70 km\n",
        "\n",
        "---\n",
        "**Trip time:**\n",
        "With our location granularity a movement of less than 6 minutes probably would not be enough to change zone\n",
        "\n",
        "4 hours, looking at the data seems the extreme case\n",
        "*   Lower bound: 0.1 h\n",
        "*   Upper bound: 4.0 h\n",
        "\n",
        "---\n",
        "From: https://www.kaggle.com/headsortails/nyc-taxi-eda-update-the-fast-the-curious#direct-distance-of-the-trip\n",
        "\n",
        "*Well, after removing the most extreme values this looks way better than I would have expected. An average speed of around 15 km/h sounds probably reasonable for NYC. Everything above 50 km/h certainly requires magical cars (or highway travel). Also keep in mind that this refers to the direct distance and that the real velocity would have been always higher.*\n",
        "\n",
        "*In a similar way as the average duration per day and hour we can also investigate the average speed for these time bins:*\n",
        "\n",
        "https://www.latimes.com/nation/la-na-new-york-traffic-manhattan-20180124-story.html\n",
        "\n",
        "**Speed:**\n",
        "*   Lower bound: 5 km/h\n",
        "*   Upper bound: 60 km/h\n"
      ]
    },
    {
      "cell_type": "code",
      "metadata": {
        "id": "X5ma4VtcIECC"
      },
      "source": [
        "# Treesholds\n",
        "haversine_distance_t = (0.1, 70)\n",
        "trip_time_t = (0.1, 4.0)\n",
        "speed_t = (5, 60)\n",
        "\n",
        "# define more restrictive thresholds for the intermediate trips\n",
        "intermediate_distance_t = (0.5, 20)\n",
        "intermediate_trip_time_t = (0.1, 1.0)\n",
        "intermediate_speed_t = (5, 40)"
      ],
      "execution_count": null,
      "outputs": []
    },
    {
      "cell_type": "markdown",
      "metadata": {
        "id": "x9M6nRTRtnnp"
      },
      "source": [
        "## Remove outliers before intermediate trips"
      ]
    },
    {
      "cell_type": "markdown",
      "metadata": {
        "id": "NdbtkfBItnnt"
      },
      "source": [
        "Remove trips with unreal speed"
      ]
    },
    {
      "cell_type": "code",
      "metadata": {
        "id": "-YCi4sC1tnnu",
        "colab": {
          "base_uri": "https://localhost:8080/",
          "height": 609
        },
        "outputId": "d4d4fef7-3b7b-47fb-8c02-8d56b05ec9d5"
      },
      "source": [
        "# speed\n",
        "valid_records = valid_records.loc[(valid_records.speed >= speed_t[0]) & \n",
        "                                          (valid_records.speed <= speed_t[1])]\n",
        "plt.figure(figsize=(10,10))\n",
        "plt.scatter(range(len(valid_records[\"speed\"])), np.sort(valid_records[\"speed\"].values), color = 'green')\n",
        "plt.xlabel('index')\n",
        "plt.ylabel('speed in km/h')\n",
        "plt.show()"
      ],
      "execution_count": null,
      "outputs": [
        {
          "output_type": "display_data",
          "data": {
            "image/png": "[encoded data removed]",
            "text/plain": [
              "<Figure size 720x720 with 1 Axes>"
            ]
          },
          "metadata": {
            "tags": [],
            "needs_background": "light"
          }
        }
      ]
    },
    {
      "cell_type": "markdown",
      "metadata": {
        "id": "Yx2S6Hhstnnx"
      },
      "source": [
        "Remove trips with unreal haversine distance"
      ]
    },
    {
      "cell_type": "code",
      "metadata": {
        "id": "tFNkMWtBtnnx",
        "colab": {
          "base_uri": "https://localhost:8080/",
          "height": 609
        },
        "outputId": "2db85380-f86d-4a5d-d155-84d9cd52b8ce"
      },
      "source": [
        "# haversine_distance\n",
        "valid_records = valid_records.loc[(valid_records.haversine_distance >= haversine_distance_t[0]) & \n",
        "                                          (valid_records.haversine_distance <= haversine_distance_t[1])]\n",
        "plt.figure(figsize=(10,10))\n",
        "plt.scatter(range(len(valid_records[\"haversine_distance\"])), np.sort(valid_records[\"haversine_distance\"]), color = 'blue')\n",
        "plt.xlabel('index')\n",
        "plt.ylabel('haversine_distance in km')\n",
        "plt.show()"
      ],
      "execution_count": null,
      "outputs": [
        {
          "output_type": "display_data",
          "data": {
            "image/png": "[encoded data removed]",
            "text/plain": [
              "<Figure size 720x720 with 1 Axes>"
            ]
          },
          "metadata": {
            "tags": [],
            "needs_background": "light"
          }
        }
      ]
    },
    {
      "cell_type": "markdown",
      "metadata": {
        "id": "iL6ZDTE7tnn0"
      },
      "source": [
        "Remove trips with unreal trip time"
      ]
    },
    {
      "cell_type": "code",
      "metadata": {
        "id": "FLjD7-Cwtnn0",
        "colab": {
          "base_uri": "https://localhost:8080/",
          "height": 609
        },
        "outputId": "00bb2cf1-c699-4256-896c-3de34d4df678"
      },
      "source": [
        "# trip_time\n",
        "valid_records = valid_records.loc[(valid_records.trip_time >= trip_time_t[0]) & \n",
        "                                          (valid_records.trip_time <= trip_time_t[1])]\n",
        "plt.figure(figsize=(10,10))\n",
        "plt.scatter(range(len(valid_records[\"trip_time\"])), np.sort(valid_records[\"trip_time\"]), color = 'red')\n",
        "plt.xlabel('index')\n",
        "plt.ylabel('trip_time in km')\n",
        "plt.show()"
      ],
      "execution_count": null,
      "outputs": [
        {
          "output_type": "display_data",
          "data": {
            "image/png": "[encoded data removed]",
            "text/plain": [
              "<Figure size 720x720 with 1 Axes>"
            ]
          },
          "metadata": {
            "tags": [],
            "needs_background": "light"
          }
        }
      ]
    },
    {
      "cell_type": "markdown",
      "metadata": {
        "id": "l5-EL13dJkpA"
      },
      "source": [
        "Final amount of valid records"
      ]
    },
    {
      "cell_type": "code",
      "metadata": {
        "id": "HBfSAFSAuYel"
      },
      "source": [
        "valid_records.shape"
      ],
      "execution_count": null,
      "outputs": []
    },
    {
      "cell_type": "markdown",
      "metadata": {
        "id": "IAQiWiQuAm5m"
      },
      "source": [
        "## Add intermediate trips"
      ]
    },
    {
      "cell_type": "code",
      "metadata": {
        "id": "tS8mb6kyplxf"
      },
      "source": [
        "# Treesholds\n",
        "haversine_distance_t = (0.1, 70)\n",
        "trip_time_t = (0.1, 4.0)\n",
        "speed_t = (5, 60)\n",
        "\n",
        "# define more restrictive thresholds for the intermediate trips\n",
        "intermediate_distance_t = (0.5, 20)\n",
        "intermediate_trip_time_t = (0.1, 1.0)\n",
        "intermediate_speed_t = (5, 40)"
      ],
      "execution_count": null,
      "outputs": []
    },
    {
      "cell_type": "code",
      "metadata": {
        "id": "Qi4Rmp5gt1gS",
        "colab": {
          "base_uri": "https://localhost:8080/",
          "height": 34
        },
        "outputId": "b46ca132-7f74-4a2e-aff5-17afcb67e144"
      },
      "source": [
        "# Retrieve the valid trips\n",
        "query = ('SELECT medallion, hack_license, pickup_datetime, dropoff_datetime, pickup_longitude, pickup_latitude, dropoff_longitude, dropoff_latitude '+\n",
        "         'FROM trip_record WHERE '+ where_clause + ' ORDER BY medallion, pickup_datetime') #LIMIT 100000\n",
        "t1 = datetime.now()\n",
        "valid_records = pd.read_sql_query( query, nyc_database, params={\"min_long\":min_long, \"max_long\":max_long, \"min_lat\":min_lat, \"max_lat\":max_lat, \"upper\":upper, \"lower\":lower})\n",
        "t2 = datetime.now()\n",
        "delta = t2 - t1\n",
        "print(\"time for query: {}\".format(delta.seconds))"
      ],
      "execution_count": null,
      "outputs": [
        {
          "output_type": "stream",
          "text": [
            "time for query: 194\n"
          ],
          "name": "stdout"
        }
      ]
    },
    {
      "cell_type": "markdown",
      "metadata": {
        "id": "taVDrIJyCovM"
      },
      "source": [
        "**To iterate across pairs of rows we need to make a copy of our dataframe and shif it by -1, so the line 1 will be concatenate with the line 2 and so on.**"
      ]
    },
    {
      "cell_type": "code",
      "metadata": {
        "id": "kae9eadD4hLB"
      },
      "source": [
        "# Convert the datetimes from strings to datetimes\n",
        "valid_records[\"pickup_datetime\"] = pd.to_datetime(valid_records[\"pickup_datetime\"])\n",
        "valid_records[\"dropoff_datetime\"] = pd.to_datetime(valid_records[\"dropoff_datetime\"])"
      ],
      "execution_count": null,
      "outputs": []
    },
    {
      "cell_type": "code",
      "metadata": {
        "id": "nSc1dXWl22NF"
      },
      "source": [
        "# sort the records\n",
        "valid_records.sort_values(by=['medallion', 'pickup_datetime'], inplace=True)"
      ],
      "execution_count": null,
      "outputs": []
    },
    {
      "cell_type": "code",
      "metadata": {
        "id": "yFw0T8ztCtJA",
        "colab": {
          "base_uri": "https://localhost:8080/",
          "height": 85
        },
        "outputId": "b735cd52-559f-4348-e0ba-e8d563092800"
      },
      "source": [
        "# Rename the columns for the dataframe copy\n",
        "print(\"Renaming the new columns...\")\n",
        "new_columns_name = np.apply_along_axis(lambda column: column+'_b', 0, np.array(valid_records.columns))\n",
        "\n",
        "# Copy the dataframe and use the new columns names (takes some time..)\n",
        "print(\"Copying the dataframe...\")\n",
        "#valid_records_copy = pd.DataFrame(data=valid_records.values, columns=new_columns_name)\n",
        "valid_records_copy  = valid_records.copy()\n",
        "valid_records_copy.columns = new_columns_name\n",
        "\n",
        "# Shift the copy dataframe\n",
        "print(\"Shifting the copied dataframe...\")\n",
        "valid_records_copy = valid_records_copy.shift(-1)\n",
        "\n",
        "# concatenate the dataframes \n",
        "print(\"Concatenating the two dataframes...\")\n",
        "concatenated_dataframes = pd.concat([valid_records, valid_records_copy], axis=1, sort=False).dropna()"
      ],
      "execution_count": null,
      "outputs": [
        {
          "output_type": "stream",
          "text": [
            "Renaming the new columns...\n",
            "Copying the dataframe...\n",
            "Shifting the copied dataframe...\n",
            "Concatenating the two dataframes...\n"
          ],
          "name": "stdout"
        }
      ]
    },
    {
      "cell_type": "code",
      "metadata": {
        "id": "_XT9txAo42R2",
        "colab": {
          "base_uri": "https://localhost:8080/",
          "height": 408
        },
        "outputId": "8d580b4e-46f6-432a-95f7-113ea6e5dfbe"
      },
      "source": [
        "concatenated_dataframes.dtypes"
      ],
      "execution_count": null,
      "outputs": [
        {
          "output_type": "execute_result",
          "data": {
            "text/plain": [
              "medallion                       object\n",
              "hack_license                    object\n",
              "pickup_datetime         datetime64[ns]\n",
              "dropoff_datetime        datetime64[ns]\n",
              "pickup_longitude               float64\n",
              "pickup_latitude                float64\n",
              "dropoff_longitude              float64\n",
              "dropoff_latitude               float64\n",
              "trip_time                      float64\n",
              "haversine_distance             float64\n",
              "speed                          float64\n",
              "medallion_b                     object\n",
              "hack_license_b                  object\n",
              "pickup_datetime_b       datetime64[ns]\n",
              "dropoff_datetime_b      datetime64[ns]\n",
              "pickup_longitude_b             float64\n",
              "pickup_latitude_b              float64\n",
              "dropoff_longitude_b            float64\n",
              "dropoff_latitude_b             float64\n",
              "trip_time_b                    float64\n",
              "haversine_distance_b           float64\n",
              "speed_b                        float64\n",
              "dtype: object"
            ]
          },
          "metadata": {
            "tags": []
          },
          "execution_count": 20
        }
      ]
    },
    {
      "cell_type": "markdown",
      "metadata": {
        "id": "8haxzr2hCxVr"
      },
      "source": [
        "To generate the intermediate trips we need a function to apply on each row.\n",
        "\n",
        "This function will make some checks and then return the new computed row.\n",
        "\n",
        "If an intermediate trip is not possibile, the function returns a None row.\n"
      ]
    },
    {
      "cell_type": "code",
      "metadata": {
        "id": "LZlyUM0Dhsgd",
        "colab": {
          "base_uri": "https://localhost:8080/",
          "height": 34
        },
        "outputId": "863087ca-5d5e-4b2d-a87f-ea098e3a1659"
      },
      "source": [
        "# Min time allowed between two trips and min intermediate trip length\n",
        "min_time = intermediate_trip_time_t[0]\n",
        "# Max time allowed between two trips and max intermediate trip length\n",
        "max_time = intermediate_trip_time_t[1]\n",
        "\n",
        "# Min distance allowed between two trips and min intermediate trip distance\n",
        "min_distance = intermediate_distance_t[0]\n",
        "# Max distance allowed between two trips and max intermediate trip distance\n",
        "max_distance = intermediate_distance_t[1]\n",
        "\n",
        "# Min speed allowed between two trips and min intermediate trip speed\n",
        "min_speed = intermediate_speed_t[0]\n",
        "# Max speed allowed between two trips and max intermediate trip speed\n",
        "max_speed = intermediate_speed_t[1]\n",
        "\n",
        "# we need to reduce the number of rows first\n",
        "concatenated_dataframes['intermediate_time'] = (concatenated_dataframes['pickup_datetime_b'] - \n",
        "                                                concatenated_dataframes['dropoff_datetime']).dt.total_seconds()\n",
        "concatenated_dataframes['intermediate_time'] = refine_time(concatenated_dataframes['intermediate_time'].values)\n",
        "\n",
        "concatenated_dataframes['intermediate_distance'] = haversine_np(concatenated_dataframes[\"pickup_latitude_b\"].values, concatenated_dataframes[\"pickup_longitude_b\"].values, \n",
        "                     concatenated_dataframes[\"dropoff_latitude\"].values, concatenated_dataframes[\"dropoff_longitude\"].values)\n",
        "concatenated_dataframes['intermediate_speed'] = round(concatenated_dataframes['intermediate_distance']/concatenated_dataframes['intermediate_time'], 1)\n",
        "\n",
        "candidates = concatenated_dataframes.loc[((concatenated_dataframes['medallion'] == concatenated_dataframes['medallion_b']) & (concatenated_dataframes['hack_license'] == concatenated_dataframes['hack_license_b'])) &\n",
        "                                         ((concatenated_dataframes['intermediate_time'] <= max_time) & (concatenated_dataframes['intermediate_time'] >= min_time)) & \n",
        "                                         ((concatenated_dataframes['intermediate_distance'] <= max_distance) & (concatenated_dataframes['intermediate_distance'] >= min_distance)) &\n",
        "                                         ((concatenated_dataframes['intermediate_speed'] <= max_speed) & (concatenated_dataframes['intermediate_speed'] >= min_speed))]\n",
        "candidates.shape\n",
        "                              "
      ],
      "execution_count": null,
      "outputs": [
        {
          "output_type": "execute_result",
          "data": {
            "text/plain": [
              "(3672324, 25)"
            ]
          },
          "metadata": {
            "tags": []
          },
          "execution_count": 21
        }
      ]
    },
    {
      "cell_type": "code",
      "metadata": {
        "id": "C8tOVSRIp7rU"
      },
      "source": [
        "# Change the columns names\n",
        "intermediate_trips = candidates[['medallion', 'hack_license', 'dropoff_datetime', 'pickup_datetime_b', 'dropoff_longitude', 'dropoff_latitude',\n",
        "                                 'pickup_longitude_b','pickup_latitude_b', 'intermediate_distance', 'intermediate_time','intermediate_speed']]\n",
        "\n",
        "intermediate_trips = intermediate_trips.rename(columns={'medallion':'medallion', 'hack_license':'hack_license', 'dropoff_datetime':'pickup_datetime', 'pickup_datetime_b':'dropoff_datetime', \n",
        "                                   'pickup_longitude_b':'dropoff_longitude',\n",
        "                                   'pickup_latitude_b':'dropoff_latitude', \n",
        "                                    'dropoff_longitude':'pickup_longitude',\n",
        "                                   'dropoff_latitude':'pickup_latitude', \n",
        "                                   'intermediate_distance': 'haversine_distance',\n",
        "                                   'intermediate_time':'trip_time', 'intermediate_speed':'speed'})"
      ],
      "execution_count": null,
      "outputs": []
    },
    {
      "cell_type": "code",
      "metadata": {
        "id": "AhWIeVxn8oki",
        "colab": {
          "base_uri": "https://localhost:8080/",
          "height": 419
        },
        "outputId": "1dbb6d3e-f606-47da-d136-79b160aa83a2"
      },
      "source": [
        "intermediate_trips"
      ],
      "execution_count": null,
      "outputs": [
        {
          "output_type": "execute_result",
          "data": {
            "text/html": [
              "<div>\n",
              "<style scoped>\n",
              "    .dataframe tbody tr th:only-of-type {\n",
              "        vertical-align: middle;\n",
              "    }\n",
              "\n",
              "    .dataframe tbody tr th {\n",
              "        vertical-align: top;\n",
              "    }\n",
              "\n",
              "    .dataframe thead th {\n",
              "        text-align: right;\n",
              "    }\n",
              "</style>\n",
              "<table border=\"1\" class=\"dataframe\">\n",
              "  <thead>\n",
              "    <tr style=\"text-align: right;\">\n",
              "      <th></th>\n",
              "      <th>medallion</th>\n",
              "      <th>hack_license</th>\n",
              "      <th>pickup_datetime</th>\n",
              "      <th>dropoff_datetime</th>\n",
              "      <th>pickup_longitude</th>\n",
              "      <th>pickup_latitude</th>\n",
              "      <th>dropoff_longitude</th>\n",
              "      <th>dropoff_latitude</th>\n",
              "      <th>haversine_distance</th>\n",
              "      <th>trip_time</th>\n",
              "      <th>speed</th>\n",
              "    </tr>\n",
              "  </thead>\n",
              "  <tbody>\n",
              "    <tr>\n",
              "      <th>1473399</th>\n",
              "      <td>00005007A9F30E289E760362F69E4EAD</td>\n",
              "      <td>A9AE329EA1138052DAC8FDFD8BA86603</td>\n",
              "      <td>2013-01-01 02:16:48</td>\n",
              "      <td>2013-01-01 02:31:09</td>\n",
              "      <td>-73.973053</td>\n",
              "      <td>40.792763</td>\n",
              "      <td>-73.984711</td>\n",
              "      <td>40.769283</td>\n",
              "      <td>2.789</td>\n",
              "      <td>0.239</td>\n",
              "      <td>11.7</td>\n",
              "    </tr>\n",
              "    <tr>\n",
              "      <th>12957388</th>\n",
              "      <td>00005007A9F30E289E760362F69E4EAD</td>\n",
              "      <td>A9AE329EA1138052DAC8FDFD8BA86603</td>\n",
              "      <td>2013-01-01 03:00:27</td>\n",
              "      <td>2013-01-01 03:06:36</td>\n",
              "      <td>-73.993317</td>\n",
              "      <td>40.758999</td>\n",
              "      <td>-74.001915</td>\n",
              "      <td>40.760899</td>\n",
              "      <td>0.754</td>\n",
              "      <td>0.102</td>\n",
              "      <td>7.4</td>\n",
              "    </tr>\n",
              "    <tr>\n",
              "      <th>1549352</th>\n",
              "      <td>00005007A9F30E289E760362F69E4EAD</td>\n",
              "      <td>A9AE329EA1138052DAC8FDFD8BA86603</td>\n",
              "      <td>2013-01-01 03:17:46</td>\n",
              "      <td>2013-01-01 03:27:23</td>\n",
              "      <td>-73.972771</td>\n",
              "      <td>40.756611</td>\n",
              "      <td>-73.983292</td>\n",
              "      <td>40.761707</td>\n",
              "      <td>1.052</td>\n",
              "      <td>0.160</td>\n",
              "      <td>6.6</td>\n",
              "    </tr>\n",
              "    <tr>\n",
              "      <th>2664094</th>\n",
              "      <td>00005007A9F30E289E760362F69E4EAD</td>\n",
              "      <td>A9AE329EA1138052DAC8FDFD8BA86603</td>\n",
              "      <td>2013-01-01 04:38:37</td>\n",
              "      <td>2013-01-01 04:46:57</td>\n",
              "      <td>-73.970795</td>\n",
              "      <td>40.764439</td>\n",
              "      <td>-73.988159</td>\n",
              "      <td>40.764755</td>\n",
              "      <td>1.463</td>\n",
              "      <td>0.139</td>\n",
              "      <td>10.5</td>\n",
              "    </tr>\n",
              "    <tr>\n",
              "      <th>6361073</th>\n",
              "      <td>00005007A9F30E289E760362F69E4EAD</td>\n",
              "      <td>43468C5D35F828693D96CB7CC9FDF341</td>\n",
              "      <td>2013-01-01 09:33:15</td>\n",
              "      <td>2013-01-01 09:46:11</td>\n",
              "      <td>-73.959076</td>\n",
              "      <td>40.716599</td>\n",
              "      <td>-73.980301</td>\n",
              "      <td>40.722206</td>\n",
              "      <td>1.894</td>\n",
              "      <td>0.216</td>\n",
              "      <td>8.8</td>\n",
              "    </tr>\n",
              "    <tr>\n",
              "      <th>...</th>\n",
              "      <td>...</td>\n",
              "      <td>...</td>\n",
              "      <td>...</td>\n",
              "      <td>...</td>\n",
              "      <td>...</td>\n",
              "      <td>...</td>\n",
              "      <td>...</td>\n",
              "      <td>...</td>\n",
              "      <td>...</td>\n",
              "      <td>...</td>\n",
              "      <td>...</td>\n",
              "    </tr>\n",
              "    <tr>\n",
              "      <th>14066021</th>\n",
              "      <td>FFFECF75AB6CC4FF9E8A8B633AB81C26</td>\n",
              "      <td>648659963B4639CA17884B391333A9C3</td>\n",
              "      <td>2013-01-31 14:44:00</td>\n",
              "      <td>2013-01-31 14:50:00</td>\n",
              "      <td>-73.994293</td>\n",
              "      <td>40.722755</td>\n",
              "      <td>-74.000450</td>\n",
              "      <td>40.732441</td>\n",
              "      <td>1.195</td>\n",
              "      <td>0.100</td>\n",
              "      <td>12.0</td>\n",
              "    </tr>\n",
              "    <tr>\n",
              "      <th>10560197</th>\n",
              "      <td>FFFECF75AB6CC4FF9E8A8B633AB81C26</td>\n",
              "      <td>D81D2A6BD1DFF04666B7F6E1DDDD5ADF</td>\n",
              "      <td>2013-01-31 18:22:00</td>\n",
              "      <td>2013-01-31 18:37:00</td>\n",
              "      <td>-73.985054</td>\n",
              "      <td>40.744747</td>\n",
              "      <td>-73.972382</td>\n",
              "      <td>40.758396</td>\n",
              "      <td>1.855</td>\n",
              "      <td>0.250</td>\n",
              "      <td>7.4</td>\n",
              "    </tr>\n",
              "    <tr>\n",
              "      <th>10907611</th>\n",
              "      <td>FFFECF75AB6CC4FF9E8A8B633AB81C26</td>\n",
              "      <td>D81D2A6BD1DFF04666B7F6E1DDDD5ADF</td>\n",
              "      <td>2013-01-31 19:07:00</td>\n",
              "      <td>2013-01-31 19:27:00</td>\n",
              "      <td>-73.967987</td>\n",
              "      <td>40.787090</td>\n",
              "      <td>-73.981651</td>\n",
              "      <td>40.768051</td>\n",
              "      <td>2.409</td>\n",
              "      <td>0.333</td>\n",
              "      <td>7.2</td>\n",
              "    </tr>\n",
              "    <tr>\n",
              "      <th>1718072</th>\n",
              "      <td>FFFECF75AB6CC4FF9E8A8B633AB81C26</td>\n",
              "      <td>D81D2A6BD1DFF04666B7F6E1DDDD5ADF</td>\n",
              "      <td>2013-01-31 20:22:00</td>\n",
              "      <td>2013-01-31 20:28:00</td>\n",
              "      <td>-73.982880</td>\n",
              "      <td>40.739799</td>\n",
              "      <td>-73.990135</td>\n",
              "      <td>40.730373</td>\n",
              "      <td>1.213</td>\n",
              "      <td>0.100</td>\n",
              "      <td>12.1</td>\n",
              "    </tr>\n",
              "    <tr>\n",
              "      <th>4962148</th>\n",
              "      <td>FFFECF75AB6CC4FF9E8A8B633AB81C26</td>\n",
              "      <td>D81D2A6BD1DFF04666B7F6E1DDDD5ADF</td>\n",
              "      <td>2013-01-31 22:20:00</td>\n",
              "      <td>2013-01-31 22:26:00</td>\n",
              "      <td>-73.994537</td>\n",
              "      <td>40.729446</td>\n",
              "      <td>-74.001534</td>\n",
              "      <td>40.735813</td>\n",
              "      <td>0.921</td>\n",
              "      <td>0.100</td>\n",
              "      <td>9.2</td>\n",
              "    </tr>\n",
              "  </tbody>\n",
              "</table>\n",
              "<p>3672324 rows × 11 columns</p>\n",
              "</div>"
            ],
            "text/plain": [
              "                                 medallion  ... speed\n",
              "1473399   00005007A9F30E289E760362F69E4EAD  ...  11.7\n",
              "12957388  00005007A9F30E289E760362F69E4EAD  ...   7.4\n",
              "1549352   00005007A9F30E289E760362F69E4EAD  ...   6.6\n",
              "2664094   00005007A9F30E289E760362F69E4EAD  ...  10.5\n",
              "6361073   00005007A9F30E289E760362F69E4EAD  ...   8.8\n",
              "...                                    ...  ...   ...\n",
              "14066021  FFFECF75AB6CC4FF9E8A8B633AB81C26  ...  12.0\n",
              "10560197  FFFECF75AB6CC4FF9E8A8B633AB81C26  ...   7.4\n",
              "10907611  FFFECF75AB6CC4FF9E8A8B633AB81C26  ...   7.2\n",
              "1718072   FFFECF75AB6CC4FF9E8A8B633AB81C26  ...  12.1\n",
              "4962148   FFFECF75AB6CC4FF9E8A8B633AB81C26  ...   9.2\n",
              "\n",
              "[3672324 rows x 11 columns]"
            ]
          },
          "metadata": {
            "tags": []
          },
          "execution_count": 24
        }
      ]
    },
    {
      "cell_type": "code",
      "metadata": {
        "id": "DNP80tm2NW0k"
      },
      "source": [
        "# compute extra features now, before now it would have just added complexity to the big operations we made to compute the intermediate trips\n",
        "valid_records['trip_time'] = (valid_records['dropoff_datetime'] - valid_records['pickup_datetime']).dt.total_seconds()\n",
        "valid_records['trip_time'] = refine_time(valid_records['trip_time'].values)\n",
        "valid_records['haversine_distance'] = haversine_np(valid_records[\"pickup_latitude\"], valid_records[\"pickup_longitude\"], \n",
        "                     valid_records[\"dropoff_latitude\"], valid_records[\"dropoff_longitude\"])\n",
        "valid_records['speed'] = round(valid_records['haversine_distance']/valid_records['trip_time'], 1)\n",
        "\n",
        "# Union of the original valid trips and the new intermediate trips\n",
        "all_valid_records = pd.concat([valid_records, intermediate_trips], axis=0)\n",
        "\n",
        "# Sort the records by medallion and pickup_time\n",
        "all_valid_records = all_valid_records.sort_values(by=['medallion', 'pickup_datetime'])"
      ],
      "execution_count": null,
      "outputs": []
    },
    {
      "cell_type": "code",
      "metadata": {
        "id": "iZInb6emEsy3",
        "colab": {
          "base_uri": "https://localhost:8080/",
          "height": 1000
        },
        "outputId": "e1126408-7397-44d8-ad17-797829772bf0"
      },
      "source": [
        "all_valid_records.head(20)"
      ],
      "execution_count": null,
      "outputs": [
        {
          "output_type": "execute_result",
          "data": {
            "text/plain": [
              "                           medallion                      hack_license  \\\n",
              "0   00005007A9F30E289E760362F69E4EAD  A9AE329EA1138052DAC8FDFD8BA86603   \n",
              "1   00005007A9F30E289E760362F69E4EAD  A9AE329EA1138052DAC8FDFD8BA86603   \n",
              "2   00005007A9F30E289E760362F69E4EAD  A9AE329EA1138052DAC8FDFD8BA86603   \n",
              "3   00005007A9F30E289E760362F69E4EAD  A9AE329EA1138052DAC8FDFD8BA86603   \n",
              "4   00005007A9F30E289E760362F69E4EAD  A9AE329EA1138052DAC8FDFD8BA86603   \n",
              "5   00005007A9F30E289E760362F69E4EAD  A9AE329EA1138052DAC8FDFD8BA86603   \n",
              "5   00005007A9F30E289E760362F69E4EAD  A9AE329EA1138052DAC8FDFD8BA86603   \n",
              "6   00005007A9F30E289E760362F69E4EAD  A9AE329EA1138052DAC8FDFD8BA86603   \n",
              "7   00005007A9F30E289E760362F69E4EAD  A9AE329EA1138052DAC8FDFD8BA86603   \n",
              "7   00005007A9F30E289E760362F69E4EAD  A9AE329EA1138052DAC8FDFD8BA86603   \n",
              "8   00005007A9F30E289E760362F69E4EAD  A9AE329EA1138052DAC8FDFD8BA86603   \n",
              "8   00005007A9F30E289E760362F69E4EAD  A9AE329EA1138052DAC8FDFD8BA86603   \n",
              "9   00005007A9F30E289E760362F69E4EAD  A9AE329EA1138052DAC8FDFD8BA86603   \n",
              "10  00005007A9F30E289E760362F69E4EAD  A9AE329EA1138052DAC8FDFD8BA86603   \n",
              "10  00005007A9F30E289E760362F69E4EAD  A9AE329EA1138052DAC8FDFD8BA86603   \n",
              "11  00005007A9F30E289E760362F69E4EAD  A9AE329EA1138052DAC8FDFD8BA86603   \n",
              "12  00005007A9F30E289E760362F69E4EAD  A9AE329EA1138052DAC8FDFD8BA86603   \n",
              "12  00005007A9F30E289E760362F69E4EAD  A9AE329EA1138052DAC8FDFD8BA86603   \n",
              "13  00005007A9F30E289E760362F69E4EAD  A9AE329EA1138052DAC8FDFD8BA86603   \n",
              "14  00005007A9F30E289E760362F69E4EAD  43468C5D35F828693D96CB7CC9FDF341   \n",
              "\n",
              "       pickup_datetime    dropoff_datetime  pickup_longitude  pickup_latitude  \\\n",
              "0  2013-01-01 00:29:39 2013-01-01 00:37:47        -73.976624        40.751686   \n",
              "1  2013-01-01 00:39:16 2013-01-01 00:58:43        -73.948524        40.778000   \n",
              "2  2013-01-01 00:59:38 2013-01-01 01:05:59        -73.979164        40.780136   \n",
              "3  2013-01-01 01:07:33 2013-01-01 01:19:52        -73.962669        40.775368   \n",
              "4  2013-01-01 01:21:23 2013-01-01 01:56:09        -73.955887        40.804317   \n",
              "5  2013-01-01 01:57:45 2013-01-01 02:16:48        -74.002373        40.719803   \n",
              "5  2013-01-01 02:16:48 2013-01-01 02:31:09        -73.973053        40.792763   \n",
              "6  2013-01-01 02:31:09 2013-01-01 02:42:14        -73.984711        40.769283   \n",
              "7  2013-01-01 02:43:02 2013-01-01 03:00:27        -73.953056        40.780090   \n",
              "7  2013-01-01 03:00:27 2013-01-01 03:06:36        -73.993317        40.758999   \n",
              "8  2013-01-01 03:06:36 2013-01-01 03:17:46        -74.001915        40.760899   \n",
              "8  2013-01-01 03:17:46 2013-01-01 03:27:23        -73.972771        40.756611   \n",
              "9  2013-01-01 03:27:23 2013-01-01 03:45:10        -73.983292        40.761707   \n",
              "10 2013-01-01 03:49:07 2013-01-01 04:02:02        -74.010307        40.725868   \n",
              "10 2013-01-01 04:02:02 2013-01-01 04:24:35        -73.976341        40.748775   \n",
              "11 2013-01-01 04:24:35 2013-01-01 04:31:21        -73.988106        40.760326   \n",
              "12 2013-01-01 04:31:44 2013-01-01 04:38:37        -73.995331        40.759102   \n",
              "12 2013-01-01 04:38:37 2013-01-01 04:46:57        -73.970795        40.764439   \n",
              "13 2013-01-01 04:46:57 2013-01-01 04:59:28        -73.988159        40.764755   \n",
              "14 2013-01-01 06:48:43 2013-01-01 06:50:38        -73.975136        40.752312   \n",
              "\n",
              "    dropoff_longitude  dropoff_latitude  trip_time  haversine_distance  speed  \n",
              "0          -73.949348         40.776871      0.136               3.622   26.6  \n",
              "1          -73.978966         40.780052      0.324               2.573    7.9  \n",
              "2          -73.961884         40.774754      0.106               1.573   14.8  \n",
              "3          -73.956116         40.804432      0.205               3.279   16.0  \n",
              "4          -74.000214         40.721714      0.579               9.915   17.1  \n",
              "5          -73.973053         40.792763      0.318               8.480   26.7  \n",
              "5          -73.984711         40.769283      0.239               2.789   11.7  \n",
              "6          -73.953056         40.780083      0.185               2.924   15.8  \n",
              "7          -73.993317         40.758999      0.290               4.123   14.2  \n",
              "7          -74.001915         40.760899      0.102               0.754    7.4  \n",
              "8          -73.972771         40.756611      0.186               2.501   13.4  \n",
              "8          -73.983292         40.761707      0.160               1.052    6.6  \n",
              "9          -74.016266         40.705795      0.296               6.810   23.0  \n",
              "10         -73.976341         40.748775      0.215               3.831   17.8  \n",
              "10         -73.988106         40.760326      0.376               1.622    4.3  \n",
              "11         -73.995361         40.758991      0.113               0.629    5.6  \n",
              "12         -73.970795         40.764439      0.115               2.150   18.7  \n",
              "12         -73.988159         40.764755      0.139               1.463   10.5  \n",
              "13         -73.951897         40.776188      0.209               3.308   15.8  \n",
              "14         -73.979347         40.746788      0.032               0.709   22.2  "
            ],
            "text/html": [
              "<div>\n",
              "<style scoped>\n",
              "    .dataframe tbody tr th:only-of-type {\n",
              "        vertical-align: middle;\n",
              "    }\n",
              "\n",
              "    .dataframe tbody tr th {\n",
              "        vertical-align: top;\n",
              "    }\n",
              "\n",
              "    .dataframe thead th {\n",
              "        text-align: right;\n",
              "    }\n",
              "</style>\n",
              "<table border=\"1\" class=\"dataframe\">\n",
              "  <thead>\n",
              "    <tr style=\"text-align: right;\">\n",
              "      <th></th>\n",
              "      <th>medallion</th>\n",
              "      <th>hack_license</th>\n",
              "      <th>pickup_datetime</th>\n",
              "      <th>dropoff_datetime</th>\n",
              "      <th>pickup_longitude</th>\n",
              "      <th>pickup_latitude</th>\n",
              "      <th>dropoff_longitude</th>\n",
              "      <th>dropoff_latitude</th>\n",
              "      <th>trip_time</th>\n",
              "      <th>haversine_distance</th>\n",
              "      <th>speed</th>\n",
              "    </tr>\n",
              "  </thead>\n",
              "  <tbody>\n",
              "    <tr>\n",
              "      <th>0</th>\n",
              "      <td>00005007A9F30E289E760362F69E4EAD</td>\n",
              "      <td>A9AE329EA1138052DAC8FDFD8BA86603</td>\n",
              "      <td>2013-01-01 00:29:39</td>\n",
              "      <td>2013-01-01 00:37:47</td>\n",
              "      <td>-73.976624</td>\n",
              "      <td>40.751686</td>\n",
              "      <td>-73.949348</td>\n",
              "      <td>40.776871</td>\n",
              "      <td>0.136</td>\n",
              "      <td>3.622</td>\n",
              "      <td>26.6</td>\n",
              "    </tr>\n",
              "    <tr>\n",
              "      <th>1</th>\n",
              "      <td>00005007A9F30E289E760362F69E4EAD</td>\n",
              "      <td>A9AE329EA1138052DAC8FDFD8BA86603</td>\n",
              "      <td>2013-01-01 00:39:16</td>\n",
              "      <td>2013-01-01 00:58:43</td>\n",
              "      <td>-73.948524</td>\n",
              "      <td>40.778000</td>\n",
              "      <td>-73.978966</td>\n",
              "      <td>40.780052</td>\n",
              "      <td>0.324</td>\n",
              "      <td>2.573</td>\n",
              "      <td>7.9</td>\n",
              "    </tr>\n",
              "    <tr>\n",
              "      <th>2</th>\n",
              "      <td>00005007A9F30E289E760362F69E4EAD</td>\n",
              "      <td>A9AE329EA1138052DAC8FDFD8BA86603</td>\n",
              "      <td>2013-01-01 00:59:38</td>\n",
              "      <td>2013-01-01 01:05:59</td>\n",
              "      <td>-73.979164</td>\n",
              "      <td>40.780136</td>\n",
              "      <td>-73.961884</td>\n",
              "      <td>40.774754</td>\n",
              "      <td>0.106</td>\n",
              "      <td>1.573</td>\n",
              "      <td>14.8</td>\n",
              "    </tr>\n",
              "    <tr>\n",
              "      <th>3</th>\n",
              "      <td>00005007A9F30E289E760362F69E4EAD</td>\n",
              "      <td>A9AE329EA1138052DAC8FDFD8BA86603</td>\n",
              "      <td>2013-01-01 01:07:33</td>\n",
              "      <td>2013-01-01 01:19:52</td>\n",
              "      <td>-73.962669</td>\n",
              "      <td>40.775368</td>\n",
              "      <td>-73.956116</td>\n",
              "      <td>40.804432</td>\n",
              "      <td>0.205</td>\n",
              "      <td>3.279</td>\n",
              "      <td>16.0</td>\n",
              "    </tr>\n",
              "    <tr>\n",
              "      <th>4</th>\n",
              "      <td>00005007A9F30E289E760362F69E4EAD</td>\n",
              "      <td>A9AE329EA1138052DAC8FDFD8BA86603</td>\n",
              "      <td>2013-01-01 01:21:23</td>\n",
              "      <td>2013-01-01 01:56:09</td>\n",
              "      <td>-73.955887</td>\n",
              "      <td>40.804317</td>\n",
              "      <td>-74.000214</td>\n",
              "      <td>40.721714</td>\n",
              "      <td>0.579</td>\n",
              "      <td>9.915</td>\n",
              "      <td>17.1</td>\n",
              "    </tr>\n",
              "    <tr>\n",
              "      <th>5</th>\n",
              "      <td>00005007A9F30E289E760362F69E4EAD</td>\n",
              "      <td>A9AE329EA1138052DAC8FDFD8BA86603</td>\n",
              "      <td>2013-01-01 01:57:45</td>\n",
              "      <td>2013-01-01 02:16:48</td>\n",
              "      <td>-74.002373</td>\n",
              "      <td>40.719803</td>\n",
              "      <td>-73.973053</td>\n",
              "      <td>40.792763</td>\n",
              "      <td>0.318</td>\n",
              "      <td>8.480</td>\n",
              "      <td>26.7</td>\n",
              "    </tr>\n",
              "    <tr>\n",
              "      <th>5</th>\n",
              "      <td>00005007A9F30E289E760362F69E4EAD</td>\n",
              "      <td>A9AE329EA1138052DAC8FDFD8BA86603</td>\n",
              "      <td>2013-01-01 02:16:48</td>\n",
              "      <td>2013-01-01 02:31:09</td>\n",
              "      <td>-73.973053</td>\n",
              "      <td>40.792763</td>\n",
              "      <td>-73.984711</td>\n",
              "      <td>40.769283</td>\n",
              "      <td>0.239</td>\n",
              "      <td>2.789</td>\n",
              "      <td>11.7</td>\n",
              "    </tr>\n",
              "    <tr>\n",
              "      <th>6</th>\n",
              "      <td>00005007A9F30E289E760362F69E4EAD</td>\n",
              "      <td>A9AE329EA1138052DAC8FDFD8BA86603</td>\n",
              "      <td>2013-01-01 02:31:09</td>\n",
              "      <td>2013-01-01 02:42:14</td>\n",
              "      <td>-73.984711</td>\n",
              "      <td>40.769283</td>\n",
              "      <td>-73.953056</td>\n",
              "      <td>40.780083</td>\n",
              "      <td>0.185</td>\n",
              "      <td>2.924</td>\n",
              "      <td>15.8</td>\n",
              "    </tr>\n",
              "    <tr>\n",
              "      <th>7</th>\n",
              "      <td>00005007A9F30E289E760362F69E4EAD</td>\n",
              "      <td>A9AE329EA1138052DAC8FDFD8BA86603</td>\n",
              "      <td>2013-01-01 02:43:02</td>\n",
              "      <td>2013-01-01 03:00:27</td>\n",
              "      <td>-73.953056</td>\n",
              "      <td>40.780090</td>\n",
              "      <td>-73.993317</td>\n",
              "      <td>40.758999</td>\n",
              "      <td>0.290</td>\n",
              "      <td>4.123</td>\n",
              "      <td>14.2</td>\n",
              "    </tr>\n",
              "    <tr>\n",
              "      <th>7</th>\n",
              "      <td>00005007A9F30E289E760362F69E4EAD</td>\n",
              "      <td>A9AE329EA1138052DAC8FDFD8BA86603</td>\n",
              "      <td>2013-01-01 03:00:27</td>\n",
              "      <td>2013-01-01 03:06:36</td>\n",
              "      <td>-73.993317</td>\n",
              "      <td>40.758999</td>\n",
              "      <td>-74.001915</td>\n",
              "      <td>40.760899</td>\n",
              "      <td>0.102</td>\n",
              "      <td>0.754</td>\n",
              "      <td>7.4</td>\n",
              "    </tr>\n",
              "    <tr>\n",
              "      <th>8</th>\n",
              "      <td>00005007A9F30E289E760362F69E4EAD</td>\n",
              "      <td>A9AE329EA1138052DAC8FDFD8BA86603</td>\n",
              "      <td>2013-01-01 03:06:36</td>\n",
              "      <td>2013-01-01 03:17:46</td>\n",
              "      <td>-74.001915</td>\n",
              "      <td>40.760899</td>\n",
              "      <td>-73.972771</td>\n",
              "      <td>40.756611</td>\n",
              "      <td>0.186</td>\n",
              "      <td>2.501</td>\n",
              "      <td>13.4</td>\n",
              "    </tr>\n",
              "    <tr>\n",
              "      <th>8</th>\n",
              "      <td>00005007A9F30E289E760362F69E4EAD</td>\n",
              "      <td>A9AE329EA1138052DAC8FDFD8BA86603</td>\n",
              "      <td>2013-01-01 03:17:46</td>\n",
              "      <td>2013-01-01 03:27:23</td>\n",
              "      <td>-73.972771</td>\n",
              "      <td>40.756611</td>\n",
              "      <td>-73.983292</td>\n",
              "      <td>40.761707</td>\n",
              "      <td>0.160</td>\n",
              "      <td>1.052</td>\n",
              "      <td>6.6</td>\n",
              "    </tr>\n",
              "    <tr>\n",
              "      <th>9</th>\n",
              "      <td>00005007A9F30E289E760362F69E4EAD</td>\n",
              "      <td>A9AE329EA1138052DAC8FDFD8BA86603</td>\n",
              "      <td>2013-01-01 03:27:23</td>\n",
              "      <td>2013-01-01 03:45:10</td>\n",
              "      <td>-73.983292</td>\n",
              "      <td>40.761707</td>\n",
              "      <td>-74.016266</td>\n",
              "      <td>40.705795</td>\n",
              "      <td>0.296</td>\n",
              "      <td>6.810</td>\n",
              "      <td>23.0</td>\n",
              "    </tr>\n",
              "    <tr>\n",
              "      <th>10</th>\n",
              "      <td>00005007A9F30E289E760362F69E4EAD</td>\n",
              "      <td>A9AE329EA1138052DAC8FDFD8BA86603</td>\n",
              "      <td>2013-01-01 03:49:07</td>\n",
              "      <td>2013-01-01 04:02:02</td>\n",
              "      <td>-74.010307</td>\n",
              "      <td>40.725868</td>\n",
              "      <td>-73.976341</td>\n",
              "      <td>40.748775</td>\n",
              "      <td>0.215</td>\n",
              "      <td>3.831</td>\n",
              "      <td>17.8</td>\n",
              "    </tr>\n",
              "    <tr>\n",
              "      <th>10</th>\n",
              "      <td>00005007A9F30E289E760362F69E4EAD</td>\n",
              "      <td>A9AE329EA1138052DAC8FDFD8BA86603</td>\n",
              "      <td>2013-01-01 04:02:02</td>\n",
              "      <td>2013-01-01 04:24:35</td>\n",
              "      <td>-73.976341</td>\n",
              "      <td>40.748775</td>\n",
              "      <td>-73.988106</td>\n",
              "      <td>40.760326</td>\n",
              "      <td>0.376</td>\n",
              "      <td>1.622</td>\n",
              "      <td>4.3</td>\n",
              "    </tr>\n",
              "    <tr>\n",
              "      <th>11</th>\n",
              "      <td>00005007A9F30E289E760362F69E4EAD</td>\n",
              "      <td>A9AE329EA1138052DAC8FDFD8BA86603</td>\n",
              "      <td>2013-01-01 04:24:35</td>\n",
              "      <td>2013-01-01 04:31:21</td>\n",
              "      <td>-73.988106</td>\n",
              "      <td>40.760326</td>\n",
              "      <td>-73.995361</td>\n",
              "      <td>40.758991</td>\n",
              "      <td>0.113</td>\n",
              "      <td>0.629</td>\n",
              "      <td>5.6</td>\n",
              "    </tr>\n",
              "    <tr>\n",
              "      <th>12</th>\n",
              "      <td>00005007A9F30E289E760362F69E4EAD</td>\n",
              "      <td>A9AE329EA1138052DAC8FDFD8BA86603</td>\n",
              "      <td>2013-01-01 04:31:44</td>\n",
              "      <td>2013-01-01 04:38:37</td>\n",
              "      <td>-73.995331</td>\n",
              "      <td>40.759102</td>\n",
              "      <td>-73.970795</td>\n",
              "      <td>40.764439</td>\n",
              "      <td>0.115</td>\n",
              "      <td>2.150</td>\n",
              "      <td>18.7</td>\n",
              "    </tr>\n",
              "    <tr>\n",
              "      <th>12</th>\n",
              "      <td>00005007A9F30E289E760362F69E4EAD</td>\n",
              "      <td>A9AE329EA1138052DAC8FDFD8BA86603</td>\n",
              "      <td>2013-01-01 04:38:37</td>\n",
              "      <td>2013-01-01 04:46:57</td>\n",
              "      <td>-73.970795</td>\n",
              "      <td>40.764439</td>\n",
              "      <td>-73.988159</td>\n",
              "      <td>40.764755</td>\n",
              "      <td>0.139</td>\n",
              "      <td>1.463</td>\n",
              "      <td>10.5</td>\n",
              "    </tr>\n",
              "    <tr>\n",
              "      <th>13</th>\n",
              "      <td>00005007A9F30E289E760362F69E4EAD</td>\n",
              "      <td>A9AE329EA1138052DAC8FDFD8BA86603</td>\n",
              "      <td>2013-01-01 04:46:57</td>\n",
              "      <td>2013-01-01 04:59:28</td>\n",
              "      <td>-73.988159</td>\n",
              "      <td>40.764755</td>\n",
              "      <td>-73.951897</td>\n",
              "      <td>40.776188</td>\n",
              "      <td>0.209</td>\n",
              "      <td>3.308</td>\n",
              "      <td>15.8</td>\n",
              "    </tr>\n",
              "    <tr>\n",
              "      <th>14</th>\n",
              "      <td>00005007A9F30E289E760362F69E4EAD</td>\n",
              "      <td>43468C5D35F828693D96CB7CC9FDF341</td>\n",
              "      <td>2013-01-01 06:48:43</td>\n",
              "      <td>2013-01-01 06:50:38</td>\n",
              "      <td>-73.975136</td>\n",
              "      <td>40.752312</td>\n",
              "      <td>-73.979347</td>\n",
              "      <td>40.746788</td>\n",
              "      <td>0.032</td>\n",
              "      <td>0.709</td>\n",
              "      <td>22.2</td>\n",
              "    </tr>\n",
              "  </tbody>\n",
              "</table>\n",
              "</div>"
            ]
          },
          "metadata": {
            "tags": []
          },
          "execution_count": 37
        }
      ]
    },
    {
      "cell_type": "code",
      "metadata": {
        "id": "dLGZqWsHsaOC",
        "colab": {
          "base_uri": "https://localhost:8080/",
          "height": 34
        },
        "outputId": "dc6777d5-a05c-49ae-ed8d-e961861a4d41"
      },
      "source": [
        "all_valid_records.shape"
      ],
      "execution_count": null,
      "outputs": [
        {
          "output_type": "execute_result",
          "data": {
            "text/plain": [
              "(14283929, 11)"
            ]
          },
          "metadata": {
            "tags": []
          },
          "execution_count": 27
        }
      ]
    },
    {
      "cell_type": "markdown",
      "metadata": {
        "id": "IbGL4H46Fr4m"
      },
      "source": [
        "## Statistics on full dataset\n",
        "*From this analysis we can see that there are few outlier considering the values of distance, time and speed*\n",
        "\n",
        "*We should remove them*"
      ]
    },
    {
      "cell_type": "markdown",
      "metadata": {
        "id": "OXiYUurFb6W-"
      },
      "source": [
        "### First and Last date\n"
      ]
    },
    {
      "cell_type": "code",
      "metadata": {
        "id": "cbcYca33b6XA",
        "colab": {
          "base_uri": "https://localhost:8080/",
          "height": 141
        },
        "outputId": "777df3d4-3833-410a-d0ef-d24afa96d4f2"
      },
      "source": [
        "# pickup\n",
        "max_pickup_date = all_valid_records[\"pickup_datetime\"].max()\n",
        "min_pickup_date= all_valid_records[\"pickup_datetime\"].min()\n",
        "\n",
        "\n",
        "# dropoff\n",
        "max_dropoff_date = all_valid_records[\"dropoff_datetime\"].max()\n",
        "min_dropoff_date= all_valid_records[\"dropoff_datetime\"].min()\n",
        "\n",
        "\n",
        "\n",
        "print(\"Pickup: \")\n",
        "print(\"Min Date: \", min_pickup_date)\n",
        "print(\"Max Date: \", max_pickup_date)\n",
        "\n",
        "\n",
        "print(\" \")\n",
        "\n",
        "print(\"Dropoff: \")\n",
        "print(\"Min Date: \", min_dropoff_date)\n",
        "print(\"Max Date: \", max_dropoff_date)"
      ],
      "execution_count": null,
      "outputs": [
        {
          "output_type": "stream",
          "text": [
            "Pickup: \n",
            "Min Date:  2013-01-01 00:00:00\n",
            "Max Date:  2013-01-31 23:59:59\n",
            " \n",
            "Dropoff: \n",
            "Min Date:  2013-01-01 00:06:00\n",
            "Max Date:  2013-02-01 01:37:27\n"
          ],
          "name": "stdout"
        }
      ]
    },
    {
      "cell_type": "markdown",
      "metadata": {
        "id": "HWL1y_J2aCKP"
      },
      "source": [
        "### Min and Max **Longitude** and **Latitude** for Pickup and Dropoff\n"
      ]
    },
    {
      "cell_type": "code",
      "metadata": {
        "id": "V_q4PHa7aFGc",
        "colab": {
          "base_uri": "https://localhost:8080/",
          "height": 212
        },
        "outputId": "290f29f7-7ac9-4f9a-ee64-035678bac609"
      },
      "source": [
        "\n",
        "# pickup\n",
        "max_pickup_longitude = all_valid_records[\"pickup_longitude\"].max()\n",
        "min_pickup_longitude= all_valid_records[\"pickup_longitude\"].min()\n",
        "max_pickup_latitude = all_valid_records[\"pickup_latitude\"].max()\n",
        "min_pickup_latitude= all_valid_records[\"pickup_latitude\"].min()\n",
        "\n",
        "# dropoff\n",
        "max_dropoff_latitude = all_valid_records[\"dropoff_latitude\"].max()\n",
        "min_dropoff_latitude= all_valid_records[\"dropoff_latitude\"].min()\n",
        "max_dropoff_longitude = all_valid_records[\"dropoff_longitude\"].max()\n",
        "min_dropoff_longitude= all_valid_records[\"dropoff_longitude\"].min()\n",
        "\n",
        "\n",
        "print(\"Pickup: \")\n",
        "print(\"Min Latitude: \", min_pickup_latitude)\n",
        "print(\"Min Longitude: \", min_pickup_longitude)\n",
        "print(\"Max Latitude: \", max_pickup_latitude)\n",
        "print(\"Max Longitude: \", max_pickup_longitude)\n",
        "\n",
        "print(\" \")\n",
        "\n",
        "print(\"Dropoff: \")\n",
        "print(\"Min Latitude: \", min_dropoff_latitude)\n",
        "print(\"Min Longitude: \", min_dropoff_longitude)\n",
        "print(\"Max Latitude: \", max_dropoff_latitude)\n",
        "print(\"Max Longitude: \", max_dropoff_longitude)"
      ],
      "execution_count": null,
      "outputs": [
        {
          "output_type": "stream",
          "text": [
            "Pickup: \n",
            "Min Latitude:  40.095692\n",
            "Min Longitude:  -75.360687\n",
            "Max Latitude:  41.908611\n",
            "Max Longitude:  -72.975975\n",
            " \n",
            "Dropoff: \n",
            "Min Latitude:  39.811676\n",
            "Min Longitude:  -75.40909599999999\n",
            "Max Latitude:  41.908611\n",
            "Max Longitude:  -72.917526\n"
          ],
          "name": "stdout"
        }
      ]
    },
    {
      "cell_type": "markdown",
      "metadata": {
        "id": "kkHTMHF6dVul"
      },
      "source": [
        "### Most common medallion"
      ]
    },
    {
      "cell_type": "code",
      "metadata": {
        "id": "YPTHupZqdZ4Z",
        "colab": {
          "base_uri": "https://localhost:8080/",
          "height": 230
        },
        "outputId": "be727b8b-c677-4704-db82-ba388cfaad8f"
      },
      "source": [
        "all_valid_records['medallion'].value_counts()"
      ],
      "execution_count": null,
      "outputs": [
        {
          "output_type": "execute_result",
          "data": {
            "text/plain": [
              "6FFCF7A4F34BA44239636028E680E438    2071\n",
              "849E486825860106403FB991A763BCC3    2054\n",
              "075E4BFE6607421289B566A32BC135E5    2032\n",
              "A979CDA04CFB8BA3D3ACBA7E8D7F0661    2022\n",
              "0832BDD7A3BE2ECA14DC518FCA8B7E5D    2014\n",
              "                                    ... \n",
              "B8C5E185F13961324396AB8F13C1BF19       1\n",
              "97D167499FF0A1F60E55656B291801D7       1\n",
              "59E6C24624083FD6079C04014EB5317D       1\n",
              "8579F879F5FABB11866B359A37C80F73       1\n",
              "816590D6C11CDAB47B76C7C6750B6094       1\n",
              "Name: medallion, Length: 13250, dtype: int64"
            ]
          },
          "metadata": {
            "tags": []
          },
          "execution_count": 30
        }
      ]
    },
    {
      "cell_type": "markdown",
      "metadata": {
        "id": "Ez2uY1aeH13X"
      },
      "source": [
        "### Most common Medallion - Hack_license combination"
      ]
    },
    {
      "cell_type": "code",
      "metadata": {
        "id": "aZ_Qn_xiICEB",
        "colab": {
          "base_uri": "https://localhost:8080/",
          "height": 247
        },
        "outputId": "4bfa3c78-1604-45be-e50a-c63f3b844f70"
      },
      "source": [
        "all_valid_records.groupby(['medallion','hack_license']).size().sort_values(ascending=False)\n",
        "#counts.index[0] "
      ],
      "execution_count": null,
      "outputs": [
        {
          "output_type": "execute_result",
          "data": {
            "text/plain": [
              "medallion                         hack_license                    \n",
              "C6C2AA4F89E3C1ED8B58FFC7AE6D931C  F49FD0D84449AE7F72F3BC492CD6C754    1729\n",
              "E2D92DC49D2E3A841FFCE27ADA3921F0  51C1BE97280A80EBFA8DAD34E1956CF6    1610\n",
              "4D254D147893657D7110E9DBE9483B24  22CA618759C716436EA3257480199A32    1608\n",
              "C3E7F827F0CF5A5B9162DC0A6D2E726C  CE625FD96D0FAFC812A6957139B354A1    1587\n",
              "24F08861B2158ACD82BE9AD23EE3B06E  3D757E111C78F5CAC83D44A92885D490    1572\n",
              "                                                                      ... \n",
              "39A60F14324688F6BB35EE079D492156  7356659DFDD022D4678C1892721B905F       1\n",
              "E3B9F52165B0F6205F0B69CB54D4AAC2  82BD06547AC4DD8F507414B3CFDE4DD7       1\n",
              "E382AC96D9E9E3A86DFC268AD5D2C4A2  1B4F157B2670FA442D4BF2239F232F86       1\n",
              "BD05DDE1C3EA5728338E6B8BE5E52A42  CFCD208495D565EF66E7DFF9F98764DA       1\n",
              "210A732C6222DCCC081C22A5948E3B8D  EA7A425B3BF3EAB2F13C333FBD34AB04       1\n",
              "Length: 99302, dtype: int64"
            ]
          },
          "metadata": {
            "tags": []
          },
          "execution_count": 32
        }
      ]
    },
    {
      "cell_type": "markdown",
      "metadata": {
        "id": "WdOPilYwFr4o"
      },
      "source": [
        "### Compute mean, min and max ***trip distance***\n"
      ]
    },
    {
      "cell_type": "code",
      "metadata": {
        "id": "wRbWCdwMFr4o",
        "colab": {
          "base_uri": "https://localhost:8080/",
          "height": 87
        },
        "outputId": "f5bc6422-9879-4d4d-cef7-d0023970522e"
      },
      "source": [
        "mean_d = all_valid_records[\"haversine_distance\"].mean()\n",
        "max_d = all_valid_records[\"haversine_distance\"].max()\n",
        "min_d = all_valid_records[\"haversine_distance\"].min()\n",
        "\n",
        "print(\"The mean distance is: \", mean_d)\n",
        "print(\"The max distance is: \", max_d)\n",
        "print(\"The min distance is: \", min_d)\n",
        "print(\"The distances are represented in Km unit\")"
      ],
      "execution_count": null,
      "outputs": [
        {
          "output_type": "stream",
          "text": [
            "The mean distance is:  3.71616833403844\n",
            "The max distance is:  69.69\n",
            "The min distance is:  0.496\n",
            "The distances are represented in Km unit\n"
          ],
          "name": "stdout"
        }
      ]
    },
    {
      "cell_type": "code",
      "metadata": {
        "id": "AaFYrIZMGouj",
        "colab": {
          "base_uri": "https://localhost:8080/",
          "height": 608
        },
        "outputId": "b0aeff07-e4c6-4d4b-fe0b-f29abcec28d1"
      },
      "source": [
        "# plot values to spot outliers\n",
        "plt.figure(figsize=(10,10))\n",
        "plt.scatter(range(len(all_valid_records[\"haversine_distance\"])), np.sort(all_valid_records[\"haversine_distance\"]), color = 'red')\n",
        "plt.xlabel('index')\n",
        "plt.ylabel('haversine_distance in km')\n",
        "plt.show()"
      ],
      "execution_count": null,
      "outputs": [
        {
          "output_type": "display_data",
          "data": {
            "text/plain": [
              "<Figure size 720x720 with 1 Axes>"
            ],
            "image/png": "[encoded data removed]"
          },
          "metadata": {
            "tags": [],
            "needs_background": "light"
          }
        }
      ]
    },
    {
      "cell_type": "markdown",
      "metadata": {
        "id": "dAek8SYHFr4r"
      },
      "source": [
        "### Compute mean, min and max ***trip time***\n"
      ]
    },
    {
      "cell_type": "code",
      "metadata": {
        "id": "CdrC1NozFr4r",
        "colab": {
          "base_uri": "https://localhost:8080/",
          "height": 87
        },
        "outputId": "5b745b86-f1cc-49fb-a48f-7e51a4312ed3"
      },
      "source": [
        "mean_t = all_valid_records[\"trip_time\"].mean()\n",
        "max_t = all_valid_records[\"trip_time\"].max()\n",
        "min_t = all_valid_records[\"trip_time\"].min()\n",
        "\n",
        "print(\"The mean trip_time is: \", mean_t)\n",
        "print(\"The max trip_time is: \", max_t)\n",
        "print(\"The min trip_time is: \", min_t)\n",
        "print(\"The trip_times are represented in hours\")"
      ],
      "execution_count": null,
      "outputs": [
        {
          "output_type": "stream",
          "text": [
            "The mean trip_time is:  0.2362602384114245\n",
            "The max trip_time is:  3.985\n",
            "The min trip_time is:  0.1\n",
            "The trip_times are represented in hours\n"
          ],
          "name": "stdout"
        }
      ]
    },
    {
      "cell_type": "code",
      "metadata": {
        "id": "d0VlnE1CI9OX",
        "colab": {
          "base_uri": "https://localhost:8080/",
          "height": 230
        },
        "outputId": "5fe9e800-657a-4d70-ca58-053e7d82b8ff"
      },
      "source": [
        "# Row with the max time\n",
        "index = all_valid_records[\"trip_time\"].argmax()\n",
        "all_valid_records.iloc[index]"
      ],
      "execution_count": null,
      "outputs": [
        {
          "output_type": "execute_result",
          "data": {
            "text/plain": [
              "medallion             8B92CB499DFC80FC3422BC4A05BFA582\n",
              "hack_license          D605BB43ABD8208CB08D0E36BDFD393E\n",
              "pickup_datetime                    2013-01-12 18:56:25\n",
              "dropoff_datetime                   2013-01-12 22:55:32\n",
              "pickup_longitude                                -73.79\n",
              "pickup_latitude                                40.6439\n",
              "dropoff_longitude                             -73.9674\n",
              "dropoff_latitude                               40.7951\n",
              "trip_time                                        3.985\n",
              "haversine_distance                              22.488\n",
              "speed                                              5.6\n",
              "Name: 7795635, dtype: object"
            ]
          },
          "metadata": {
            "tags": []
          },
          "execution_count": 36
        }
      ]
    },
    {
      "cell_type": "code",
      "metadata": {
        "id": "8Z2nR3U-F7ur",
        "colab": {
          "base_uri": "https://localhost:8080/",
          "height": 608
        },
        "outputId": "2a718fd5-ff38-4fd4-a1b9-f9ef34d60077"
      },
      "source": [
        "# plot values to spot outliers\n",
        "plt.figure(figsize=(10,10))\n",
        "plt.scatter(range(len(all_valid_records[\"trip_time\"])), np.sort(all_valid_records[\"trip_time\"]),color = 'blue')\n",
        "plt.xlabel('index')\n",
        "plt.ylabel('trip_time in hours')\n",
        "plt.show()"
      ],
      "execution_count": null,
      "outputs": [
        {
          "output_type": "display_data",
          "data": {
            "text/plain": [
              "<Figure size 720x720 with 1 Axes>"
            ],
            "image/png": "[encoded data removed]"
          },
          "metadata": {
            "tags": [],
            "needs_background": "light"
          }
        }
      ]
    },
    {
      "cell_type": "markdown",
      "metadata": {
        "id": "5jKXypPuFr4u"
      },
      "source": [
        "### Compute mean, min and max ***speed***"
      ]
    },
    {
      "cell_type": "code",
      "metadata": {
        "id": "4HQVwwk1Fr4u",
        "colab": {
          "base_uri": "https://localhost:8080/",
          "height": 70
        },
        "outputId": "64667383-507a-44b9-af06-39cc3c6abc5a"
      },
      "source": [
        "mean_speed = all_valid_records[\"speed\"].mean()\n",
        "max_speed = all_valid_records[\"speed\"].max()\n",
        "min_speed = all_valid_records[\"speed\"].min()\n",
        "\n",
        "print(\"The mean speed is: \", mean_speed)\n",
        "print(\"The max speed is: \", max_speed)\n",
        "print(\"The min speed is: \", min_speed)"
      ],
      "execution_count": null,
      "outputs": [
        {
          "output_type": "stream",
          "text": [
            "The mean speed is:  15.049081683867563\n",
            "The max speed is:  60.0\n",
            "The min speed is:  5.0\n"
          ],
          "name": "stdout"
        }
      ]
    },
    {
      "cell_type": "code",
      "metadata": {
        "id": "og2v5WJMGf2X",
        "colab": {
          "base_uri": "https://localhost:8080/",
          "height": 608
        },
        "outputId": "61a355ae-f814-45b8-95ab-6c660b7090d1"
      },
      "source": [
        "# plot values to spot outliers\n",
        "plt.figure(figsize=(10,10))\n",
        "plt.scatter(range(len(all_valid_records[\"speed\"])), np.sort(all_valid_records[\"speed\"]), color = 'green')\n",
        "plt.xlabel('index')\n",
        "plt.ylabel('speed in km/h')\n",
        "plt.show()"
      ],
      "execution_count": null,
      "outputs": [
        {
          "output_type": "display_data",
          "data": {
            "text/plain": [
              "<Figure size 720x720 with 1 Axes>"
            ],
            "image/png": "[encoded data removed]"
          },
          "metadata": {
            "tags": [],
            "needs_background": "light"
          }
        }
      ]
    },
    {
      "cell_type": "markdown",
      "metadata": {
        "id": "Y9xXMfnyHGxb"
      },
      "source": [
        "### Worth notice\n",
        "\n",
        "From this analysis we can see that there are few outlier considering the values of distance, time and speed\n",
        "\n",
        "We should remove them"
      ]
    },
    {
      "cell_type": "markdown",
      "metadata": {
        "id": "So1tZSjCHa_T"
      },
      "source": [
        "## Remove outliers"
      ]
    },
    {
      "cell_type": "markdown",
      "metadata": {
        "id": "knMCBfpGHoZN"
      },
      "source": [
        "Remove trips with unreal speed"
      ]
    },
    {
      "cell_type": "code",
      "metadata": {
        "id": "hGY25wfSHdc_",
        "colab": {
          "base_uri": "https://localhost:8080/",
          "height": 609
        },
        "outputId": "ba50fff2-95ab-4b67-cc44-949408adec32"
      },
      "source": [
        "# speed\n",
        "all_valid_records = all_valid_records.loc[(all_valid_records.speed >= speed_t[0]) & \n",
        "                                          (all_valid_records.speed <= speed_t[1])]\n",
        "plt.figure(figsize=(10,10))\n",
        "plt.scatter(range(len(all_valid_records[\"speed\"])), np.sort(all_valid_records[\"speed\"].values), color = 'green')\n",
        "plt.xlabel('index')\n",
        "plt.ylabel('speed in km/h')\n",
        "plt.show()"
      ],
      "execution_count": null,
      "outputs": [
        {
          "output_type": "display_data",
          "data": {
            "image/png": "[encoded data removed]",
            "text/plain": [
              "<Figure size 720x720 with 1 Axes>"
            ]
          },
          "metadata": {
            "tags": [],
            "needs_background": "light"
          }
        }
      ]
    },
    {
      "cell_type": "markdown",
      "metadata": {
        "id": "LNB7ayD5I0ik"
      },
      "source": [
        "Remove trips with unreal haversine distance"
      ]
    },
    {
      "cell_type": "code",
      "metadata": {
        "id": "yyO2vTehI4Dn",
        "colab": {
          "base_uri": "https://localhost:8080/",
          "height": 609
        },
        "outputId": "98ec3262-9708-4c68-978a-bc5e27b46d33"
      },
      "source": [
        "# haversine_distance\n",
        "all_valid_records = all_valid_records.loc[(all_valid_records.haversine_distance >= haversine_distance_t[0]) & \n",
        "                                          (all_valid_records.haversine_distance <= haversine_distance_t[1])]\n",
        "plt.figure(figsize=(10,10))\n",
        "plt.scatter(range(len(all_valid_records[\"haversine_distance\"])), np.sort(all_valid_records[\"haversine_distance\"]), color = 'blue')\n",
        "plt.xlabel('index')\n",
        "plt.ylabel('haversine_distance in km')\n",
        "plt.show()"
      ],
      "execution_count": null,
      "outputs": [
        {
          "output_type": "display_data",
          "data": {
            "image/png": "[encoded data removed]",
            "text/plain": [
              "<Figure size 720x720 with 1 Axes>"
            ]
          },
          "metadata": {
            "tags": [],
            "needs_background": "light"
          }
        }
      ]
    },
    {
      "cell_type": "markdown",
      "metadata": {
        "id": "p2X8r5gfJZ9P"
      },
      "source": [
        "Remove trips with unreal trip time"
      ]
    },
    {
      "cell_type": "code",
      "metadata": {
        "id": "TiS7OKwqJd-o",
        "colab": {
          "base_uri": "https://localhost:8080/",
          "height": 609
        },
        "outputId": "ba49614d-7db7-4dbe-fe00-029f3b3ce064"
      },
      "source": [
        "# trip_time\n",
        "all_valid_records = all_valid_records.loc[(all_valid_records.trip_time >= trip_time_t[0]) & \n",
        "                                          (all_valid_records.trip_time <= trip_time_t[1])]\n",
        "plt.figure(figsize=(10,10))\n",
        "plt.scatter(range(len(all_valid_records[\"trip_time\"])), np.sort(all_valid_records[\"trip_time\"]), color = 'red')\n",
        "plt.xlabel('index')\n",
        "plt.ylabel('trip_time in km')\n",
        "plt.show()"
      ],
      "execution_count": null,
      "outputs": [
        {
          "output_type": "display_data",
          "data": {
            "image/png": "[encoded data removed]",
            "text/plain": [
              "<Figure size 720x720 with 1 Axes>"
            ]
          },
          "metadata": {
            "tags": [],
            "needs_background": "light"
          }
        }
      ]
    },
    {
      "cell_type": "code",
      "metadata": {
        "id": "kZeSkjJ3uAJy",
        "colab": {
          "base_uri": "https://localhost:8080/",
          "height": 34
        },
        "outputId": "39ee8e24-06ea-485d-a9db-031ab815713a"
      },
      "source": [
        "all_valid_records.shape"
      ],
      "execution_count": null,
      "outputs": [
        {
          "output_type": "execute_result",
          "data": {
            "text/plain": [
              "(14283929, 11)"
            ]
          },
          "metadata": {
            "tags": []
          },
          "execution_count": 31
        }
      ]
    },
    {
      "cell_type": "markdown",
      "metadata": {
        "id": "wohxHfkYNzRN"
      },
      "source": [
        "## Datetimes"
      ]
    },
    {
      "cell_type": "markdown",
      "metadata": {
        "id": "aSLXcmSGN25I"
      },
      "source": [
        "We have datetimes which are useful for the analysis, but for our NN we need to refactor these attributes:\n",
        "\n",
        "*  week_day\n",
        "*  hour\n",
        "*  month"
      ]
    },
    {
      "cell_type": "code",
      "metadata": {
        "id": "yEqZ_Vr5xEV2"
      },
      "source": [
        "# already did it\n",
        "all_valid_records[\"pickup_datetime\"] = pd.to_datetime(all_valid_records[\"pickup_datetime\"])\n",
        "all_valid_records[\"dropoff_datetime\"] = pd.to_datetime(all_valid_records[\"dropoff_datetime\"])"
      ],
      "execution_count": null,
      "outputs": []
    },
    {
      "cell_type": "code",
      "metadata": {
        "id": "Pun_cI8VwhyE"
      },
      "source": [
        "all_valid_records[\"pickup_week_day\"] = all_valid_records.pickup_datetime.dt.dayofweek\n",
        "all_valid_records[\"pickup_hour\"] = all_valid_records.pickup_datetime.dt.hour\n",
        "all_valid_records[\"pickup_month\"] = all_valid_records.pickup_datetime.dt.month\n",
        "all_valid_records[\"pickup_day\"] = all_valid_records.pickup_datetime.dt.day\n",
        "\n",
        "all_valid_records[\"dropoff_week_day\"] = all_valid_records.dropoff_datetime.dt.dayofweek\n",
        "all_valid_records[\"dropoff_hour\"] = all_valid_records.dropoff_datetime.dt.hour\n",
        "all_valid_records[\"dropoff_month\"] = all_valid_records.dropoff_datetime.dt.month\n",
        "all_valid_records[\"dropoff_day\"] = all_valid_records.dropoff_datetime.dt.day"
      ],
      "execution_count": null,
      "outputs": []
    },
    {
      "cell_type": "code",
      "metadata": {
        "id": "wQVZoFuoxKuj",
        "colab": {
          "base_uri": "https://localhost:8080/",
          "height": 309
        },
        "outputId": "a9b73d5b-c3cb-4278-ccd0-f328909a9b30"
      },
      "source": [
        "all_valid_records.head()"
      ],
      "execution_count": null,
      "outputs": [
        {
          "output_type": "execute_result",
          "data": {
            "text/html": [
              "<div>\n",
              "<style scoped>\n",
              "    .dataframe tbody tr th:only-of-type {\n",
              "        vertical-align: middle;\n",
              "    }\n",
              "\n",
              "    .dataframe tbody tr th {\n",
              "        vertical-align: top;\n",
              "    }\n",
              "\n",
              "    .dataframe thead th {\n",
              "        text-align: right;\n",
              "    }\n",
              "</style>\n",
              "<table border=\"1\" class=\"dataframe\">\n",
              "  <thead>\n",
              "    <tr style=\"text-align: right;\">\n",
              "      <th></th>\n",
              "      <th>medallion</th>\n",
              "      <th>hack_license</th>\n",
              "      <th>pickup_datetime</th>\n",
              "      <th>dropoff_datetime</th>\n",
              "      <th>pickup_longitude</th>\n",
              "      <th>pickup_latitude</th>\n",
              "      <th>dropoff_longitude</th>\n",
              "      <th>dropoff_latitude</th>\n",
              "      <th>trip_time</th>\n",
              "      <th>haversine_distance</th>\n",
              "      <th>speed</th>\n",
              "      <th>pickup_week_day</th>\n",
              "      <th>pickup_hour</th>\n",
              "      <th>pickup_month</th>\n",
              "      <th>pickup_day</th>\n",
              "      <th>dropoff_week_day</th>\n",
              "      <th>dropoff_hour</th>\n",
              "      <th>dropoff_month</th>\n",
              "      <th>dropoff_day</th>\n",
              "    </tr>\n",
              "  </thead>\n",
              "  <tbody>\n",
              "    <tr>\n",
              "      <th>8896484</th>\n",
              "      <td>00005007A9F30E289E760362F69E4EAD</td>\n",
              "      <td>A9AE329EA1138052DAC8FDFD8BA86603</td>\n",
              "      <td>2013-01-01 00:29:39</td>\n",
              "      <td>2013-01-01 00:37:47</td>\n",
              "      <td>-73.976624</td>\n",
              "      <td>40.751686</td>\n",
              "      <td>-73.949348</td>\n",
              "      <td>40.776871</td>\n",
              "      <td>0.136</td>\n",
              "      <td>3.622</td>\n",
              "      <td>26.6</td>\n",
              "      <td>1</td>\n",
              "      <td>0</td>\n",
              "      <td>1</td>\n",
              "      <td>1</td>\n",
              "      <td>1</td>\n",
              "      <td>0</td>\n",
              "      <td>1</td>\n",
              "      <td>1</td>\n",
              "    </tr>\n",
              "    <tr>\n",
              "      <th>13356912</th>\n",
              "      <td>00005007A9F30E289E760362F69E4EAD</td>\n",
              "      <td>A9AE329EA1138052DAC8FDFD8BA86603</td>\n",
              "      <td>2013-01-01 00:39:16</td>\n",
              "      <td>2013-01-01 00:58:43</td>\n",
              "      <td>-73.948524</td>\n",
              "      <td>40.778000</td>\n",
              "      <td>-73.978966</td>\n",
              "      <td>40.780052</td>\n",
              "      <td>0.324</td>\n",
              "      <td>2.573</td>\n",
              "      <td>7.9</td>\n",
              "      <td>1</td>\n",
              "      <td>0</td>\n",
              "      <td>1</td>\n",
              "      <td>1</td>\n",
              "      <td>1</td>\n",
              "      <td>0</td>\n",
              "      <td>1</td>\n",
              "      <td>1</td>\n",
              "    </tr>\n",
              "    <tr>\n",
              "      <th>8110791</th>\n",
              "      <td>00005007A9F30E289E760362F69E4EAD</td>\n",
              "      <td>A9AE329EA1138052DAC8FDFD8BA86603</td>\n",
              "      <td>2013-01-01 00:59:38</td>\n",
              "      <td>2013-01-01 01:05:59</td>\n",
              "      <td>-73.979164</td>\n",
              "      <td>40.780136</td>\n",
              "      <td>-73.961884</td>\n",
              "      <td>40.774754</td>\n",
              "      <td>0.106</td>\n",
              "      <td>1.573</td>\n",
              "      <td>14.8</td>\n",
              "      <td>1</td>\n",
              "      <td>0</td>\n",
              "      <td>1</td>\n",
              "      <td>1</td>\n",
              "      <td>1</td>\n",
              "      <td>1</td>\n",
              "      <td>1</td>\n",
              "      <td>1</td>\n",
              "    </tr>\n",
              "    <tr>\n",
              "      <th>11554091</th>\n",
              "      <td>00005007A9F30E289E760362F69E4EAD</td>\n",
              "      <td>A9AE329EA1138052DAC8FDFD8BA86603</td>\n",
              "      <td>2013-01-01 01:07:33</td>\n",
              "      <td>2013-01-01 01:19:52</td>\n",
              "      <td>-73.962669</td>\n",
              "      <td>40.775368</td>\n",
              "      <td>-73.956116</td>\n",
              "      <td>40.804432</td>\n",
              "      <td>0.205</td>\n",
              "      <td>3.279</td>\n",
              "      <td>16.0</td>\n",
              "      <td>1</td>\n",
              "      <td>1</td>\n",
              "      <td>1</td>\n",
              "      <td>1</td>\n",
              "      <td>1</td>\n",
              "      <td>1</td>\n",
              "      <td>1</td>\n",
              "      <td>1</td>\n",
              "    </tr>\n",
              "    <tr>\n",
              "      <th>12509246</th>\n",
              "      <td>00005007A9F30E289E760362F69E4EAD</td>\n",
              "      <td>A9AE329EA1138052DAC8FDFD8BA86603</td>\n",
              "      <td>2013-01-01 01:21:23</td>\n",
              "      <td>2013-01-01 01:56:09</td>\n",
              "      <td>-73.955887</td>\n",
              "      <td>40.804317</td>\n",
              "      <td>-74.000214</td>\n",
              "      <td>40.721714</td>\n",
              "      <td>0.579</td>\n",
              "      <td>9.915</td>\n",
              "      <td>17.1</td>\n",
              "      <td>1</td>\n",
              "      <td>1</td>\n",
              "      <td>1</td>\n",
              "      <td>1</td>\n",
              "      <td>1</td>\n",
              "      <td>1</td>\n",
              "      <td>1</td>\n",
              "      <td>1</td>\n",
              "    </tr>\n",
              "  </tbody>\n",
              "</table>\n",
              "</div>"
            ],
            "text/plain": [
              "                                 medallion  ... dropoff_day\n",
              "8896484   00005007A9F30E289E760362F69E4EAD  ...           1\n",
              "13356912  00005007A9F30E289E760362F69E4EAD  ...           1\n",
              "8110791   00005007A9F30E289E760362F69E4EAD  ...           1\n",
              "11554091  00005007A9F30E289E760362F69E4EAD  ...           1\n",
              "12509246  00005007A9F30E289E760362F69E4EAD  ...           1\n",
              "\n",
              "[5 rows x 19 columns]"
            ]
          },
          "metadata": {
            "tags": []
          },
          "execution_count": 33
        }
      ]
    },
    {
      "cell_type": "code",
      "metadata": {
        "id": "gQCuP8O28Nqs",
        "colab": {
          "base_uri": "https://localhost:8080/",
          "height": 34
        },
        "outputId": "06655676-eb2d-49a8-8738-d7bf2b42db88"
      },
      "source": [
        "import gc \n",
        "\n",
        "del valid_records\n",
        "del valid_records_copy\n",
        "del intermediate_trips\n",
        "del concatenated_dataframes\n",
        "del candidates\n",
        "\n",
        "gc.collect()"
      ],
      "execution_count": null,
      "outputs": [
        {
          "output_type": "execute_result",
          "data": {
            "text/plain": [
              "146"
            ]
          },
          "metadata": {
            "tags": []
          },
          "execution_count": 37
        }
      ]
    },
    {
      "cell_type": "code",
      "metadata": {
        "id": "uxE534rZ5MwY"
      },
      "source": [
        "all_valid_records.to_csv(baseURL + 'january_before_zones.csv', index = False)"
      ],
      "execution_count": null,
      "outputs": []
    },
    {
      "cell_type": "code",
      "metadata": {
        "id": "zsPJIuGxB0Go"
      },
      "source": [
        "all_valid_records = pd.read_csv(baseURL + 'january_before_zones.csv')"
      ],
      "execution_count": null,
      "outputs": []
    },
    {
      "cell_type": "markdown",
      "metadata": {
        "id": "jLUEgiFHR0ML"
      },
      "source": [
        "### Compute time differences"
      ]
    },
    {
      "cell_type": "code",
      "metadata": {
        "id": "bTF2Zz2vR8w3"
      },
      "source": [
        "records = all_valid_records[['medallion', 'pickup_datetime', 'dropoff_datetime']].copy()"
      ],
      "execution_count": null,
      "outputs": []
    },
    {
      "cell_type": "code",
      "metadata": {
        "id": "fGpFBvRTUSjO"
      },
      "source": [
        "records.pickup_datetime = pd.to_datetime(records.pickup_datetime)\n",
        "records.dropoff_datetime = pd.to_datetime(records.dropoff_datetime)"
      ],
      "execution_count": null,
      "outputs": []
    },
    {
      "cell_type": "code",
      "metadata": {
        "id": "XenCHw0zR1DD",
        "colab": {
          "base_uri": "https://localhost:8080/",
          "height": 221
        },
        "outputId": "71a36706-750b-4e46-9cc2-871cc5e31afb"
      },
      "source": [
        "count = records.medallion.value_counts()\n",
        "count"
      ],
      "execution_count": null,
      "outputs": [
        {
          "output_type": "execute_result",
          "data": {
            "text/plain": [
              "6FFCF7A4F34BA44239636028E680E438    1984\n",
              "849E486825860106403FB991A763BCC3    1981\n",
              "075E4BFE6607421289B566A32BC135E5    1949\n",
              "A979CDA04CFB8BA3D3ACBA7E8D7F0661    1946\n",
              "0832BDD7A3BE2ECA14DC518FCA8B7E5D    1911\n",
              "                                    ... \n",
              "8579F879F5FABB11866B359A37C80F73       1\n",
              "59E6C24624083FD6079C04014EB5317D       1\n",
              "B8C5E185F13961324396AB8F13C1BF19       1\n",
              "EC772A8C882686041534A0E94EA0EA8E       1\n",
              "816590D6C11CDAB47B76C7C6750B6094       1\n",
              "Name: medallion, Length: 13250, dtype: int64"
            ]
          },
          "metadata": {
            "tags": []
          },
          "execution_count": 6
        }
      ]
    },
    {
      "cell_type": "code",
      "metadata": {
        "id": "-jsCxF6RPQC5"
      },
      "source": [
        "medallions = count.loc[count>1000].index"
      ],
      "execution_count": null,
      "outputs": []
    },
    {
      "cell_type": "code",
      "metadata": {
        "id": "EKn4MJLuNvmt"
      },
      "source": [
        "records = records.loc[records.medallion.isin(medallions)]"
      ],
      "execution_count": null,
      "outputs": []
    },
    {
      "cell_type": "markdown",
      "metadata": {
        "id": "mucu4sRWJ3i2"
      },
      "source": [
        "Datetimes to timestamps"
      ]
    },
    {
      "cell_type": "code",
      "metadata": {
        "id": "F_dzfNHfN7jI"
      },
      "source": [
        "records['pickup_ts'] = records.pickup_datetime.values.astype(np.int64) // 10 ** 9"
      ],
      "execution_count": null,
      "outputs": []
    },
    {
      "cell_type": "code",
      "metadata": {
        "id": "EbfhO_D9Ofi1"
      },
      "source": [
        "records['dropoff_ts'] = records.dropoff_datetime.values.astype(np.int64) // 10 ** 9"
      ],
      "execution_count": null,
      "outputs": []
    },
    {
      "cell_type": "code",
      "metadata": {
        "id": "BQJHo0aRR24a"
      },
      "source": [
        "import datetime \n",
        "# Count the records for each user\n",
        "# count = records.medallion.value_counts()\n",
        "\n",
        "# Select the users with a number of records greater than the median\n",
        "# records = records[records['medallion'].isin(count.index[count > 30])]\n",
        "\n",
        "# List to collect differences\n",
        "time_diff = []\n",
        "\n",
        "sf.sort_values(by=['medallion', 'pickup_ts'], inplace=True)\n",
        "\n",
        "# For each user\n",
        "for n, medallion in enumerate(medallions):\n",
        "\n",
        "  sf = records.loc[records.medallion == medallion].copy()\n",
        "  \n",
        "  # Get the timestamps of the observations\n",
        "  pickup_time = sf.pickup_ts.values\n",
        "\n",
        "  # Get the timestamps of the observations\n",
        "  dropoff_time = sf.dropoff_ts.values\n",
        "\n",
        "  # Create a temporary array\n",
        "  copy = np.zeros(pickup_time.shape[0], dtype=np.int32)\n",
        "\n",
        "  # Copy the end timestamps shifted right by 1\n",
        "  copy[1:] = pickup_time[:pickup_time.shape[0]-1]\n",
        "\n",
        "  # compute the time difference\n",
        "  diff = dropoff_time - copy\n",
        "  diff[0] = 0\n",
        "\n",
        "  # Cast from seconds to hours\n",
        "  diff = diff /3600\n",
        "\n",
        "  time_diff.extend(list(diff))\n"
      ],
      "execution_count": null,
      "outputs": []
    },
    {
      "cell_type": "code",
      "metadata": {
        "id": "7_3m-P_6mVYX"
      },
      "source": [
        "# Save the numpy\n",
        "np.save(baseURL + 'NYC_time_diff.npy', np.array(time_diff))"
      ],
      "execution_count": null,
      "outputs": []
    },
    {
      "cell_type": "code",
      "metadata": {
        "id": "1b3yVEpDQbvA",
        "colab": {
          "base_uri": "https://localhost:8080/",
          "height": 299
        },
        "outputId": "4aa2034e-13a9-44b9-91e5-3a0798518485"
      },
      "source": [
        "import matplotlib.pyplot as plt\n",
        "\n",
        "n_bins = 50\n",
        "fig, ax = plt.subplots(figsize=(8, 4))\n",
        "\n",
        "# plot the cumulative histogram\n",
        "n, bins, patches = ax.hist(time_diff[:1000], n_bins, density=True, histtype='stepfilled',\n",
        "                           cumulative=True, label='Empirical',  color = \"skyblue\", ec=\"skyblue\")\n",
        "\n",
        "\n",
        "# tidy up the figure\n",
        "ax.legend(loc='right')\n",
        "ax.set_title('Cumulative step histograms')\n",
        "ax.set_xlabel('Time interval')\n",
        "ax.set_ylabel('Likelihood of occurrence')\n",
        "\n",
        "plt.show()"
      ],
      "execution_count": null,
      "outputs": [
        {
          "output_type": "display_data",
          "data": {
            "image/png": "[encoded data removed]",
            "text/plain": [
              "<Figure size 576x288 with 1 Axes>"
            ]
          },
          "metadata": {
            "tags": [],
            "needs_background": "light"
          }
        }
      ]
    },
    {
      "cell_type": "code",
      "metadata": {
        "id": "8wU1CYx0Rqhn",
        "colab": {
          "base_uri": "https://localhost:8080/",
          "height": 299
        },
        "outputId": "4d75b08d-74d4-4f99-8d0b-f0a2df2f7e4e"
      },
      "source": [
        "# we can't plot time differences of 4000h... we need to remove them just for have a clean plot\n",
        "\n",
        "time_diff_c = np.array(time_diff)[np.array(time_diff) < 150]\n",
        "n_bins = 10\n",
        "fig, ax = plt.subplots(figsize=(8, 4))\n",
        "# plot the cumulative histogram\n",
        "n, bins, patches = ax.hist(time_diff_c, n_bins, density=True, histtype='stepfilled',\n",
        "                           cumulative=False, label='Empirical',  color = \"skyblue\", ec=\"skyblue\")\n",
        "\n",
        "\n",
        "# tidy up the figure\n",
        "ax.legend(loc='right')\n",
        "ax.set_title('Cumulative step histograms')\n",
        "ax.set_xlabel('Time interval')\n",
        "ax.set_ylabel('Likelihood of occurrence')\n",
        "\n",
        "plt.show()"
      ],
      "execution_count": null,
      "outputs": [
        {
          "output_type": "display_data",
          "data": {
            "image/png": "[encoded data removed]",
            "text/plain": [
              "<Figure size 576x288 with 1 Axes>"
            ]
          },
          "metadata": {
            "tags": [],
            "needs_background": "light"
          }
        }
      ]
    },
    {
      "cell_type": "code",
      "metadata": {
        "id": "5eux1pLqRqh3",
        "colab": {
          "base_uri": "https://localhost:8080/",
          "height": 85
        },
        "outputId": "54f974cf-e12a-45ac-defc-d12d80016650"
      },
      "source": [
        "print(\"Number of places with a time difference over 80 hours: \", np.sum(np.array(time_diff) > 80))\n",
        "print(\"Number of places with a time difference less than 80 hours: \", np.sum(np.array(time_diff) <= 80))\n",
        "print(\"Number of places with a time difference less than 20 hours: \", np.sum(np.array(time_diff) <= 20))\n",
        "print(\"Number of places with a time difference less than 2 hours: \", np.sum(np.array(time_diff) <= 2))"
      ],
      "execution_count": null,
      "outputs": [
        {
          "output_type": "stream",
          "text": [
            "Number of places with a time difference over 80 hours:  130\n",
            "Number of places with a time difference less than 80 hours:  11129761\n",
            "Number of places with a time difference less than 20 hours:  11123601\n",
            "Number of places with a time difference less than 2 hours:  10556234\n"
          ],
          "name": "stdout"
        }
      ]
    },
    {
      "cell_type": "code",
      "metadata": {
        "id": "P9D8lkqOQbvE",
        "colab": {
          "base_uri": "https://localhost:8080/",
          "height": 68
        },
        "outputId": "f6b47e97-9104-426d-d390-e808d48f6abd"
      },
      "source": [
        "diff_t = np.array(time_diff)\n",
        "print(\"Mean time difference: \", np.mean(diff_t))\n",
        "print(\"Max time difference:\", np.max(diff_t))\n",
        "print(\"Min time difference: \", np.min(diff_t))"
      ],
      "execution_count": null,
      "outputs": [
        {
          "output_type": "stream",
          "text": [
            "Mean time difference:  0.8152307210625682\n",
            "Max time difference: 254.88333333333333\n",
            "Min time difference:  0.0\n"
          ],
          "name": "stdout"
        }
      ]
    },
    {
      "cell_type": "markdown",
      "metadata": {
        "id": "t4VPhByfNLzD"
      },
      "source": [
        "## Join location ID\n",
        "\n",
        "To reduce at the minimum size the dimension of the dataset to upload on Google BigQuery, we can limited the columns to:\n",
        "\n",
        "\n",
        "* **pickup_longitude**\n",
        "* **pickup_latitude**\n",
        "* **dropoff_longitude**\n",
        "* **dropoff_latitude**\n",
        "\n",
        "Then joining with the zones we can simply add the ZoneID, \n",
        "We will be able to match it with our local dataset.\n",
        "\n",
        "The valid rows which are in the valid area but now within the NYC boudaries will be mapped to a Zone which represent the outside of the city\n",
        "\n",
        "The other ones that are in the NYC boudary will be used in bigquery\n",
        "\n",
        "from BigQuery we will get back these attributes:\n",
        "\n",
        "[ pickup_longitude, pickup_latitude, dropoff_longitude dropoff_latitude, zone_id, zone_name, borough ] \n"
      ]
    },
    {
      "cell_type": "markdown",
      "metadata": {
        "id": "7GJRB-5-U0U4"
      },
      "source": [
        "in all_valid_records we have some problem of duplicated index (cause from the intermediate trips?)\n",
        "\n",
        "we need to reindex"
      ]
    },
    {
      "cell_type": "code",
      "metadata": {
        "id": "MaQTBnlEU8m_"
      },
      "source": [
        "all_valid_records.reset_index(drop=True, inplace=True)"
      ],
      "execution_count": null,
      "outputs": []
    },
    {
      "cell_type": "markdown",
      "metadata": {
        "id": "tLmYS1Elb_AA"
      },
      "source": [
        "Take the columns we are interested for"
      ]
    },
    {
      "cell_type": "code",
      "metadata": {
        "id": "BKBl6OU0yupw"
      },
      "source": [
        "locations = all_valid_records[[\"pickup_longitude\", \"pickup_latitude\",\"dropoff_longitude\", \"dropoff_latitude\"]].copy()\n",
        "locations.head(100)"
      ],
      "execution_count": null,
      "outputs": []
    },
    {
      "cell_type": "markdown",
      "metadata": {
        "id": "8JcG1yEecepw"
      },
      "source": [
        "Save the location data"
      ]
    },
    {
      "cell_type": "code",
      "metadata": {
        "id": "vzyFDaWSzjNW"
      },
      "source": [
        "# save the csv\n",
        "locations.to_csv('/Users/AAAA/Desktop/locations.csv', index=False)"
      ],
      "execution_count": null,
      "outputs": []
    },
    {
      "cell_type": "markdown",
      "metadata": {
        "id": "hp4N6wRIcg9Z"
      },
      "source": [
        "Remove coordinates which are outside of NYC\n",
        "\n",
        "**We don't need this, coordinates not in the zones are simply discarded in the spatial join**"
      ]
    },
    {
      "cell_type": "code",
      "metadata": {
        "id": "V_qbp3Xj3Oo1"
      },
      "source": [
        "locations_nyc = locations"
      ],
      "execution_count": null,
      "outputs": []
    },
    {
      "cell_type": "markdown",
      "metadata": {
        "id": "_7T4tmWUFIaG"
      },
      "source": [
        "Read the taxi zone dataset shapefile"
      ]
    },
    {
      "cell_type": "code",
      "metadata": {
        "id": "7pIgu5HhXvon",
        "colab": {
          "base_uri": "https://localhost:8080/",
          "height": 281
        },
        "outputId": "03eaec53-c9c7-4f11-c1f3-b1cd325a775c"
      },
      "source": [
        "import geopandas as gpd\n",
        "from geopandas import GeoSeries\n",
        "from shapely.geometry import Point, LineString, Polygon, asMultiPoint\n",
        "import fiona.crs\n",
        "\n",
        "fp = \"/Users/AAAA/Desktop/Dataset/NYC_2013/zones/geo_export_0a808b07-f8b1-420c-8abc-2a96a74a7de7.shp\"\n",
        "\n",
        "# Read the data\n",
        "zones = gpd.read_file(fp)\n",
        "zones.head()"
      ],
      "execution_count": null,
      "outputs": [
        {
          "output_type": "execute_result",
          "data": {
            "text/plain": [
              "         borough  location_i  objectid  shape_area  shape_leng  \\\n",
              "0            EWR         1.0       1.0    0.000782    0.116357   \n",
              "1         Queens         2.0       2.0    0.004866    0.433470   \n",
              "2          Bronx         3.0       3.0    0.000314    0.084341   \n",
              "3      Manhattan         4.0       4.0    0.000112    0.043567   \n",
              "4  Staten Island         5.0       5.0    0.000498    0.092146   \n",
              "\n",
              "                      zone                                           geometry  \n",
              "0           Newark Airport  POLYGON ((-74.18445 40.69500, -74.18449 40.695...  \n",
              "1              Jamaica Bay  MULTIPOLYGON (((-73.82338 40.63899, -73.82277 ...  \n",
              "2  Allerton/Pelham Gardens  POLYGON ((-73.84793 40.87134, -73.84725 40.870...  \n",
              "3            Alphabet City  POLYGON ((-73.97177 40.72582, -73.97179 40.725...  \n",
              "4            Arden Heights  POLYGON ((-74.17422 40.56257, -74.17349 40.562...  "
            ],
            "text/html": [
              "<div>\n",
              "<style scoped>\n",
              "    .dataframe tbody tr th:only-of-type {\n",
              "        vertical-align: middle;\n",
              "    }\n",
              "\n",
              "    .dataframe tbody tr th {\n",
              "        vertical-align: top;\n",
              "    }\n",
              "\n",
              "    .dataframe thead th {\n",
              "        text-align: right;\n",
              "    }\n",
              "</style>\n",
              "<table border=\"1\" class=\"dataframe\">\n",
              "  <thead>\n",
              "    <tr style=\"text-align: right;\">\n",
              "      <th></th>\n",
              "      <th>borough</th>\n",
              "      <th>location_i</th>\n",
              "      <th>objectid</th>\n",
              "      <th>shape_area</th>\n",
              "      <th>shape_leng</th>\n",
              "      <th>zone</th>\n",
              "      <th>geometry</th>\n",
              "    </tr>\n",
              "  </thead>\n",
              "  <tbody>\n",
              "    <tr>\n",
              "      <th>0</th>\n",
              "      <td>EWR</td>\n",
              "      <td>1.0</td>\n",
              "      <td>1.0</td>\n",
              "      <td>0.000782</td>\n",
              "      <td>0.116357</td>\n",
              "      <td>Newark Airport</td>\n",
              "      <td>POLYGON ((-74.18445 40.69500, -74.18449 40.695...</td>\n",
              "    </tr>\n",
              "    <tr>\n",
              "      <th>1</th>\n",
              "      <td>Queens</td>\n",
              "      <td>2.0</td>\n",
              "      <td>2.0</td>\n",
              "      <td>0.004866</td>\n",
              "      <td>0.433470</td>\n",
              "      <td>Jamaica Bay</td>\n",
              "      <td>MULTIPOLYGON (((-73.82338 40.63899, -73.82277 ...</td>\n",
              "    </tr>\n",
              "    <tr>\n",
              "      <th>2</th>\n",
              "      <td>Bronx</td>\n",
              "      <td>3.0</td>\n",
              "      <td>3.0</td>\n",
              "      <td>0.000314</td>\n",
              "      <td>0.084341</td>\n",
              "      <td>Allerton/Pelham Gardens</td>\n",
              "      <td>POLYGON ((-73.84793 40.87134, -73.84725 40.870...</td>\n",
              "    </tr>\n",
              "    <tr>\n",
              "      <th>3</th>\n",
              "      <td>Manhattan</td>\n",
              "      <td>4.0</td>\n",
              "      <td>4.0</td>\n",
              "      <td>0.000112</td>\n",
              "      <td>0.043567</td>\n",
              "      <td>Alphabet City</td>\n",
              "      <td>POLYGON ((-73.97177 40.72582, -73.97179 40.725...</td>\n",
              "    </tr>\n",
              "    <tr>\n",
              "      <th>4</th>\n",
              "      <td>Staten Island</td>\n",
              "      <td>5.0</td>\n",
              "      <td>5.0</td>\n",
              "      <td>0.000498</td>\n",
              "      <td>0.092146</td>\n",
              "      <td>Arden Heights</td>\n",
              "      <td>POLYGON ((-74.17422 40.56257, -74.17349 40.562...</td>\n",
              "    </tr>\n",
              "  </tbody>\n",
              "</table>\n",
              "</div>"
            ]
          },
          "metadata": {
            "tags": []
          },
          "execution_count": 40
        }
      ]
    },
    {
      "cell_type": "markdown",
      "metadata": {
        "id": "e-jHP0MzFN7S"
      },
      "source": [
        "Check the dataset crs type"
      ]
    },
    {
      "cell_type": "code",
      "metadata": {
        "id": "KTpC8OHbJW6c",
        "colab": {
          "base_uri": "https://localhost:8080/",
          "height": 212
        },
        "outputId": "b250246d-9918-4eea-a227-d8e89eda1e4e"
      },
      "source": [
        "zones.crs"
      ],
      "execution_count": null,
      "outputs": [
        {
          "output_type": "execute_result",
          "data": {
            "text/plain": [
              "<Geographic 2D CRS: EPSG:4326>\n",
              "Name: WGS 84\n",
              "Axis Info [ellipsoidal]:\n",
              "- Lat[north]: Geodetic latitude (degree)\n",
              "- Lon[east]: Geodetic longitude (degree)\n",
              "Area of Use:\n",
              "- name: World\n",
              "- bounds: (-180.0, -90.0, 180.0, 90.0)\n",
              "Datum: World Geodetic System 1984\n",
              "- Ellipsoid: WGS 84\n",
              "- Prime Meridian: Greenwich"
            ]
          },
          "metadata": {
            "tags": []
          },
          "execution_count": 41
        }
      ]
    },
    {
      "cell_type": "markdown",
      "metadata": {
        "id": "0f96Hn83FZkY"
      },
      "source": [
        "Drop eventual null rows"
      ]
    },
    {
      "cell_type": "code",
      "metadata": {
        "id": "YhU2qs6B9URi"
      },
      "source": [
        "zones = zones[np.invert(zones.isna())]\n",
        "zones"
      ],
      "execution_count": null,
      "outputs": []
    },
    {
      "cell_type": "markdown",
      "metadata": {
        "id": "vC1N5euKc52g"
      },
      "source": [
        "Check for index duplicates"
      ]
    },
    {
      "cell_type": "code",
      "metadata": {
        "id": "2biayLeF_g_G",
        "colab": {
          "base_uri": "https://localhost:8080/",
          "height": 47
        },
        "outputId": "c5d4f6b9-e172-40d9-d23c-5f2d780889d4"
      },
      "source": [
        "locations_nyc[locations_nyc.index.duplicated()]"
      ],
      "execution_count": null,
      "outputs": [
        {
          "output_type": "execute_result",
          "data": {
            "text/plain": [
              "Empty DataFrame\n",
              "Columns: [pickup_longitude, pickup_latitude, dropoff_longitude, dropoff_latitude]\n",
              "Index: []"
            ],
            "text/html": [
              "<div>\n",
              "<style scoped>\n",
              "    .dataframe tbody tr th:only-of-type {\n",
              "        vertical-align: middle;\n",
              "    }\n",
              "\n",
              "    .dataframe tbody tr th {\n",
              "        vertical-align: top;\n",
              "    }\n",
              "\n",
              "    .dataframe thead th {\n",
              "        text-align: right;\n",
              "    }\n",
              "</style>\n",
              "<table border=\"1\" class=\"dataframe\">\n",
              "  <thead>\n",
              "    <tr style=\"text-align: right;\">\n",
              "      <th></th>\n",
              "      <th>pickup_longitude</th>\n",
              "      <th>pickup_latitude</th>\n",
              "      <th>dropoff_longitude</th>\n",
              "      <th>dropoff_latitude</th>\n",
              "    </tr>\n",
              "  </thead>\n",
              "  <tbody>\n",
              "  </tbody>\n",
              "</table>\n",
              "</div>"
            ]
          },
          "metadata": {
            "tags": []
          },
          "execution_count": 22
        }
      ]
    },
    {
      "cell_type": "markdown",
      "metadata": {
        "id": "merBb7bGFyEC"
      },
      "source": [
        "### Pickup coordinates"
      ]
    },
    {
      "cell_type": "markdown",
      "metadata": {
        "id": "xYQFqfnFF3xi"
      },
      "source": [
        "Stack latitude and longitude of each row into a numpy array of N x 2 elements\n",
        "\n",
        "Then generate a list of N Points from that pair of coordinates"
      ]
    },
    {
      "cell_type": "code",
      "metadata": {
        "id": "yQ8MEFco9b_f",
        "colab": {
          "base_uri": "https://localhost:8080/",
          "height": 34
        },
        "outputId": "3177a73a-5449-43a5-84d2-c9f52a13076a"
      },
      "source": [
        "# stack latitude and longitude together \n",
        "pickup = np.vstack((locations_nyc[\"pickup_longitude\"].values, locations_nyc[\"pickup_latitude\"].values)).T \n",
        "\n",
        "# Convert each couple into a point object\n",
        "t1 = datetime.now()\n",
        "points = [Point(i) for i in pickup]\n",
        "t2 = datetime.now()\n",
        "delta = t2 - t1\n",
        "print(\"time for conversion: {}\".format(delta.seconds))"
      ],
      "execution_count": null,
      "outputs": [
        {
          "output_type": "stream",
          "text": [
            "time for conversion: 149\n"
          ],
          "name": "stdout"
        }
      ]
    },
    {
      "cell_type": "markdown",
      "metadata": {
        "id": "KPfT2MYTGtGg"
      },
      "source": [
        "* Create a GeoSeries from the list of Points\n",
        "* Change the crs to match with the one of zones\n",
        "* Create a GeoDataframe from the GeoSeries\n",
        "* Drop any invalid rows"
      ]
    },
    {
      "cell_type": "code",
      "metadata": {
        "id": "Gyhmqyj9KMG4",
        "colab": {
          "base_uri": "https://localhost:8080/",
          "height": 72
        },
        "outputId": "d92a674d-2ffd-4659-9678-34d62dc4c629"
      },
      "source": [
        "gs = GeoSeries(points)\n",
        "gs.crs = fiona.crs.from_epsg(4326)\n",
        "gd = gpd.GeoDataFrame(geometry=gs)\n",
        "gd =  gd.loc[gd.is_valid]"
      ],
      "execution_count": null,
      "outputs": [
        {
          "output_type": "stream",
          "text": [
            "/opt/miniconda3/lib/python3.7/site-packages/pyproj/crs/crs.py:53: FutureWarning: '+init=<authority>:<code>' syntax is deprecated. '<authority>:<code>' is the preferred initialization method. When making the change, be mindful of axis order changes: https://pyproj4.github.io/pyproj/stable/gotchas.html#axis-order-changes-in-proj-6\n",
            "  return _prepare_from_string(\" \".join(pjargs))\n"
          ],
          "name": "stderr"
        }
      ]
    },
    {
      "cell_type": "code",
      "metadata": {
        "id": "t0VueRtxKRrJ"
      },
      "source": [
        "# Akternative method to change the crs\n",
        "#gs.crs = {'init': 'epsg:4326', 'no_defs': True}\n",
        "#gd = gpd.GeoDataFrame(geometry=gs)"
      ],
      "execution_count": null,
      "outputs": []
    },
    {
      "cell_type": "code",
      "metadata": {
        "id": "pdYeJQlHp95k",
        "colab": {
          "base_uri": "https://localhost:8080/",
          "height": 197
        },
        "outputId": "f6a10ac8-9d2c-4518-e1f6-3f8312629aa6"
      },
      "source": [
        "gd.head()"
      ],
      "execution_count": null,
      "outputs": [
        {
          "output_type": "execute_result",
          "data": {
            "text/plain": [
              "                     geometry\n",
              "0  POINT (-73.97662 40.75169)\n",
              "1  POINT (-73.94852 40.77800)\n",
              "2  POINT (-73.97916 40.78014)\n",
              "3  POINT (-73.96267 40.77537)\n",
              "4  POINT (-73.95589 40.80432)"
            ],
            "text/html": [
              "<div>\n",
              "<style scoped>\n",
              "    .dataframe tbody tr th:only-of-type {\n",
              "        vertical-align: middle;\n",
              "    }\n",
              "\n",
              "    .dataframe tbody tr th {\n",
              "        vertical-align: top;\n",
              "    }\n",
              "\n",
              "    .dataframe thead th {\n",
              "        text-align: right;\n",
              "    }\n",
              "</style>\n",
              "<table border=\"1\" class=\"dataframe\">\n",
              "  <thead>\n",
              "    <tr style=\"text-align: right;\">\n",
              "      <th></th>\n",
              "      <th>geometry</th>\n",
              "    </tr>\n",
              "  </thead>\n",
              "  <tbody>\n",
              "    <tr>\n",
              "      <th>0</th>\n",
              "      <td>POINT (-73.97662 40.75169)</td>\n",
              "    </tr>\n",
              "    <tr>\n",
              "      <th>1</th>\n",
              "      <td>POINT (-73.94852 40.77800)</td>\n",
              "    </tr>\n",
              "    <tr>\n",
              "      <th>2</th>\n",
              "      <td>POINT (-73.97916 40.78014)</td>\n",
              "    </tr>\n",
              "    <tr>\n",
              "      <th>3</th>\n",
              "      <td>POINT (-73.96267 40.77537)</td>\n",
              "    </tr>\n",
              "    <tr>\n",
              "      <th>4</th>\n",
              "      <td>POINT (-73.95589 40.80432)</td>\n",
              "    </tr>\n",
              "  </tbody>\n",
              "</table>\n",
              "</div>"
            ]
          },
          "metadata": {
            "tags": []
          },
          "execution_count": 48
        }
      ]
    },
    {
      "cell_type": "markdown",
      "metadata": {
        "id": "AOe-4Ag7HQm0"
      },
      "source": [
        "Add the original coordinates to the GeoDataframe, so we will have them in the result and we can use them to join back to the dataset"
      ]
    },
    {
      "cell_type": "code",
      "metadata": {
        "id": "b4fPvCEEKf2y"
      },
      "source": [
        "gd['pickup_longitude'] = locations_nyc[\"pickup_longitude\"].values\n",
        "gd['pickup_latitude'] = locations_nyc[\"pickup_latitude\"].values"
      ],
      "execution_count": null,
      "outputs": []
    },
    {
      "cell_type": "code",
      "metadata": {
        "id": "GblIZz78qu1v",
        "colab": {
          "base_uri": "https://localhost:8080/",
          "height": 197
        },
        "outputId": "5e929188-c296-4ef3-ac07-45229f7de5e6"
      },
      "source": [
        "gd.head()"
      ],
      "execution_count": null,
      "outputs": [
        {
          "output_type": "execute_result",
          "data": {
            "text/plain": [
              "                     geometry  pickup_longitude  pickup_latitude\n",
              "0  POINT (-73.97662 40.75169)        -73.976624        40.751686\n",
              "1  POINT (-73.94852 40.77800)        -73.948524        40.778000\n",
              "2  POINT (-73.97916 40.78014)        -73.979164        40.780136\n",
              "3  POINT (-73.96267 40.77537)        -73.962669        40.775368\n",
              "4  POINT (-73.95589 40.80432)        -73.955887        40.804317"
            ],
            "text/html": [
              "<div>\n",
              "<style scoped>\n",
              "    .dataframe tbody tr th:only-of-type {\n",
              "        vertical-align: middle;\n",
              "    }\n",
              "\n",
              "    .dataframe tbody tr th {\n",
              "        vertical-align: top;\n",
              "    }\n",
              "\n",
              "    .dataframe thead th {\n",
              "        text-align: right;\n",
              "    }\n",
              "</style>\n",
              "<table border=\"1\" class=\"dataframe\">\n",
              "  <thead>\n",
              "    <tr style=\"text-align: right;\">\n",
              "      <th></th>\n",
              "      <th>geometry</th>\n",
              "      <th>pickup_longitude</th>\n",
              "      <th>pickup_latitude</th>\n",
              "    </tr>\n",
              "  </thead>\n",
              "  <tbody>\n",
              "    <tr>\n",
              "      <th>0</th>\n",
              "      <td>POINT (-73.97662 40.75169)</td>\n",
              "      <td>-73.976624</td>\n",
              "      <td>40.751686</td>\n",
              "    </tr>\n",
              "    <tr>\n",
              "      <th>1</th>\n",
              "      <td>POINT (-73.94852 40.77800)</td>\n",
              "      <td>-73.948524</td>\n",
              "      <td>40.778000</td>\n",
              "    </tr>\n",
              "    <tr>\n",
              "      <th>2</th>\n",
              "      <td>POINT (-73.97916 40.78014)</td>\n",
              "      <td>-73.979164</td>\n",
              "      <td>40.780136</td>\n",
              "    </tr>\n",
              "    <tr>\n",
              "      <th>3</th>\n",
              "      <td>POINT (-73.96267 40.77537)</td>\n",
              "      <td>-73.962669</td>\n",
              "      <td>40.775368</td>\n",
              "    </tr>\n",
              "    <tr>\n",
              "      <th>4</th>\n",
              "      <td>POINT (-73.95589 40.80432)</td>\n",
              "      <td>-73.955887</td>\n",
              "      <td>40.804317</td>\n",
              "    </tr>\n",
              "  </tbody>\n",
              "</table>\n",
              "</div>"
            ]
          },
          "metadata": {
            "tags": []
          },
          "execution_count": 50
        }
      ]
    },
    {
      "cell_type": "markdown",
      "metadata": {
        "id": "vzT8aR2kHbWw"
      },
      "source": [
        "Check the DeoDataframe crs type"
      ]
    },
    {
      "cell_type": "code",
      "metadata": {
        "id": "NJbJImFKCIf1",
        "colab": {
          "base_uri": "https://localhost:8080/",
          "height": 212
        },
        "outputId": "6d7aa6fa-49c5-48c1-8078-b6c5baadf7aa"
      },
      "source": [
        "gd.crs"
      ],
      "execution_count": null,
      "outputs": [
        {
          "output_type": "execute_result",
          "data": {
            "text/plain": [
              "<Geographic 2D CRS: +init=epsg:4326 +no_defs +type=crs>\n",
              "Name: WGS 84\n",
              "Axis Info [ellipsoidal]:\n",
              "- lon[east]: Longitude (degree)\n",
              "- lat[north]: Latitude (degree)\n",
              "Area of Use:\n",
              "- name: World\n",
              "- bounds: (-180.0, -90.0, 180.0, 90.0)\n",
              "Datum: World Geodetic System 1984\n",
              "- Ellipsoid: WGS 84\n",
              "- Prime Meridian: Greenwich"
            ]
          },
          "metadata": {
            "tags": []
          },
          "execution_count": 51
        }
      ]
    },
    {
      "cell_type": "markdown",
      "metadata": {
        "id": "Br5zIcQLHq7q"
      },
      "source": [
        "Perform a spatial join between out points and the taxi zones"
      ]
    },
    {
      "cell_type": "code",
      "metadata": {
        "id": "Mf_zFXib_egb",
        "colab": {
          "base_uri": "https://localhost:8080/",
          "height": 420
        },
        "outputId": "ab3e70cd-3bf8-4d89-fb6d-e4bf9462ef52"
      },
      "source": [
        "join = gpd.sjoin(gd, zones, how=\"inner\", op=\"within\")\n",
        "join.head()"
      ],
      "execution_count": null,
      "outputs": [
        {
          "output_type": "stream",
          "text": [
            "/opt/miniconda3/lib/python3.7/site-packages/geopandas/tools/sjoin.py:61: UserWarning: CRS of frames being joined does not match!(+init=epsg:4326 +no_defs +type=crs != epsg:4326)\n",
            "  \"(%s != %s)\" % (left_df.crs, right_df.crs)\n"
          ],
          "name": "stderr"
        },
        {
          "output_type": "execute_result",
          "data": {
            "text/plain": [
              "                      geometry  pickup_longitude  pickup_latitude  \\\n",
              "0   POINT (-73.97662 40.75169)        -73.976624        40.751686   \n",
              "11  POINT (-73.97277 40.75661)        -73.972771        40.756611   \n",
              "56  POINT (-73.97391 40.75603)        -73.973907        40.756035   \n",
              "74  POINT (-73.97316 40.75518)        -73.973160        40.755180   \n",
              "90  POINT (-73.96718 40.76106)        -73.967178        40.761063   \n",
              "\n",
              "    index_right    borough  location_i  objectid  shape_area  shape_leng  \\\n",
              "0           161  Manhattan       162.0     162.0    0.000048     0.03527   \n",
              "11          161  Manhattan       162.0     162.0    0.000048     0.03527   \n",
              "56          161  Manhattan       162.0     162.0    0.000048     0.03527   \n",
              "74          161  Manhattan       162.0     162.0    0.000048     0.03527   \n",
              "90          161  Manhattan       162.0     162.0    0.000048     0.03527   \n",
              "\n",
              "            zone  \n",
              "0   Midtown East  \n",
              "11  Midtown East  \n",
              "56  Midtown East  \n",
              "74  Midtown East  \n",
              "90  Midtown East  "
            ],
            "text/html": [
              "<div>\n",
              "<style scoped>\n",
              "    .dataframe tbody tr th:only-of-type {\n",
              "        vertical-align: middle;\n",
              "    }\n",
              "\n",
              "    .dataframe tbody tr th {\n",
              "        vertical-align: top;\n",
              "    }\n",
              "\n",
              "    .dataframe thead th {\n",
              "        text-align: right;\n",
              "    }\n",
              "</style>\n",
              "<table border=\"1\" class=\"dataframe\">\n",
              "  <thead>\n",
              "    <tr style=\"text-align: right;\">\n",
              "      <th></th>\n",
              "      <th>geometry</th>\n",
              "      <th>pickup_longitude</th>\n",
              "      <th>pickup_latitude</th>\n",
              "      <th>index_right</th>\n",
              "      <th>borough</th>\n",
              "      <th>location_i</th>\n",
              "      <th>objectid</th>\n",
              "      <th>shape_area</th>\n",
              "      <th>shape_leng</th>\n",
              "      <th>zone</th>\n",
              "    </tr>\n",
              "  </thead>\n",
              "  <tbody>\n",
              "    <tr>\n",
              "      <th>0</th>\n",
              "      <td>POINT (-73.97662 40.75169)</td>\n",
              "      <td>-73.976624</td>\n",
              "      <td>40.751686</td>\n",
              "      <td>161</td>\n",
              "      <td>Manhattan</td>\n",
              "      <td>162.0</td>\n",
              "      <td>162.0</td>\n",
              "      <td>0.000048</td>\n",
              "      <td>0.03527</td>\n",
              "      <td>Midtown East</td>\n",
              "    </tr>\n",
              "    <tr>\n",
              "      <th>11</th>\n",
              "      <td>POINT (-73.97277 40.75661)</td>\n",
              "      <td>-73.972771</td>\n",
              "      <td>40.756611</td>\n",
              "      <td>161</td>\n",
              "      <td>Manhattan</td>\n",
              "      <td>162.0</td>\n",
              "      <td>162.0</td>\n",
              "      <td>0.000048</td>\n",
              "      <td>0.03527</td>\n",
              "      <td>Midtown East</td>\n",
              "    </tr>\n",
              "    <tr>\n",
              "      <th>56</th>\n",
              "      <td>POINT (-73.97391 40.75603)</td>\n",
              "      <td>-73.973907</td>\n",
              "      <td>40.756035</td>\n",
              "      <td>161</td>\n",
              "      <td>Manhattan</td>\n",
              "      <td>162.0</td>\n",
              "      <td>162.0</td>\n",
              "      <td>0.000048</td>\n",
              "      <td>0.03527</td>\n",
              "      <td>Midtown East</td>\n",
              "    </tr>\n",
              "    <tr>\n",
              "      <th>74</th>\n",
              "      <td>POINT (-73.97316 40.75518)</td>\n",
              "      <td>-73.973160</td>\n",
              "      <td>40.755180</td>\n",
              "      <td>161</td>\n",
              "      <td>Manhattan</td>\n",
              "      <td>162.0</td>\n",
              "      <td>162.0</td>\n",
              "      <td>0.000048</td>\n",
              "      <td>0.03527</td>\n",
              "      <td>Midtown East</td>\n",
              "    </tr>\n",
              "    <tr>\n",
              "      <th>90</th>\n",
              "      <td>POINT (-73.96718 40.76106)</td>\n",
              "      <td>-73.967178</td>\n",
              "      <td>40.761063</td>\n",
              "      <td>161</td>\n",
              "      <td>Manhattan</td>\n",
              "      <td>162.0</td>\n",
              "      <td>162.0</td>\n",
              "      <td>0.000048</td>\n",
              "      <td>0.03527</td>\n",
              "      <td>Midtown East</td>\n",
              "    </tr>\n",
              "  </tbody>\n",
              "</table>\n",
              "</div>"
            ]
          },
          "metadata": {
            "tags": []
          },
          "execution_count": 52
        }
      ]
    },
    {
      "cell_type": "markdown",
      "metadata": {
        "id": "6KxQtvw9H18t"
      },
      "source": [
        "Create a pandas dataframe with the non spatial data to join back with the original dataset"
      ]
    },
    {
      "cell_type": "code",
      "metadata": {
        "id": "SrDcDIO2FELp"
      },
      "source": [
        "# pickup_longitude | pickup_latitude | borough | location_i | zone\n",
        "pickup_non_spacial_data = pd.DataFrame({'pickup_longitude': join['pickup_longitude'], 'pickup_latitude':join['pickup_latitude'] ,\n",
        "                                 'pickup_borough': join['borough'], 'pickup_location_id': join['location_i'], 'pickup_zone': join['zone']})"
      ],
      "execution_count": null,
      "outputs": []
    },
    {
      "cell_type": "code",
      "metadata": {
        "id": "4B1DAh5YQYWI",
        "colab": {
          "base_uri": "https://localhost:8080/",
          "height": 197
        },
        "outputId": "6d404d1b-b4cb-4598-f3b7-fcaba8f83dba"
      },
      "source": [
        "pickup_non_spacial_data.head()"
      ],
      "execution_count": null,
      "outputs": [
        {
          "output_type": "execute_result",
          "data": {
            "text/plain": [
              "    pickup_longitude  pickup_latitude pickup_borough  pickup_location_id  \\\n",
              "0         -73.976624        40.751686      Manhattan               162.0   \n",
              "11        -73.972771        40.756611      Manhattan               162.0   \n",
              "56        -73.973907        40.756035      Manhattan               162.0   \n",
              "74        -73.973160        40.755180      Manhattan               162.0   \n",
              "90        -73.967178        40.761063      Manhattan               162.0   \n",
              "\n",
              "     pickup_zone  \n",
              "0   Midtown East  \n",
              "11  Midtown East  \n",
              "56  Midtown East  \n",
              "74  Midtown East  \n",
              "90  Midtown East  "
            ],
            "text/html": [
              "<div>\n",
              "<style scoped>\n",
              "    .dataframe tbody tr th:only-of-type {\n",
              "        vertical-align: middle;\n",
              "    }\n",
              "\n",
              "    .dataframe tbody tr th {\n",
              "        vertical-align: top;\n",
              "    }\n",
              "\n",
              "    .dataframe thead th {\n",
              "        text-align: right;\n",
              "    }\n",
              "</style>\n",
              "<table border=\"1\" class=\"dataframe\">\n",
              "  <thead>\n",
              "    <tr style=\"text-align: right;\">\n",
              "      <th></th>\n",
              "      <th>pickup_longitude</th>\n",
              "      <th>pickup_latitude</th>\n",
              "      <th>pickup_borough</th>\n",
              "      <th>pickup_location_id</th>\n",
              "      <th>pickup_zone</th>\n",
              "    </tr>\n",
              "  </thead>\n",
              "  <tbody>\n",
              "    <tr>\n",
              "      <th>0</th>\n",
              "      <td>-73.976624</td>\n",
              "      <td>40.751686</td>\n",
              "      <td>Manhattan</td>\n",
              "      <td>162.0</td>\n",
              "      <td>Midtown East</td>\n",
              "    </tr>\n",
              "    <tr>\n",
              "      <th>11</th>\n",
              "      <td>-73.972771</td>\n",
              "      <td>40.756611</td>\n",
              "      <td>Manhattan</td>\n",
              "      <td>162.0</td>\n",
              "      <td>Midtown East</td>\n",
              "    </tr>\n",
              "    <tr>\n",
              "      <th>56</th>\n",
              "      <td>-73.973907</td>\n",
              "      <td>40.756035</td>\n",
              "      <td>Manhattan</td>\n",
              "      <td>162.0</td>\n",
              "      <td>Midtown East</td>\n",
              "    </tr>\n",
              "    <tr>\n",
              "      <th>74</th>\n",
              "      <td>-73.973160</td>\n",
              "      <td>40.755180</td>\n",
              "      <td>Manhattan</td>\n",
              "      <td>162.0</td>\n",
              "      <td>Midtown East</td>\n",
              "    </tr>\n",
              "    <tr>\n",
              "      <th>90</th>\n",
              "      <td>-73.967178</td>\n",
              "      <td>40.761063</td>\n",
              "      <td>Manhattan</td>\n",
              "      <td>162.0</td>\n",
              "      <td>Midtown East</td>\n",
              "    </tr>\n",
              "  </tbody>\n",
              "</table>\n",
              "</div>"
            ]
          },
          "metadata": {
            "tags": []
          },
          "execution_count": 48
        }
      ]
    },
    {
      "cell_type": "markdown",
      "metadata": {
        "id": "51pbHveUIWfN"
      },
      "source": [
        "### Dropoff\n",
        "\n",
        "Same thing with the dropoff coordinates"
      ]
    },
    {
      "cell_type": "code",
      "metadata": {
        "id": "2zOSF-u0Ilz6",
        "colab": {
          "base_uri": "https://localhost:8080/",
          "height": 34
        },
        "outputId": "3c85ae71-b944-478f-c3cb-7b6f53cc5978"
      },
      "source": [
        "# stack latitude and longitude together \n",
        "dropoff = np.vstack((locations_nyc[\"dropoff_longitude\"].values, locations_nyc[\"dropoff_latitude\"].values)).T \n",
        "\n",
        "# Convert each couple into a point object\n",
        "t1 = datetime.now()\n",
        "points = [Point(i) for i in dropoff]\n",
        "t2 = datetime.now()\n",
        "delta = t2 - t1\n",
        "print(\"time for conversion: {}\".format(delta.seconds))"
      ],
      "execution_count": null,
      "outputs": [
        {
          "output_type": "stream",
          "text": [
            "time for conversion: 144\n"
          ],
          "name": "stdout"
        }
      ]
    },
    {
      "cell_type": "code",
      "metadata": {
        "id": "wi6VynimJFw7",
        "colab": {
          "base_uri": "https://localhost:8080/",
          "height": 72
        },
        "outputId": "8307ff84-7c2f-4969-8906-cbbde1d7a1ed"
      },
      "source": [
        "gs = GeoSeries(points)\n",
        "gs.crs = fiona.crs.from_epsg(4326)\n",
        "gd = gpd.GeoDataFrame(geometry=gs)\n",
        "gd =  gd.loc[gd.is_valid]"
      ],
      "execution_count": null,
      "outputs": [
        {
          "output_type": "stream",
          "text": [
            "/opt/miniconda3/lib/python3.7/site-packages/pyproj/crs/crs.py:53: FutureWarning: '+init=<authority>:<code>' syntax is deprecated. '<authority>:<code>' is the preferred initialization method. When making the change, be mindful of axis order changes: https://pyproj4.github.io/pyproj/stable/gotchas.html#axis-order-changes-in-proj-6\n",
            "  return _prepare_from_string(\" \".join(pjargs))\n"
          ],
          "name": "stderr"
        }
      ]
    },
    {
      "cell_type": "code",
      "metadata": {
        "id": "bfRq-WqFJGV9"
      },
      "source": [
        "gd['dropoff_longitude'] = locations_nyc[\"dropoff_longitude\"].values\n",
        "gd['dropoff_latitude'] = locations_nyc[\"dropoff_latitude\"].values"
      ],
      "execution_count": null,
      "outputs": []
    },
    {
      "cell_type": "code",
      "metadata": {
        "id": "AVuMDyyzJPj9",
        "colab": {
          "base_uri": "https://localhost:8080/",
          "height": 420
        },
        "outputId": "9f1dd4a7-3bef-476c-a11b-fceabe781004"
      },
      "source": [
        "join = gpd.sjoin(gd, zones, how=\"inner\", op=\"within\")\n",
        "join.head()"
      ],
      "execution_count": null,
      "outputs": [
        {
          "output_type": "stream",
          "text": [
            "/opt/miniconda3/lib/python3.7/site-packages/geopandas/tools/sjoin.py:61: UserWarning: CRS of frames being joined does not match!(+init=epsg:4326 +no_defs +type=crs != epsg:4326)\n",
            "  \"(%s != %s)\" % (left_df.crs, right_df.crs)\n"
          ],
          "name": "stderr"
        },
        {
          "output_type": "execute_result",
          "data": {
            "text/plain": [
              "                       geometry  dropoff_longitude  dropoff_latitude  \\\n",
              "0    POINT (-73.94935 40.77687)         -73.949348         40.776871   \n",
              "320  POINT (-73.94830 40.77297)         -73.948303         40.772968   \n",
              "435  POINT (-73.94866 40.77410)         -73.948662         40.774105   \n",
              "482  POINT (-73.94766 40.77544)         -73.947662         40.775440   \n",
              "747  POINT (-73.94652 40.77238)         -73.946518         40.772381   \n",
              "\n",
              "     index_right    borough  location_i  objectid  shape_area  shape_leng  \\\n",
              "0            262  Manhattan       262.0     262.0    0.000122    0.049064   \n",
              "320          262  Manhattan       262.0     262.0    0.000122    0.049064   \n",
              "435          262  Manhattan       262.0     262.0    0.000122    0.049064   \n",
              "482          262  Manhattan       262.0     262.0    0.000122    0.049064   \n",
              "747          262  Manhattan       262.0     262.0    0.000122    0.049064   \n",
              "\n",
              "               zone  \n",
              "0    Yorkville East  \n",
              "320  Yorkville East  \n",
              "435  Yorkville East  \n",
              "482  Yorkville East  \n",
              "747  Yorkville East  "
            ],
            "text/html": [
              "<div>\n",
              "<style scoped>\n",
              "    .dataframe tbody tr th:only-of-type {\n",
              "        vertical-align: middle;\n",
              "    }\n",
              "\n",
              "    .dataframe tbody tr th {\n",
              "        vertical-align: top;\n",
              "    }\n",
              "\n",
              "    .dataframe thead th {\n",
              "        text-align: right;\n",
              "    }\n",
              "</style>\n",
              "<table border=\"1\" class=\"dataframe\">\n",
              "  <thead>\n",
              "    <tr style=\"text-align: right;\">\n",
              "      <th></th>\n",
              "      <th>geometry</th>\n",
              "      <th>dropoff_longitude</th>\n",
              "      <th>dropoff_latitude</th>\n",
              "      <th>index_right</th>\n",
              "      <th>borough</th>\n",
              "      <th>location_i</th>\n",
              "      <th>objectid</th>\n",
              "      <th>shape_area</th>\n",
              "      <th>shape_leng</th>\n",
              "      <th>zone</th>\n",
              "    </tr>\n",
              "  </thead>\n",
              "  <tbody>\n",
              "    <tr>\n",
              "      <th>0</th>\n",
              "      <td>POINT (-73.94935 40.77687)</td>\n",
              "      <td>-73.949348</td>\n",
              "      <td>40.776871</td>\n",
              "      <td>262</td>\n",
              "      <td>Manhattan</td>\n",
              "      <td>262.0</td>\n",
              "      <td>262.0</td>\n",
              "      <td>0.000122</td>\n",
              "      <td>0.049064</td>\n",
              "      <td>Yorkville East</td>\n",
              "    </tr>\n",
              "    <tr>\n",
              "      <th>320</th>\n",
              "      <td>POINT (-73.94830 40.77297)</td>\n",
              "      <td>-73.948303</td>\n",
              "      <td>40.772968</td>\n",
              "      <td>262</td>\n",
              "      <td>Manhattan</td>\n",
              "      <td>262.0</td>\n",
              "      <td>262.0</td>\n",
              "      <td>0.000122</td>\n",
              "      <td>0.049064</td>\n",
              "      <td>Yorkville East</td>\n",
              "    </tr>\n",
              "    <tr>\n",
              "      <th>435</th>\n",
              "      <td>POINT (-73.94866 40.77410)</td>\n",
              "      <td>-73.948662</td>\n",
              "      <td>40.774105</td>\n",
              "      <td>262</td>\n",
              "      <td>Manhattan</td>\n",
              "      <td>262.0</td>\n",
              "      <td>262.0</td>\n",
              "      <td>0.000122</td>\n",
              "      <td>0.049064</td>\n",
              "      <td>Yorkville East</td>\n",
              "    </tr>\n",
              "    <tr>\n",
              "      <th>482</th>\n",
              "      <td>POINT (-73.94766 40.77544)</td>\n",
              "      <td>-73.947662</td>\n",
              "      <td>40.775440</td>\n",
              "      <td>262</td>\n",
              "      <td>Manhattan</td>\n",
              "      <td>262.0</td>\n",
              "      <td>262.0</td>\n",
              "      <td>0.000122</td>\n",
              "      <td>0.049064</td>\n",
              "      <td>Yorkville East</td>\n",
              "    </tr>\n",
              "    <tr>\n",
              "      <th>747</th>\n",
              "      <td>POINT (-73.94652 40.77238)</td>\n",
              "      <td>-73.946518</td>\n",
              "      <td>40.772381</td>\n",
              "      <td>262</td>\n",
              "      <td>Manhattan</td>\n",
              "      <td>262.0</td>\n",
              "      <td>262.0</td>\n",
              "      <td>0.000122</td>\n",
              "      <td>0.049064</td>\n",
              "      <td>Yorkville East</td>\n",
              "    </tr>\n",
              "  </tbody>\n",
              "</table>\n",
              "</div>"
            ]
          },
          "metadata": {
            "tags": []
          },
          "execution_count": 57
        }
      ]
    },
    {
      "cell_type": "code",
      "metadata": {
        "id": "CyoLKjFdJWAB"
      },
      "source": [
        "# dropoff_longitude | dropoff_latitude | borough | location_i | zone\n",
        "dropoff_non_spacial_data = pd.DataFrame({'dropoff_longitude': join['dropoff_longitude'], 'dropoff_latitude':join['dropoff_latitude'] ,\n",
        "                                 'dropoff_borough': join['borough'], 'dropoff_location_id': join['location_i'], 'dropoff_zone': join['zone']})"
      ],
      "execution_count": null,
      "outputs": []
    },
    {
      "cell_type": "markdown",
      "metadata": {
        "id": "3vs08BCsKOex"
      },
      "source": [
        "### Check for index dulicates\n",
        "\n",
        "There are coordinates which match with more than one zone and create duplicates"
      ]
    },
    {
      "cell_type": "code",
      "metadata": {
        "id": "4sNbT8SPT-bN",
        "colab": {
          "base_uri": "https://localhost:8080/",
          "height": 67
        },
        "outputId": "153afe77-1ffc-4aa0-ad5d-ad0e321194b2"
      },
      "source": [
        "all_valid_records[all_valid_records.index.duplicated()]"
      ],
      "execution_count": null,
      "outputs": [
        {
          "output_type": "execute_result",
          "data": {
            "text/plain": [
              "Empty DataFrame\n",
              "Columns: [medallion, hack_license, pickup_datetime, dropoff_datetime, pickup_longitude, pickup_latitude, dropoff_longitude, dropoff_latitude, trip_time, haversine_distance, speed, pickup_week_day, pickup_hour, pickup_month]\n",
              "Index: []"
            ],
            "text/html": [
              "<div>\n",
              "<style scoped>\n",
              "    .dataframe tbody tr th:only-of-type {\n",
              "        vertical-align: middle;\n",
              "    }\n",
              "\n",
              "    .dataframe tbody tr th {\n",
              "        vertical-align: top;\n",
              "    }\n",
              "\n",
              "    .dataframe thead th {\n",
              "        text-align: right;\n",
              "    }\n",
              "</style>\n",
              "<table border=\"1\" class=\"dataframe\">\n",
              "  <thead>\n",
              "    <tr style=\"text-align: right;\">\n",
              "      <th></th>\n",
              "      <th>medallion</th>\n",
              "      <th>hack_license</th>\n",
              "      <th>pickup_datetime</th>\n",
              "      <th>dropoff_datetime</th>\n",
              "      <th>pickup_longitude</th>\n",
              "      <th>pickup_latitude</th>\n",
              "      <th>dropoff_longitude</th>\n",
              "      <th>dropoff_latitude</th>\n",
              "      <th>trip_time</th>\n",
              "      <th>haversine_distance</th>\n",
              "      <th>speed</th>\n",
              "      <th>pickup_week_day</th>\n",
              "      <th>pickup_hour</th>\n",
              "      <th>pickup_month</th>\n",
              "    </tr>\n",
              "  </thead>\n",
              "  <tbody>\n",
              "  </tbody>\n",
              "</table>\n",
              "</div>"
            ]
          },
          "metadata": {
            "tags": []
          },
          "execution_count": 33
        }
      ]
    },
    {
      "cell_type": "code",
      "metadata": {
        "id": "ldrx-KREQXHJ",
        "colab": {
          "base_uri": "https://localhost:8080/",
          "height": 47
        },
        "outputId": "db59f469-630a-4938-855b-a9557f95bbc7"
      },
      "source": [
        "pickup_non_spacial_data[pickup_non_spacial_data.index.duplicated()]"
      ],
      "execution_count": null,
      "outputs": [
        {
          "output_type": "execute_result",
          "data": {
            "text/plain": [
              "Empty DataFrame\n",
              "Columns: [pickup_longitude, pickup_latitude, pickup_borough, pickup_location_id, pickup_zone]\n",
              "Index: []"
            ],
            "text/html": [
              "<div>\n",
              "<style scoped>\n",
              "    .dataframe tbody tr th:only-of-type {\n",
              "        vertical-align: middle;\n",
              "    }\n",
              "\n",
              "    .dataframe tbody tr th {\n",
              "        vertical-align: top;\n",
              "    }\n",
              "\n",
              "    .dataframe thead th {\n",
              "        text-align: right;\n",
              "    }\n",
              "</style>\n",
              "<table border=\"1\" class=\"dataframe\">\n",
              "  <thead>\n",
              "    <tr style=\"text-align: right;\">\n",
              "      <th></th>\n",
              "      <th>pickup_longitude</th>\n",
              "      <th>pickup_latitude</th>\n",
              "      <th>pickup_borough</th>\n",
              "      <th>pickup_location_id</th>\n",
              "      <th>pickup_zone</th>\n",
              "    </tr>\n",
              "  </thead>\n",
              "  <tbody>\n",
              "  </tbody>\n",
              "</table>\n",
              "</div>"
            ]
          },
          "metadata": {
            "tags": []
          },
          "execution_count": 34
        }
      ]
    },
    {
      "cell_type": "code",
      "metadata": {
        "id": "IZq15UkQTvSA",
        "colab": {
          "base_uri": "https://localhost:8080/",
          "height": 77
        },
        "outputId": "351ef617-43bb-42b5-9027-e8c73dbfa2cc"
      },
      "source": [
        "dropoff_non_spacial_data[dropoff_non_spacial_data.index.duplicated()]#.index[0]"
      ],
      "execution_count": null,
      "outputs": [
        {
          "output_type": "execute_result",
          "data": {
            "text/plain": [
              "         dropoff_longitude  dropoff_latitude dropoff_borough  \\\n",
              "7984683         -73.974968         40.748501       Manhattan   \n",
              "\n",
              "         dropoff_location_id         dropoff_zone  \n",
              "7984683                233.0  UN/Turtle Bay South  "
            ],
            "text/html": [
              "<div>\n",
              "<style scoped>\n",
              "    .dataframe tbody tr th:only-of-type {\n",
              "        vertical-align: middle;\n",
              "    }\n",
              "\n",
              "    .dataframe tbody tr th {\n",
              "        vertical-align: top;\n",
              "    }\n",
              "\n",
              "    .dataframe thead th {\n",
              "        text-align: right;\n",
              "    }\n",
              "</style>\n",
              "<table border=\"1\" class=\"dataframe\">\n",
              "  <thead>\n",
              "    <tr style=\"text-align: right;\">\n",
              "      <th></th>\n",
              "      <th>dropoff_longitude</th>\n",
              "      <th>dropoff_latitude</th>\n",
              "      <th>dropoff_borough</th>\n",
              "      <th>dropoff_location_id</th>\n",
              "      <th>dropoff_zone</th>\n",
              "    </tr>\n",
              "  </thead>\n",
              "  <tbody>\n",
              "    <tr>\n",
              "      <th>7984683</th>\n",
              "      <td>-73.974968</td>\n",
              "      <td>40.748501</td>\n",
              "      <td>Manhattan</td>\n",
              "      <td>233.0</td>\n",
              "      <td>UN/Turtle Bay South</td>\n",
              "    </tr>\n",
              "  </tbody>\n",
              "</table>\n",
              "</div>"
            ]
          },
          "metadata": {
            "tags": []
          },
          "execution_count": 59
        }
      ]
    },
    {
      "cell_type": "markdown",
      "metadata": {
        "id": "NLK6R6V-doJu"
      },
      "source": [
        "If there is a duplicate, locate it by the index"
      ]
    },
    {
      "cell_type": "code",
      "metadata": {
        "id": "LUYZ3-cDRVwd",
        "colab": {
          "base_uri": "https://localhost:8080/",
          "height": 107
        },
        "outputId": "e36187dd-3f35-47f9-e8ae-da75368cb856"
      },
      "source": [
        "dropoff_non_spacial_data.loc[7971094]"
      ],
      "execution_count": null,
      "outputs": [
        {
          "output_type": "execute_result",
          "data": {
            "text/plain": [
              "         dropoff_longitude  dropoff_latitude dropoff_borough  \\\n",
              "7971094         -73.974968         40.748501       Manhattan   \n",
              "7971094         -73.974968         40.748501       Manhattan   \n",
              "\n",
              "         dropoff_location_id         dropoff_zone  \n",
              "7971094                170.0          Murray Hill  \n",
              "7971094                233.0  UN/Turtle Bay South  "
            ],
            "text/html": [
              "<div>\n",
              "<style scoped>\n",
              "    .dataframe tbody tr th:only-of-type {\n",
              "        vertical-align: middle;\n",
              "    }\n",
              "\n",
              "    .dataframe tbody tr th {\n",
              "        vertical-align: top;\n",
              "    }\n",
              "\n",
              "    .dataframe thead th {\n",
              "        text-align: right;\n",
              "    }\n",
              "</style>\n",
              "<table border=\"1\" class=\"dataframe\">\n",
              "  <thead>\n",
              "    <tr style=\"text-align: right;\">\n",
              "      <th></th>\n",
              "      <th>dropoff_longitude</th>\n",
              "      <th>dropoff_latitude</th>\n",
              "      <th>dropoff_borough</th>\n",
              "      <th>dropoff_location_id</th>\n",
              "      <th>dropoff_zone</th>\n",
              "    </tr>\n",
              "  </thead>\n",
              "  <tbody>\n",
              "    <tr>\n",
              "      <th>7971094</th>\n",
              "      <td>-73.974968</td>\n",
              "      <td>40.748501</td>\n",
              "      <td>Manhattan</td>\n",
              "      <td>170.0</td>\n",
              "      <td>Murray Hill</td>\n",
              "    </tr>\n",
              "    <tr>\n",
              "      <th>7971094</th>\n",
              "      <td>-73.974968</td>\n",
              "      <td>40.748501</td>\n",
              "      <td>Manhattan</td>\n",
              "      <td>233.0</td>\n",
              "      <td>UN/Turtle Bay South</td>\n",
              "    </tr>\n",
              "  </tbody>\n",
              "</table>\n",
              "</div>"
            ]
          },
          "metadata": {
            "tags": []
          },
          "execution_count": 164
        }
      ]
    },
    {
      "cell_type": "markdown",
      "metadata": {
        "id": "7M-wWa2rZoxX"
      },
      "source": [
        "**It is not a problem cause by my implementation, also BigQuery make this duplicate**\n",
        "\n",
        "We can drop the duplicate and keep just the first result"
      ]
    },
    {
      "cell_type": "code",
      "metadata": {
        "id": "HXVpfvQkaprY"
      },
      "source": [
        "# Drop duplicates\n",
        "dropoff_non_spacial_data = dropoff_non_spacial_data.loc[~dropoff_non_spacial_data.index.duplicated(keep='first')]"
      ],
      "execution_count": null,
      "outputs": []
    },
    {
      "cell_type": "markdown",
      "metadata": {
        "id": "aP_GX_nW9y8i"
      },
      "source": [
        "Check Most common combination of dropoff_longitude and dropoff_latitude"
      ]
    },
    {
      "cell_type": "code",
      "metadata": {
        "id": "xlkZ32_1lhMk",
        "colab": {
          "base_uri": "https://localhost:8080/",
          "height": 247
        },
        "outputId": "f229e4a8-2748-46f7-a78a-a3aa7ff7c308"
      },
      "source": [
        "# Most common combination of dropoff_longitude and dropoff_latitude\n",
        "dropoff_non_spacial_data.groupby(['dropoff_longitude','dropoff_latitude']).size().sort_values(ascending=False)\n"
      ],
      "execution_count": null,
      "outputs": [
        {
          "output_type": "execute_result",
          "data": {
            "text/plain": [
              "dropoff_longitude  dropoff_latitude\n",
              "-73.874474         40.774071           26\n",
              "-73.870918         40.773773           26\n",
              "                   40.773766           25\n",
              "-73.874489         40.774078           24\n",
              "-73.870895         40.773766           24\n",
              "                                       ..\n",
              "-73.973351         40.769203            1\n",
              "                   40.769188            1\n",
              "                   40.769176            1\n",
              "                   40.769165            1\n",
              "-74.252434         40.511765            1\n",
              "Length: 12197563, dtype: int64"
            ]
          },
          "metadata": {
            "tags": []
          },
          "execution_count": 61
        }
      ]
    },
    {
      "cell_type": "markdown",
      "metadata": {
        "id": "ZEeivGDLLGme"
      },
      "source": [
        "Remove unecessary columns"
      ]
    },
    {
      "cell_type": "code",
      "metadata": {
        "id": "lwQDeEGuLShM"
      },
      "source": [
        "pickup_zones = pickup_non_spacial_data[ ['pickup_longitude', 'pickup_latitude', 'pickup_location_id']].copy()"
      ],
      "execution_count": null,
      "outputs": []
    },
    {
      "cell_type": "code",
      "metadata": {
        "id": "0aaKjeheLfoU"
      },
      "source": [
        "dropoff_zones = dropoff_non_spacial_data[ ['dropoff_longitude', 'dropoff_latitude', 'dropoff_location_id']].copy()"
      ],
      "execution_count": null,
      "outputs": []
    },
    {
      "cell_type": "code",
      "metadata": {
        "id": "GSe5t_hkX0LK"
      },
      "source": [
        "# save the csv\n",
        "pickup_zones.to_csv('/Users/AAAA/Desktop/pickup_zones_1.csv', index=False)\n",
        "dropoff_zones.to_csv('/Users/AAAA/Desktop/dropoff_zones_1.csv', index=False)"
      ],
      "execution_count": null,
      "outputs": []
    },
    {
      "cell_type": "code",
      "metadata": {
        "id": "EGzNSigH9pVg"
      },
      "source": [
        "# read the csv\n",
        "pickup_zones = pd.read_csv(baseURL + 'pickup_zones_1.csv')\n",
        "dropoff_zones = pd.read_csv(baseURL + 'dropoff_zones_1.csv')"
      ],
      "execution_count": null,
      "outputs": []
    },
    {
      "cell_type": "markdown",
      "metadata": {
        "id": "tnQGwcaQZWe2"
      },
      "source": [
        "### Joining separately"
      ]
    },
    {
      "cell_type": "code",
      "metadata": {
        "id": "me_nQfMOaHJx"
      },
      "source": [
        "all_valid_records"
      ],
      "execution_count": null,
      "outputs": []
    },
    {
      "cell_type": "code",
      "metadata": {
        "id": "Ieupbo3zZhj-"
      },
      "source": [
        "trips_with_zones = pd.merge(all_valid_records, pickup_zones,  how='left',\n",
        "                  left_on=['pickup_longitude','pickup_latitude'],\n",
        "                  right_on = ['pickup_longitude','pickup_latitude'])"
      ],
      "execution_count": null,
      "outputs": []
    },
    {
      "cell_type": "code",
      "metadata": {
        "id": "ggEuO2ih-BKs"
      },
      "source": [
        "trips_with_zones.shape"
      ],
      "execution_count": null,
      "outputs": []
    },
    {
      "cell_type": "code",
      "metadata": {
        "id": "FfnmXRju-4oy"
      },
      "source": [
        "del trips_with_zones\n",
        "gc.collect()"
      ],
      "execution_count": null,
      "outputs": []
    },
    {
      "cell_type": "markdown",
      "metadata": {
        "id": "lpeAsVFlbIk9"
      },
      "source": [
        "This merge returns 26M rows... this because there are duplicates in the pickup_zones table and they match with more than one row each.\n",
        "\n",
        "we need to drop them"
      ]
    },
    {
      "cell_type": "code",
      "metadata": {
        "id": "xhhk0I-_aAbS"
      },
      "source": [
        "pickup_zones = pickup_zones.drop_duplicates(subset=['pickup_longitude','pickup_latitude'])"
      ],
      "execution_count": null,
      "outputs": []
    },
    {
      "cell_type": "code",
      "metadata": {
        "id": "6i_DPv48bk13"
      },
      "source": [
        "trips_with_zones = pd.merge(all_valid_records, pickup_zones,  how='left',\n",
        "                  left_on=['pickup_longitude','pickup_latitude'],\n",
        "                  right_on = ['pickup_longitude','pickup_latitude'])"
      ],
      "execution_count": null,
      "outputs": []
    },
    {
      "cell_type": "code",
      "metadata": {
        "id": "O8EE2lo9cCR9"
      },
      "source": [
        "dropoff_zones = dropoff_zones.drop_duplicates(subset=['dropoff_longitude','dropoff_latitude'])"
      ],
      "execution_count": null,
      "outputs": []
    },
    {
      "cell_type": "code",
      "metadata": {
        "id": "aHVvCvUfZqYn"
      },
      "source": [
        "trips_with_zones = pd.merge(trips_with_zones, dropoff_zones,  how='left',\n",
        "                  left_on = ['dropoff_longitude','dropoff_latitude'],\n",
        "                  right_on = ['dropoff_longitude','dropoff_latitude'])"
      ],
      "execution_count": null,
      "outputs": []
    },
    {
      "cell_type": "code",
      "metadata": {
        "id": "FwzOvUsjccxn",
        "colab": {
          "base_uri": "https://localhost:8080/",
          "height": 609
        },
        "outputId": "0a5c3757-7847-4537-ffe6-273a73f83dd3"
      },
      "source": [
        "trips_with_zones"
      ],
      "execution_count": null,
      "outputs": [
        {
          "output_type": "execute_result",
          "data": {
            "text/html": [
              "<div>\n",
              "<style scoped>\n",
              "    .dataframe tbody tr th:only-of-type {\n",
              "        vertical-align: middle;\n",
              "    }\n",
              "\n",
              "    .dataframe tbody tr th {\n",
              "        vertical-align: top;\n",
              "    }\n",
              "\n",
              "    .dataframe thead th {\n",
              "        text-align: right;\n",
              "    }\n",
              "</style>\n",
              "<table border=\"1\" class=\"dataframe\">\n",
              "  <thead>\n",
              "    <tr style=\"text-align: right;\">\n",
              "      <th></th>\n",
              "      <th>medallion</th>\n",
              "      <th>hack_license</th>\n",
              "      <th>pickup_datetime</th>\n",
              "      <th>dropoff_datetime</th>\n",
              "      <th>pickup_longitude</th>\n",
              "      <th>pickup_latitude</th>\n",
              "      <th>dropoff_longitude</th>\n",
              "      <th>dropoff_latitude</th>\n",
              "      <th>trip_time</th>\n",
              "      <th>haversine_distance</th>\n",
              "      <th>speed</th>\n",
              "      <th>pickup_week_day</th>\n",
              "      <th>pickup_hour</th>\n",
              "      <th>pickup_month</th>\n",
              "      <th>pickup_day</th>\n",
              "      <th>dropoff_week_day</th>\n",
              "      <th>dropoff_hour</th>\n",
              "      <th>dropoff_month</th>\n",
              "      <th>dropoff_day</th>\n",
              "      <th>pickup_location_id</th>\n",
              "      <th>dropoff_location_id</th>\n",
              "    </tr>\n",
              "  </thead>\n",
              "  <tbody>\n",
              "    <tr>\n",
              "      <th>0</th>\n",
              "      <td>00005007A9F30E289E760362F69E4EAD</td>\n",
              "      <td>A9AE329EA1138052DAC8FDFD8BA86603</td>\n",
              "      <td>2013-01-01 00:29:39</td>\n",
              "      <td>2013-01-01 00:37:47</td>\n",
              "      <td>-73.976624</td>\n",
              "      <td>40.751686</td>\n",
              "      <td>-73.949348</td>\n",
              "      <td>40.776871</td>\n",
              "      <td>0.136</td>\n",
              "      <td>3.622</td>\n",
              "      <td>26.6</td>\n",
              "      <td>1</td>\n",
              "      <td>0</td>\n",
              "      <td>1</td>\n",
              "      <td>1</td>\n",
              "      <td>1</td>\n",
              "      <td>0</td>\n",
              "      <td>1</td>\n",
              "      <td>1</td>\n",
              "      <td>162.0</td>\n",
              "      <td>262.0</td>\n",
              "    </tr>\n",
              "    <tr>\n",
              "      <th>1</th>\n",
              "      <td>00005007A9F30E289E760362F69E4EAD</td>\n",
              "      <td>A9AE329EA1138052DAC8FDFD8BA86603</td>\n",
              "      <td>2013-01-01 00:39:16</td>\n",
              "      <td>2013-01-01 00:58:43</td>\n",
              "      <td>-73.948524</td>\n",
              "      <td>40.778000</td>\n",
              "      <td>-73.978966</td>\n",
              "      <td>40.780052</td>\n",
              "      <td>0.324</td>\n",
              "      <td>2.573</td>\n",
              "      <td>7.9</td>\n",
              "      <td>1</td>\n",
              "      <td>0</td>\n",
              "      <td>1</td>\n",
              "      <td>1</td>\n",
              "      <td>1</td>\n",
              "      <td>0</td>\n",
              "      <td>1</td>\n",
              "      <td>1</td>\n",
              "      <td>262.0</td>\n",
              "      <td>239.0</td>\n",
              "    </tr>\n",
              "    <tr>\n",
              "      <th>2</th>\n",
              "      <td>00005007A9F30E289E760362F69E4EAD</td>\n",
              "      <td>A9AE329EA1138052DAC8FDFD8BA86603</td>\n",
              "      <td>2013-01-01 00:59:38</td>\n",
              "      <td>2013-01-01 01:05:59</td>\n",
              "      <td>-73.979164</td>\n",
              "      <td>40.780136</td>\n",
              "      <td>-73.961884</td>\n",
              "      <td>40.774754</td>\n",
              "      <td>0.106</td>\n",
              "      <td>1.573</td>\n",
              "      <td>14.8</td>\n",
              "      <td>1</td>\n",
              "      <td>0</td>\n",
              "      <td>1</td>\n",
              "      <td>1</td>\n",
              "      <td>1</td>\n",
              "      <td>1</td>\n",
              "      <td>1</td>\n",
              "      <td>1</td>\n",
              "      <td>239.0</td>\n",
              "      <td>236.0</td>\n",
              "    </tr>\n",
              "    <tr>\n",
              "      <th>3</th>\n",
              "      <td>00005007A9F30E289E760362F69E4EAD</td>\n",
              "      <td>A9AE329EA1138052DAC8FDFD8BA86603</td>\n",
              "      <td>2013-01-01 01:07:33</td>\n",
              "      <td>2013-01-01 01:19:52</td>\n",
              "      <td>-73.962669</td>\n",
              "      <td>40.775368</td>\n",
              "      <td>-73.956116</td>\n",
              "      <td>40.804432</td>\n",
              "      <td>0.205</td>\n",
              "      <td>3.279</td>\n",
              "      <td>16.0</td>\n",
              "      <td>1</td>\n",
              "      <td>1</td>\n",
              "      <td>1</td>\n",
              "      <td>1</td>\n",
              "      <td>1</td>\n",
              "      <td>1</td>\n",
              "      <td>1</td>\n",
              "      <td>1</td>\n",
              "      <td>236.0</td>\n",
              "      <td>41.0</td>\n",
              "    </tr>\n",
              "    <tr>\n",
              "      <th>4</th>\n",
              "      <td>00005007A9F30E289E760362F69E4EAD</td>\n",
              "      <td>A9AE329EA1138052DAC8FDFD8BA86603</td>\n",
              "      <td>2013-01-01 01:21:23</td>\n",
              "      <td>2013-01-01 01:56:09</td>\n",
              "      <td>-73.955887</td>\n",
              "      <td>40.804317</td>\n",
              "      <td>-74.000214</td>\n",
              "      <td>40.721714</td>\n",
              "      <td>0.579</td>\n",
              "      <td>9.915</td>\n",
              "      <td>17.1</td>\n",
              "      <td>1</td>\n",
              "      <td>1</td>\n",
              "      <td>1</td>\n",
              "      <td>1</td>\n",
              "      <td>1</td>\n",
              "      <td>1</td>\n",
              "      <td>1</td>\n",
              "      <td>1</td>\n",
              "      <td>41.0</td>\n",
              "      <td>211.0</td>\n",
              "    </tr>\n",
              "    <tr>\n",
              "      <th>...</th>\n",
              "      <td>...</td>\n",
              "      <td>...</td>\n",
              "      <td>...</td>\n",
              "      <td>...</td>\n",
              "      <td>...</td>\n",
              "      <td>...</td>\n",
              "      <td>...</td>\n",
              "      <td>...</td>\n",
              "      <td>...</td>\n",
              "      <td>...</td>\n",
              "      <td>...</td>\n",
              "      <td>...</td>\n",
              "      <td>...</td>\n",
              "      <td>...</td>\n",
              "      <td>...</td>\n",
              "      <td>...</td>\n",
              "      <td>...</td>\n",
              "      <td>...</td>\n",
              "      <td>...</td>\n",
              "      <td>...</td>\n",
              "      <td>...</td>\n",
              "    </tr>\n",
              "    <tr>\n",
              "      <th>14283924</th>\n",
              "      <td>FFFECF75AB6CC4FF9E8A8B633AB81C26</td>\n",
              "      <td>D81D2A6BD1DFF04666B7F6E1DDDD5ADF</td>\n",
              "      <td>2013-01-31 21:12:00</td>\n",
              "      <td>2013-01-31 21:25:00</td>\n",
              "      <td>-74.005890</td>\n",
              "      <td>40.740166</td>\n",
              "      <td>-73.992104</td>\n",
              "      <td>40.717636</td>\n",
              "      <td>0.217</td>\n",
              "      <td>2.761</td>\n",
              "      <td>12.7</td>\n",
              "      <td>3</td>\n",
              "      <td>21</td>\n",
              "      <td>1</td>\n",
              "      <td>31</td>\n",
              "      <td>3</td>\n",
              "      <td>21</td>\n",
              "      <td>1</td>\n",
              "      <td>31</td>\n",
              "      <td>158.0</td>\n",
              "      <td>148.0</td>\n",
              "    </tr>\n",
              "    <tr>\n",
              "      <th>14283925</th>\n",
              "      <td>FFFECF75AB6CC4FF9E8A8B633AB81C26</td>\n",
              "      <td>D81D2A6BD1DFF04666B7F6E1DDDD5ADF</td>\n",
              "      <td>2013-01-31 22:14:00</td>\n",
              "      <td>2013-01-31 22:20:00</td>\n",
              "      <td>-73.988312</td>\n",
              "      <td>40.743584</td>\n",
              "      <td>-73.994537</td>\n",
              "      <td>40.729446</td>\n",
              "      <td>0.100</td>\n",
              "      <td>1.657</td>\n",
              "      <td>16.6</td>\n",
              "      <td>3</td>\n",
              "      <td>22</td>\n",
              "      <td>1</td>\n",
              "      <td>31</td>\n",
              "      <td>3</td>\n",
              "      <td>22</td>\n",
              "      <td>1</td>\n",
              "      <td>31</td>\n",
              "      <td>234.0</td>\n",
              "      <td>113.0</td>\n",
              "    </tr>\n",
              "    <tr>\n",
              "      <th>14283926</th>\n",
              "      <td>FFFECF75AB6CC4FF9E8A8B633AB81C26</td>\n",
              "      <td>D81D2A6BD1DFF04666B7F6E1DDDD5ADF</td>\n",
              "      <td>2013-01-31 22:20:00</td>\n",
              "      <td>2013-01-31 22:26:00</td>\n",
              "      <td>-73.994537</td>\n",
              "      <td>40.729446</td>\n",
              "      <td>-74.001534</td>\n",
              "      <td>40.735813</td>\n",
              "      <td>0.100</td>\n",
              "      <td>0.921</td>\n",
              "      <td>9.2</td>\n",
              "      <td>3</td>\n",
              "      <td>22</td>\n",
              "      <td>1</td>\n",
              "      <td>31</td>\n",
              "      <td>3</td>\n",
              "      <td>22</td>\n",
              "      <td>1</td>\n",
              "      <td>31</td>\n",
              "      <td>NaN</td>\n",
              "      <td>NaN</td>\n",
              "    </tr>\n",
              "    <tr>\n",
              "      <th>14283927</th>\n",
              "      <td>FFFECF75AB6CC4FF9E8A8B633AB81C26</td>\n",
              "      <td>D81D2A6BD1DFF04666B7F6E1DDDD5ADF</td>\n",
              "      <td>2013-01-31 22:26:00</td>\n",
              "      <td>2013-01-31 22:52:00</td>\n",
              "      <td>-74.001534</td>\n",
              "      <td>40.735813</td>\n",
              "      <td>-73.941978</td>\n",
              "      <td>40.674843</td>\n",
              "      <td>0.433</td>\n",
              "      <td>8.436</td>\n",
              "      <td>19.5</td>\n",
              "      <td>3</td>\n",
              "      <td>22</td>\n",
              "      <td>1</td>\n",
              "      <td>31</td>\n",
              "      <td>3</td>\n",
              "      <td>22</td>\n",
              "      <td>1</td>\n",
              "      <td>31</td>\n",
              "      <td>249.0</td>\n",
              "      <td>61.0</td>\n",
              "    </tr>\n",
              "    <tr>\n",
              "      <th>14283928</th>\n",
              "      <td>FFFECF75AB6CC4FF9E8A8B633AB81C26</td>\n",
              "      <td>D81D2A6BD1DFF04666B7F6E1DDDD5ADF</td>\n",
              "      <td>2013-01-31 23:55:00</td>\n",
              "      <td>2013-02-01 00:06:00</td>\n",
              "      <td>-73.989616</td>\n",
              "      <td>40.733768</td>\n",
              "      <td>-73.983627</td>\n",
              "      <td>40.765587</td>\n",
              "      <td>0.183</td>\n",
              "      <td>3.574</td>\n",
              "      <td>19.5</td>\n",
              "      <td>3</td>\n",
              "      <td>23</td>\n",
              "      <td>1</td>\n",
              "      <td>31</td>\n",
              "      <td>4</td>\n",
              "      <td>0</td>\n",
              "      <td>2</td>\n",
              "      <td>1</td>\n",
              "      <td>79.0</td>\n",
              "      <td>163.0</td>\n",
              "    </tr>\n",
              "  </tbody>\n",
              "</table>\n",
              "<p>14283929 rows × 21 columns</p>\n",
              "</div>"
            ],
            "text/plain": [
              "                                 medallion  ... dropoff_location_id\n",
              "0         00005007A9F30E289E760362F69E4EAD  ...               262.0\n",
              "1         00005007A9F30E289E760362F69E4EAD  ...               239.0\n",
              "2         00005007A9F30E289E760362F69E4EAD  ...               236.0\n",
              "3         00005007A9F30E289E760362F69E4EAD  ...                41.0\n",
              "4         00005007A9F30E289E760362F69E4EAD  ...               211.0\n",
              "...                                    ...  ...                 ...\n",
              "14283924  FFFECF75AB6CC4FF9E8A8B633AB81C26  ...               148.0\n",
              "14283925  FFFECF75AB6CC4FF9E8A8B633AB81C26  ...               113.0\n",
              "14283926  FFFECF75AB6CC4FF9E8A8B633AB81C26  ...                 NaN\n",
              "14283927  FFFECF75AB6CC4FF9E8A8B633AB81C26  ...                61.0\n",
              "14283928  FFFECF75AB6CC4FF9E8A8B633AB81C26  ...               163.0\n",
              "\n",
              "[14283929 rows x 21 columns]"
            ]
          },
          "metadata": {
            "tags": []
          },
          "execution_count": 50
        }
      ]
    },
    {
      "cell_type": "code",
      "metadata": {
        "id": "c2owm1kjci66",
        "colab": {
          "base_uri": "https://localhost:8080/",
          "height": 609
        },
        "outputId": "4ea3b7df-9bf1-44bb-cf93-c5b569f44cc3"
      },
      "source": [
        "trips_with_zones.loc[(trips_with_zones.dropoff_location_id.isnull()) | (trips_with_zones.pickup_location_id.isnull())]"
      ],
      "execution_count": null,
      "outputs": [
        {
          "output_type": "execute_result",
          "data": {
            "text/html": [
              "<div>\n",
              "<style scoped>\n",
              "    .dataframe tbody tr th:only-of-type {\n",
              "        vertical-align: middle;\n",
              "    }\n",
              "\n",
              "    .dataframe tbody tr th {\n",
              "        vertical-align: top;\n",
              "    }\n",
              "\n",
              "    .dataframe thead th {\n",
              "        text-align: right;\n",
              "    }\n",
              "</style>\n",
              "<table border=\"1\" class=\"dataframe\">\n",
              "  <thead>\n",
              "    <tr style=\"text-align: right;\">\n",
              "      <th></th>\n",
              "      <th>medallion</th>\n",
              "      <th>hack_license</th>\n",
              "      <th>pickup_datetime</th>\n",
              "      <th>dropoff_datetime</th>\n",
              "      <th>pickup_longitude</th>\n",
              "      <th>pickup_latitude</th>\n",
              "      <th>dropoff_longitude</th>\n",
              "      <th>dropoff_latitude</th>\n",
              "      <th>trip_time</th>\n",
              "      <th>haversine_distance</th>\n",
              "      <th>speed</th>\n",
              "      <th>pickup_week_day</th>\n",
              "      <th>pickup_hour</th>\n",
              "      <th>pickup_month</th>\n",
              "      <th>pickup_day</th>\n",
              "      <th>dropoff_week_day</th>\n",
              "      <th>dropoff_hour</th>\n",
              "      <th>dropoff_month</th>\n",
              "      <th>dropoff_day</th>\n",
              "      <th>pickup_location_id</th>\n",
              "      <th>dropoff_location_id</th>\n",
              "    </tr>\n",
              "  </thead>\n",
              "  <tbody>\n",
              "    <tr>\n",
              "      <th>2</th>\n",
              "      <td>00005007A9F30E289E760362F69E4EAD</td>\n",
              "      <td>A9AE329EA1138052DAC8FDFD8BA86603</td>\n",
              "      <td>2013-01-01 00:59:38</td>\n",
              "      <td>2013-01-01 01:05:59</td>\n",
              "      <td>-73.979164</td>\n",
              "      <td>40.780136</td>\n",
              "      <td>-73.961884</td>\n",
              "      <td>40.774754</td>\n",
              "      <td>0.106</td>\n",
              "      <td>1.573</td>\n",
              "      <td>14.8</td>\n",
              "      <td>1</td>\n",
              "      <td>0</td>\n",
              "      <td>1</td>\n",
              "      <td>1</td>\n",
              "      <td>1</td>\n",
              "      <td>1</td>\n",
              "      <td>1</td>\n",
              "      <td>1</td>\n",
              "      <td>239.0</td>\n",
              "      <td>NaN</td>\n",
              "    </tr>\n",
              "    <tr>\n",
              "      <th>8</th>\n",
              "      <td>00005007A9F30E289E760362F69E4EAD</td>\n",
              "      <td>A9AE329EA1138052DAC8FDFD8BA86603</td>\n",
              "      <td>2013-01-01 02:43:02</td>\n",
              "      <td>2013-01-01 03:00:27</td>\n",
              "      <td>-73.953056</td>\n",
              "      <td>40.780090</td>\n",
              "      <td>-73.993317</td>\n",
              "      <td>40.758999</td>\n",
              "      <td>0.290</td>\n",
              "      <td>4.123</td>\n",
              "      <td>14.2</td>\n",
              "      <td>1</td>\n",
              "      <td>2</td>\n",
              "      <td>1</td>\n",
              "      <td>1</td>\n",
              "      <td>1</td>\n",
              "      <td>3</td>\n",
              "      <td>1</td>\n",
              "      <td>1</td>\n",
              "      <td>263.0</td>\n",
              "      <td>NaN</td>\n",
              "    </tr>\n",
              "    <tr>\n",
              "      <th>9</th>\n",
              "      <td>00005007A9F30E289E760362F69E4EAD</td>\n",
              "      <td>A9AE329EA1138052DAC8FDFD8BA86603</td>\n",
              "      <td>2013-01-01 03:00:27</td>\n",
              "      <td>2013-01-01 03:06:36</td>\n",
              "      <td>-73.993317</td>\n",
              "      <td>40.758999</td>\n",
              "      <td>-74.001915</td>\n",
              "      <td>40.760899</td>\n",
              "      <td>0.102</td>\n",
              "      <td>0.754</td>\n",
              "      <td>7.4</td>\n",
              "      <td>1</td>\n",
              "      <td>3</td>\n",
              "      <td>1</td>\n",
              "      <td>1</td>\n",
              "      <td>1</td>\n",
              "      <td>3</td>\n",
              "      <td>1</td>\n",
              "      <td>1</td>\n",
              "      <td>NaN</td>\n",
              "      <td>246.0</td>\n",
              "    </tr>\n",
              "    <tr>\n",
              "      <th>14</th>\n",
              "      <td>00005007A9F30E289E760362F69E4EAD</td>\n",
              "      <td>A9AE329EA1138052DAC8FDFD8BA86603</td>\n",
              "      <td>2013-01-01 04:24:35</td>\n",
              "      <td>2013-01-01 04:31:21</td>\n",
              "      <td>-73.988106</td>\n",
              "      <td>40.760326</td>\n",
              "      <td>-73.995361</td>\n",
              "      <td>40.758991</td>\n",
              "      <td>0.113</td>\n",
              "      <td>0.629</td>\n",
              "      <td>5.6</td>\n",
              "      <td>1</td>\n",
              "      <td>4</td>\n",
              "      <td>1</td>\n",
              "      <td>1</td>\n",
              "      <td>1</td>\n",
              "      <td>4</td>\n",
              "      <td>1</td>\n",
              "      <td>1</td>\n",
              "      <td>48.0</td>\n",
              "      <td>NaN</td>\n",
              "    </tr>\n",
              "    <tr>\n",
              "      <th>18</th>\n",
              "      <td>00005007A9F30E289E760362F69E4EAD</td>\n",
              "      <td>43468C5D35F828693D96CB7CC9FDF341</td>\n",
              "      <td>2013-01-01 07:04:33</td>\n",
              "      <td>2013-01-01 07:16:03</td>\n",
              "      <td>-73.997002</td>\n",
              "      <td>40.732533</td>\n",
              "      <td>-73.970032</td>\n",
              "      <td>40.764423</td>\n",
              "      <td>0.192</td>\n",
              "      <td>4.211</td>\n",
              "      <td>21.9</td>\n",
              "      <td>1</td>\n",
              "      <td>7</td>\n",
              "      <td>1</td>\n",
              "      <td>1</td>\n",
              "      <td>1</td>\n",
              "      <td>7</td>\n",
              "      <td>1</td>\n",
              "      <td>1</td>\n",
              "      <td>NaN</td>\n",
              "      <td>237.0</td>\n",
              "    </tr>\n",
              "    <tr>\n",
              "      <th>...</th>\n",
              "      <td>...</td>\n",
              "      <td>...</td>\n",
              "      <td>...</td>\n",
              "      <td>...</td>\n",
              "      <td>...</td>\n",
              "      <td>...</td>\n",
              "      <td>...</td>\n",
              "      <td>...</td>\n",
              "      <td>...</td>\n",
              "      <td>...</td>\n",
              "      <td>...</td>\n",
              "      <td>...</td>\n",
              "      <td>...</td>\n",
              "      <td>...</td>\n",
              "      <td>...</td>\n",
              "      <td>...</td>\n",
              "      <td>...</td>\n",
              "      <td>...</td>\n",
              "      <td>...</td>\n",
              "      <td>...</td>\n",
              "      <td>...</td>\n",
              "    </tr>\n",
              "    <tr>\n",
              "      <th>14283916</th>\n",
              "      <td>FFFECF75AB6CC4FF9E8A8B633AB81C26</td>\n",
              "      <td>D81D2A6BD1DFF04666B7F6E1DDDD5ADF</td>\n",
              "      <td>2013-01-31 19:07:00</td>\n",
              "      <td>2013-01-31 19:27:00</td>\n",
              "      <td>-73.967987</td>\n",
              "      <td>40.787090</td>\n",
              "      <td>-73.981651</td>\n",
              "      <td>40.768051</td>\n",
              "      <td>0.333</td>\n",
              "      <td>2.409</td>\n",
              "      <td>7.2</td>\n",
              "      <td>3</td>\n",
              "      <td>19</td>\n",
              "      <td>1</td>\n",
              "      <td>31</td>\n",
              "      <td>3</td>\n",
              "      <td>19</td>\n",
              "      <td>1</td>\n",
              "      <td>31</td>\n",
              "      <td>43.0</td>\n",
              "      <td>NaN</td>\n",
              "    </tr>\n",
              "    <tr>\n",
              "      <th>14283922</th>\n",
              "      <td>FFFECF75AB6CC4FF9E8A8B633AB81C26</td>\n",
              "      <td>D81D2A6BD1DFF04666B7F6E1DDDD5ADF</td>\n",
              "      <td>2013-01-31 20:46:00</td>\n",
              "      <td>2013-01-31 20:59:00</td>\n",
              "      <td>-73.989037</td>\n",
              "      <td>40.760296</td>\n",
              "      <td>-74.006523</td>\n",
              "      <td>40.731655</td>\n",
              "      <td>0.217</td>\n",
              "      <td>3.509</td>\n",
              "      <td>16.2</td>\n",
              "      <td>3</td>\n",
              "      <td>20</td>\n",
              "      <td>1</td>\n",
              "      <td>31</td>\n",
              "      <td>3</td>\n",
              "      <td>20</td>\n",
              "      <td>1</td>\n",
              "      <td>31</td>\n",
              "      <td>NaN</td>\n",
              "      <td>NaN</td>\n",
              "    </tr>\n",
              "    <tr>\n",
              "      <th>14283923</th>\n",
              "      <td>FFFECF75AB6CC4FF9E8A8B633AB81C26</td>\n",
              "      <td>D81D2A6BD1DFF04666B7F6E1DDDD5ADF</td>\n",
              "      <td>2013-01-31 21:04:00</td>\n",
              "      <td>2013-01-31 21:12:00</td>\n",
              "      <td>-74.005890</td>\n",
              "      <td>40.740166</td>\n",
              "      <td>-74.014458</td>\n",
              "      <td>40.713196</td>\n",
              "      <td>0.133</td>\n",
              "      <td>3.085</td>\n",
              "      <td>23.2</td>\n",
              "      <td>3</td>\n",
              "      <td>21</td>\n",
              "      <td>1</td>\n",
              "      <td>31</td>\n",
              "      <td>3</td>\n",
              "      <td>21</td>\n",
              "      <td>1</td>\n",
              "      <td>31</td>\n",
              "      <td>NaN</td>\n",
              "      <td>13.0</td>\n",
              "    </tr>\n",
              "    <tr>\n",
              "      <th>14283924</th>\n",
              "      <td>FFFECF75AB6CC4FF9E8A8B633AB81C26</td>\n",
              "      <td>D81D2A6BD1DFF04666B7F6E1DDDD5ADF</td>\n",
              "      <td>2013-01-31 21:12:00</td>\n",
              "      <td>2013-01-31 21:25:00</td>\n",
              "      <td>-74.005890</td>\n",
              "      <td>40.740166</td>\n",
              "      <td>-73.992104</td>\n",
              "      <td>40.717636</td>\n",
              "      <td>0.217</td>\n",
              "      <td>2.761</td>\n",
              "      <td>12.7</td>\n",
              "      <td>3</td>\n",
              "      <td>21</td>\n",
              "      <td>1</td>\n",
              "      <td>31</td>\n",
              "      <td>3</td>\n",
              "      <td>21</td>\n",
              "      <td>1</td>\n",
              "      <td>31</td>\n",
              "      <td>NaN</td>\n",
              "      <td>148.0</td>\n",
              "    </tr>\n",
              "    <tr>\n",
              "      <th>14283926</th>\n",
              "      <td>FFFECF75AB6CC4FF9E8A8B633AB81C26</td>\n",
              "      <td>D81D2A6BD1DFF04666B7F6E1DDDD5ADF</td>\n",
              "      <td>2013-01-31 22:20:00</td>\n",
              "      <td>2013-01-31 22:26:00</td>\n",
              "      <td>-73.994537</td>\n",
              "      <td>40.729446</td>\n",
              "      <td>-74.001534</td>\n",
              "      <td>40.735813</td>\n",
              "      <td>0.100</td>\n",
              "      <td>0.921</td>\n",
              "      <td>9.2</td>\n",
              "      <td>3</td>\n",
              "      <td>22</td>\n",
              "      <td>1</td>\n",
              "      <td>31</td>\n",
              "      <td>3</td>\n",
              "      <td>22</td>\n",
              "      <td>1</td>\n",
              "      <td>31</td>\n",
              "      <td>NaN</td>\n",
              "      <td>NaN</td>\n",
              "    </tr>\n",
              "  </tbody>\n",
              "</table>\n",
              "<p>4747757 rows × 21 columns</p>\n",
              "</div>"
            ],
            "text/plain": [
              "                                 medallion  ... dropoff_location_id\n",
              "2         00005007A9F30E289E760362F69E4EAD  ...                 NaN\n",
              "8         00005007A9F30E289E760362F69E4EAD  ...                 NaN\n",
              "9         00005007A9F30E289E760362F69E4EAD  ...               246.0\n",
              "14        00005007A9F30E289E760362F69E4EAD  ...                 NaN\n",
              "18        00005007A9F30E289E760362F69E4EAD  ...               237.0\n",
              "...                                    ...  ...                 ...\n",
              "14283916  FFFECF75AB6CC4FF9E8A8B633AB81C26  ...                 NaN\n",
              "14283922  FFFECF75AB6CC4FF9E8A8B633AB81C26  ...                 NaN\n",
              "14283923  FFFECF75AB6CC4FF9E8A8B633AB81C26  ...                13.0\n",
              "14283924  FFFECF75AB6CC4FF9E8A8B633AB81C26  ...               148.0\n",
              "14283926  FFFECF75AB6CC4FF9E8A8B633AB81C26  ...                 NaN\n",
              "\n",
              "[4747757 rows x 21 columns]"
            ]
          },
          "metadata": {
            "tags": []
          },
          "execution_count": 12
        }
      ]
    },
    {
      "cell_type": "markdown",
      "metadata": {
        "id": "H8OiUkguIswO"
      },
      "source": [
        "## Last operations"
      ]
    },
    {
      "cell_type": "markdown",
      "metadata": {
        "id": "JoV276HiIx7T"
      },
      "source": [
        "Check the min location ID already used"
      ]
    },
    {
      "cell_type": "code",
      "metadata": {
        "id": "kJTeyk99I5J_"
      },
      "source": [
        "zones.location_i.min()"
      ],
      "execution_count": null,
      "outputs": []
    },
    {
      "cell_type": "markdown",
      "metadata": {
        "id": "Ow1E1yvwJJx6"
      },
      "source": [
        "Set the Out of the City location ID to 0"
      ]
    },
    {
      "cell_type": "code",
      "metadata": {
        "id": "QfZyD5mEJRND"
      },
      "source": [
        "OoC_ID = 0"
      ],
      "execution_count": null,
      "outputs": []
    },
    {
      "cell_type": "markdown",
      "metadata": {
        "id": "XX8wKMB6JYBS"
      },
      "source": [
        "Extract the columns we will need for training"
      ]
    },
    {
      "cell_type": "code",
      "metadata": {
        "id": "PZxw-vBUJdro",
        "colab": {
          "base_uri": "https://localhost:8080/",
          "height": 136
        },
        "outputId": "57276a1d-93ed-4a10-87b6-06502798c782"
      },
      "source": [
        "trips_with_zones.columns"
      ],
      "execution_count": null,
      "outputs": [
        {
          "output_type": "execute_result",
          "data": {
            "text/plain": [
              "Index(['medallion', 'hack_license', 'pickup_datetime', 'dropoff_datetime',\n",
              "       'pickup_longitude', 'pickup_latitude', 'dropoff_longitude',\n",
              "       'dropoff_latitude', 'trip_time', 'haversine_distance', 'speed',\n",
              "       'pickup_week_day', 'pickup_hour', 'pickup_month', 'pickup_day',\n",
              "       'dropoff_week_day', 'dropoff_hour', 'dropoff_month', 'dropoff_day',\n",
              "       'pickup_location_id', 'dropoff_location_id'],\n",
              "      dtype='object')"
            ]
          },
          "metadata": {
            "tags": []
          },
          "execution_count": 10
        }
      ]
    },
    {
      "cell_type": "code",
      "metadata": {
        "id": "tTcIn67iJjaN"
      },
      "source": [
        "january = trips_with_zones[['medallion', 'pickup_week_day', 'pickup_hour', 'pickup_day', 'pickup_month', 'dropoff_week_day', 'dropoff_hour', 'dropoff_day', 'dropoff_month', 'pickup_location_id', 'dropoff_location_id']]#.copy()"
      ],
      "execution_count": null,
      "outputs": []
    },
    {
      "cell_type": "code",
      "metadata": {
        "id": "poHmEKqWKEzF",
        "colab": {
          "base_uri": "https://localhost:8080/",
          "height": 119
        },
        "outputId": "8594bb36-aa53-44a1-99a5-71e92a4cabeb"
      },
      "source": [
        "january.loc[january.pickup_location_id.isnull(), 'pickup_location_id'] = 0.0"
      ],
      "execution_count": null,
      "outputs": [
        {
          "output_type": "stream",
          "text": [
            "/usr/local/lib/python3.6/dist-packages/pandas/core/indexing.py:966: SettingWithCopyWarning: \n",
            "A value is trying to be set on a copy of a slice from a DataFrame.\n",
            "Try using .loc[row_indexer,col_indexer] = value instead\n",
            "\n",
            "See the caveats in the documentation: https://pandas.pydata.org/pandas-docs/stable/user_guide/indexing.html#returning-a-view-versus-a-copy\n",
            "  self.obj[item] = s\n"
          ],
          "name": "stderr"
        }
      ]
    },
    {
      "cell_type": "code",
      "metadata": {
        "id": "uXXISLhQ5Z9j"
      },
      "source": [
        "january.loc[january.pickup_location_id == 0.0]"
      ],
      "execution_count": null,
      "outputs": []
    },
    {
      "cell_type": "markdown",
      "metadata": {
        "id": "1nog0yixJQkJ"
      },
      "source": [
        "The same now with dropoff"
      ]
    },
    {
      "cell_type": "code",
      "metadata": {
        "id": "G57JBhYc5q4W",
        "colab": {
          "base_uri": "https://localhost:8080/",
          "height": 119
        },
        "outputId": "0e1d818c-52d5-464f-ab00-3dedfa07534d"
      },
      "source": [
        "january.loc[january.dropoff_location_id.isnull(), 'dropoff_location_id'] = 0.0"
      ],
      "execution_count": null,
      "outputs": [
        {
          "output_type": "stream",
          "text": [
            "/usr/local/lib/python3.6/dist-packages/pandas/core/indexing.py:966: SettingWithCopyWarning: \n",
            "A value is trying to be set on a copy of a slice from a DataFrame.\n",
            "Try using .loc[row_indexer,col_indexer] = value instead\n",
            "\n",
            "See the caveats in the documentation: https://pandas.pydata.org/pandas-docs/stable/user_guide/indexing.html#returning-a-view-versus-a-copy\n",
            "  self.obj[item] = s\n"
          ],
          "name": "stderr"
        }
      ]
    },
    {
      "cell_type": "code",
      "metadata": {
        "id": "zJMK20835wp2"
      },
      "source": [
        "january.loc[january.dropoff_location_id == 0.0]"
      ],
      "execution_count": null,
      "outputs": []
    },
    {
      "cell_type": "code",
      "metadata": {
        "id": "nAFmJalg56Lp"
      },
      "source": [
        "january.loc[(january.dropoff_location_id == 0.0) & (january.pickup_location_id > 0.0)]"
      ],
      "execution_count": null,
      "outputs": []
    },
    {
      "cell_type": "code",
      "metadata": {
        "id": "hr1vUmtbdfGf",
        "colab": {
          "base_uri": "https://localhost:8080/",
          "height": 221
        },
        "outputId": "13e491f3-9ee4-47e5-b3ec-aeae472c3707"
      },
      "source": [
        "# check for null values\n",
        "january.isnull().sum()"
      ],
      "execution_count": null,
      "outputs": [
        {
          "output_type": "execute_result",
          "data": {
            "text/plain": [
              "medallion              0\n",
              "pickup_week_day        0\n",
              "pickup_hour            0\n",
              "pickup_day             0\n",
              "pickup_month           0\n",
              "dropoff_week_day       0\n",
              "dropoff_hour           0\n",
              "dropoff_day            0\n",
              "dropoff_month          0\n",
              "pickup_location_id     0\n",
              "dropoff_location_id    0\n",
              "dtype: int64"
            ]
          },
          "metadata": {
            "tags": []
          },
          "execution_count": 16
        }
      ]
    },
    {
      "cell_type": "code",
      "metadata": {
        "id": "oooHAU1odaza"
      },
      "source": [
        "# Save the dataset\n",
        "january.to_csv( baseURL + 'trips_with_zones_final.csv', index=False)"
      ],
      "execution_count": null,
      "outputs": []
    },
    {
      "cell_type": "code",
      "metadata": {
        "id": "XBsiLzR2GXSa"
      },
      "source": [
        "january.head(1000000).to_csv( baseURL + 'trips_with_zones_10000000.csv', index=False)"
      ],
      "execution_count": null,
      "outputs": []
    },
    {
      "cell_type": "code",
      "metadata": {
        "id": "FRDAAsaY5K5G",
        "colab": {
          "base_uri": "https://localhost:8080/",
          "height": 197
        },
        "outputId": "485ece9a-8852-4d54-b779-234ffa724f7d"
      },
      "source": [
        "# how many rows?\n",
        "df = pd.read_csv('/Users/usi/Desktop/Thesis/NYC_2013/Processed/trips_with_zones_1.csv')\n",
        "df.head()"
      ],
      "execution_count": null,
      "outputs": [
        {
          "output_type": "execute_result",
          "data": {
            "text/plain": [
              "                          medallion  pickup_week_day  pickup_hour  \\\n",
              "0  00005007A9F30E289E760362F69E4EAD                1            0   \n",
              "1  00005007A9F30E289E760362F69E4EAD                1            0   \n",
              "2  00005007A9F30E289E760362F69E4EAD                1            0   \n",
              "3  00005007A9F30E289E760362F69E4EAD                1            1   \n",
              "4  00005007A9F30E289E760362F69E4EAD                1            1   \n",
              "\n",
              "   pickup_month  pickup_location_id  dropoff_location_id  \n",
              "0             1               162.0                262.0  \n",
              "1             1               262.0                239.0  \n",
              "2             1               239.0                236.0  \n",
              "3             1               236.0                 41.0  \n",
              "4             1                41.0                211.0  "
            ],
            "text/html": [
              "<div>\n",
              "<style scoped>\n",
              "    .dataframe tbody tr th:only-of-type {\n",
              "        vertical-align: middle;\n",
              "    }\n",
              "\n",
              "    .dataframe tbody tr th {\n",
              "        vertical-align: top;\n",
              "    }\n",
              "\n",
              "    .dataframe thead th {\n",
              "        text-align: right;\n",
              "    }\n",
              "</style>\n",
              "<table border=\"1\" class=\"dataframe\">\n",
              "  <thead>\n",
              "    <tr style=\"text-align: right;\">\n",
              "      <th></th>\n",
              "      <th>medallion</th>\n",
              "      <th>pickup_week_day</th>\n",
              "      <th>pickup_hour</th>\n",
              "      <th>pickup_month</th>\n",
              "      <th>pickup_location_id</th>\n",
              "      <th>dropoff_location_id</th>\n",
              "    </tr>\n",
              "  </thead>\n",
              "  <tbody>\n",
              "    <tr>\n",
              "      <th>0</th>\n",
              "      <td>00005007A9F30E289E760362F69E4EAD</td>\n",
              "      <td>1</td>\n",
              "      <td>0</td>\n",
              "      <td>1</td>\n",
              "      <td>162.0</td>\n",
              "      <td>262.0</td>\n",
              "    </tr>\n",
              "    <tr>\n",
              "      <th>1</th>\n",
              "      <td>00005007A9F30E289E760362F69E4EAD</td>\n",
              "      <td>1</td>\n",
              "      <td>0</td>\n",
              "      <td>1</td>\n",
              "      <td>262.0</td>\n",
              "      <td>239.0</td>\n",
              "    </tr>\n",
              "    <tr>\n",
              "      <th>2</th>\n",
              "      <td>00005007A9F30E289E760362F69E4EAD</td>\n",
              "      <td>1</td>\n",
              "      <td>0</td>\n",
              "      <td>1</td>\n",
              "      <td>239.0</td>\n",
              "      <td>236.0</td>\n",
              "    </tr>\n",
              "    <tr>\n",
              "      <th>3</th>\n",
              "      <td>00005007A9F30E289E760362F69E4EAD</td>\n",
              "      <td>1</td>\n",
              "      <td>1</td>\n",
              "      <td>1</td>\n",
              "      <td>236.0</td>\n",
              "      <td>41.0</td>\n",
              "    </tr>\n",
              "    <tr>\n",
              "      <th>4</th>\n",
              "      <td>00005007A9F30E289E760362F69E4EAD</td>\n",
              "      <td>1</td>\n",
              "      <td>1</td>\n",
              "      <td>1</td>\n",
              "      <td>41.0</td>\n",
              "      <td>211.0</td>\n",
              "    </tr>\n",
              "  </tbody>\n",
              "</table>\n",
              "</div>"
            ]
          },
          "metadata": {
            "tags": []
          },
          "execution_count": 2
        }
      ]
    },
    {
      "cell_type": "code",
      "metadata": {
        "id": "VeU5KXVq5f3v",
        "colab": {
          "base_uri": "https://localhost:8080/",
          "height": 247
        },
        "outputId": "1e743c54-e849-4f87-a8d7-e96f8681d207"
      },
      "source": [
        "df.info()"
      ],
      "execution_count": null,
      "outputs": [
        {
          "output_type": "stream",
          "text": [
            "<class 'pandas.core.frame.DataFrame'>\n",
            "RangeIndex: 14980602 entries, 0 to 14980601\n",
            "Data columns (total 6 columns):\n",
            " #   Column               Dtype  \n",
            "---  ------               -----  \n",
            " 0   medallion            object \n",
            " 1   pickup_week_day      int64  \n",
            " 2   pickup_hour          int64  \n",
            " 3   pickup_month         int64  \n",
            " 4   pickup_location_id   float64\n",
            " 5   dropoff_location_id  float64\n",
            "dtypes: float64(2), int64(3), object(1)\n",
            "memory usage: 685.8+ MB\n"
          ],
          "name": "stdout"
        }
      ]
    },
    {
      "cell_type": "markdown",
      "metadata": {
        "id": "wRmzmqEzyh1k"
      },
      "source": [
        "Save the pre-processed dataset"
      ]
    },
    {
      "cell_type": "code",
      "metadata": {
        "id": "0o9qBTJjylEd"
      },
      "source": [
        "df.to_csv('/Users/AAAA/Desktop/Dataset/trips_1000000.csv', index=False)"
      ],
      "execution_count": null,
      "outputs": []
    }
  ]
}